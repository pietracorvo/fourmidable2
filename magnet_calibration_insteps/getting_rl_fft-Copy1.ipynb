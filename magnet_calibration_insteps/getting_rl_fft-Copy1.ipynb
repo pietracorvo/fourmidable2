{
 "cells": [
  {
   "cell_type": "code",
   "execution_count": 46,
   "metadata": {},
   "outputs": [],
   "source": [
    "%matplotlib qt\n",
    "import numpy as np\n",
    "import pandas as pd\n",
    "import matplotlib.pyplot as plt\n",
    "import h5py\n",
    "import os\n",
    "from scipy.stats import binned_statistic\n",
    "from scipy.optimize import curve_fit\n",
    "import concurrent\n",
    "import pickle\n",
    "\n",
    "import matplotlib\n",
    "font = {'size'   : 16}\n",
    "matplotlib.rc('font', **font)"
   ]
  },
  {
   "cell_type": "markdown",
   "metadata": {},
   "source": [
    "### Get the file path"
   ]
  },
  {
   "cell_type": "code",
   "execution_count": 110,
   "metadata": {},
   "outputs": [
    {
     "name": "stdout",
     "output_type": "stream",
     "text": [
      "True\n"
     ]
    }
   ],
   "source": [
    "pole = 2\n",
    "file_path = r\"C:\\Users\\lukas\\OneDrive - University of Cambridge\\PhD\\3DMOKE\\Data\\MagnetCalibration\\rl_response_data_pole{}.h5\".format(pole)\n",
    "print(os.path.isfile(file_path))\n",
    "out_folder = 'results'\n",
    "try:\n",
    "    os.stat(out_folder)\n",
    "except:\n",
    "    os.mkdir(out_folder) \n",
    "poles = [0, 1, 2]\n",
    "poles_dict = {0:'A', 1:'B', 2:'C'}"
   ]
  },
  {
   "cell_type": "markdown",
   "metadata": {},
   "source": [
    "### Get the real resistance"
   ]
  },
  {
   "cell_type": "code",
   "execution_count": 90,
   "metadata": {},
   "outputs": [
    {
     "name": "stdout",
     "output_type": "stream",
     "text": [
      "Resistance R:2.1185\n",
      "Error Rerr:0.001202298743240538\n",
      "Resistance R:2.1088\n",
      "Error Rerr:0.0013526488811633503\n",
      "Resistance R:2.0759\n",
      "Error Rerr:0.001395405336721251\n"
     ]
    }
   ],
   "source": [
    "from scipy.optimize import curve_fit\n",
    "\n",
    "plt.close('all')\n",
    "fig = plt.figure(figsize=(20, 5))\n",
    "R_poles = np.zeros(3)\n",
    "for pole in poles:\n",
    "    file_path = r\"C:\\Users\\lukas\\OneDrive - University of Cambridge\\PhD\\3DMOKE\\Data\\MagnetCalibration\\rl_response_data_pole{}.h5\".format(pole)\n",
    "    with h5py.File(file_path, 'r') as f:\n",
    "        const_keys = list(f['dc_response'].keys())\n",
    "        I = np.zeros(len(const_keys))\n",
    "        V = np.zeros(len(const_keys))\n",
    "        for i, c in enumerate(const_keys):\n",
    "            hx = f['dc_response/'+c+'/hexapole/data'][:]\n",
    "            v = f['dc_response/'+c+'/v_measurement/data'][:]\n",
    "            I[i] = np.mean(hx[:, pole+1])\n",
    "            V[i] = -np.mean(v[:, 1])\n",
    "            \n",
    "    plt.subplot(1, len(poles), pole+1)\n",
    "    plt.scatter(V, I, label='Data')   \n",
    "    plt.xlabel('Voltage [V]')\n",
    "    plt.ylabel('Current [A]')\n",
    "    \n",
    "    \n",
    "    f = lambda x, a: a*x\n",
    "    R, Rerr = curve_fit(f, I, V)\n",
    "    R = R[0]\n",
    "    Rerr = np.sqrt(np.diag(Rerr))[0]\n",
    "    print('Resistance R:{:.4f}'.format(R))\n",
    "    R_poles[pole] = R\n",
    "    \n",
    "    print('Error Rerr:{:}'.format(Rerr))\n",
    "    x = np.linspace(0, np.max(V), 100)\n",
    "    plt.plot(x, x/R, color='r', label='Ohms law fit')\n",
    "    \n",
    "    plt.legend()\n",
    "    plt.title('Resistance {}: {:.3f} \\u00B1 {:.3f} \\u03A9'.format(poles_dict[pole], R, Rerr))\n",
    "\n",
    "plt.tight_layout()\n",
    "plt.savefig(os.path.join(out_folder, 'RL response pole.png'))\n"
   ]
  },
  {
   "cell_type": "code",
   "execution_count": 27,
   "metadata": {},
   "outputs": [
    {
     "data": {
      "text/plain": [
       "array([2.11845714, 2.10878223, 2.07589811])"
      ]
     },
     "execution_count": 27,
     "metadata": {},
     "output_type": "execute_result"
    }
   ],
   "source": [
    "R_poles"
   ]
  },
  {
   "cell_type": "code",
   "execution_count": 9,
   "metadata": {},
   "outputs": [
    {
     "data": {
      "text/plain": [
       "(array([2.07589811]), array([[1.94715605e-06]]))"
      ]
     },
     "execution_count": 9,
     "metadata": {},
     "output_type": "execute_result"
    }
   ],
   "source": [
    "\n",
    "\n",
    "f = lambda x, a: a*x\n",
    "curve_fit(f, I, V)"
   ]
  },
  {
   "cell_type": "markdown",
   "metadata": {},
   "source": [
    "### Getting the frequency response"
   ]
  },
  {
   "cell_type": "code",
   "execution_count": 117,
   "metadata": {},
   "outputs": [],
   "source": [
    "def extract_max_amp(data, invert_fun=None, timestep=1/10000):\n",
    "    \"\"\"Extracts the frequency from the loops experiment given the instrument group.\n",
    "        Returns an array frequency, max amp, phase\n",
    "    \"\"\"\n",
    "    if invert_fun is not None:\n",
    "        data = invert_fun(data)\n",
    "    \n",
    "    # extract fft\n",
    "    n = data.shape[0]\n",
    "    fft = np.fft.rfft(data, axis=0) / (n / 2)\n",
    "    fft_phase = np.angle(fft)\n",
    "    fft_amp = np.absolute(fft)\n",
    "    freq = np.fft.rfftfreq(n, d=timestep)\n",
    "    \n",
    "    # get the maximum amplitude\n",
    "    indx = np.unravel_index(np.argmax(fft_amp, axis=None), fft_amp.shape)\n",
    "    \n",
    "    return np.array([freq[indx[0]], fft_amp[indx], fft_phase[indx]])\n",
    "\n",
    "def extract_loop_data(grp, instrument):\n",
    "    data = np.vstack([grp[key][instrument]['data'][:] for key in grp.keys()])\n",
    "    return data\n",
    "\n",
    "\n",
    "def get_frequency_data(file_path, pole='0'):\n",
    "    \"\"\"Gets the fourier data from the frequency response experiment for the given pole of the magnet given the file path\"\"\"\n",
    "    instruments=['v_measurement', 'hexapole']\n",
    "    data = {key:[] for key in instruments}\n",
    "    with h5py.File(file_path, 'r') as f:\n",
    "        grp_loops = f['frequency_response/pole'+pole]\n",
    "        n_loops = len(grp_loops.keys())\n",
    "        for i, loops in enumerate(grp_loops.keys()):\n",
    "            try:\n",
    "    #             print('Loop {}/{}'.format(i, n_loops))\n",
    "                for inst in instruments:\n",
    "                    # get the data for the instrument\n",
    "                    loop_data = extract_loop_data(grp_loops[loops], inst)\n",
    "                    max_amp = extract_max_amp(loop_data[:, 1:], timestep = loop_data[1, 0]-loop_data[0, 0])\n",
    "                    data[inst].append(max_amp)\n",
    "            except:\n",
    "                print('Data gave an error: ', loops)\n",
    "    for inst in data:\n",
    "        data[inst] = np.vstack(data[inst])\n",
    "    \n",
    "    return data\n",
    "\n",
    "def format_freq_data(freq_data):\n",
    "    \"\"\"Formats the data and gets rid of the non matching data\"\"\"\n",
    "    data_out = pd.DataFrame(np.hstack((freq_data['hexapole'], freq_data['v_measurement'])), \n",
    "                            columns=['i_freq', 'i_amp', 'i_phase', 'v_freq', 'v_amp', 'v_phase'])\n",
    "    # make sure that all of the data matches (i.e. hallprobe and hexapole frequencies corresponse)\n",
    "    freq_delta = np.abs(data_out['i_freq'] - data_out['v_freq'])\n",
    "    print('There are {} data points where frequencies do not match.'.format(np.sum(freq_delta>=1/100)))\n",
    "    data_out = data_out.loc[freq_delta<1/100, :]\n",
    "    # drop one of the frequencies and calculate the phase delta\n",
    "    data_out.drop(columns='v_freq', inplace=True)\n",
    "    data_out.rename(columns={'i_freq':'freq'}, inplace=True)\n",
    "    data_out['phase_delta'] = (data_out['v_phase'] - data_out['i_phase'])#%(2*np.pi)\n",
    "    \n",
    "    return data_out\n",
    "\n",
    "def get_formatted_data(file_path, pole):\n",
    "    data = get_frequency_data(file_path, pole=str(pole))\n",
    "    return format_freq_data(data)\n",
    "\n",
    "\n",
    "def get_amps(file_path, pole='0'):\n",
    "    \"\"\"Gets the amplitude of the data for the given pole of the magnet given the file path\"\"\"\n",
    "    instruments=['v_measurement', 'hexapole']\n",
    "    data = {key:[] for key in instruments}\n",
    "    with h5py.File(file_path, 'r') as f:\n",
    "        print(list(f['frequency_response'].keys()))\n",
    "        grp_loops = f['frequency_response/pole'+pole]\n",
    "        n_loops = len(grp_loops.keys())\n",
    "        for i, loops in enumerate(grp_loops.keys()):\n",
    "            try:\n",
    "                for inst in instruments:\n",
    "                    # get the data for the instrument\n",
    "                    loop_data = extract_loop_data(grp_loops[loops], inst)\n",
    "                    period = grp_loops['loops'].attrs['period']\n",
    "                    data[inst].append(np.array([1/period, (np.max(loop_data) - np.min(loop_data))/2]))\n",
    "            except:\n",
    "                print('Data gave an error: ', loops)\n",
    "    for inst in data:\n",
    "        data[inst] = np.vstack(data[inst])\n",
    "    return data\n"
   ]
  },
  {
   "cell_type": "markdown",
   "metadata": {},
   "source": [
    "### Run the extraction by only looking at the amplitude of the data"
   ]
  },
  {
   "cell_type": "code",
   "execution_count": 119,
   "metadata": {},
   "outputs": [
    {
     "name": "stdout",
     "output_type": "stream",
     "text": [
      "['pole0']\n",
      "['pole1']\n"
     ]
    },
    {
     "ename": "TypeError",
     "evalue": "can only concatenate str (not \"int\") to str",
     "output_type": "error",
     "traceback": [
      "\u001b[1;31m---------------------------------------------------------------------------\u001b[0m",
      "\u001b[1;31mTypeError\u001b[0m                                 Traceback (most recent call last)",
      "\u001b[1;32m<ipython-input-119-245e080a9256>\u001b[0m in \u001b[0;36m<module>\u001b[1;34m\u001b[0m\n\u001b[0;32m      5\u001b[0m \u001b[1;32mwith\u001b[0m \u001b[0mconcurrent\u001b[0m\u001b[1;33m.\u001b[0m\u001b[0mfutures\u001b[0m\u001b[1;33m.\u001b[0m\u001b[0mThreadPoolExecutor\u001b[0m\u001b[1;33m(\u001b[0m\u001b[1;33m)\u001b[0m \u001b[1;32mas\u001b[0m \u001b[0mexecutor\u001b[0m\u001b[1;33m:\u001b[0m\u001b[1;33m\u001b[0m\u001b[1;33m\u001b[0m\u001b[0m\n\u001b[0;32m      6\u001b[0m     \u001b[0mget_data_proxy\u001b[0m \u001b[1;33m=\u001b[0m \u001b[1;32mlambda\u001b[0m \u001b[0mp\u001b[0m\u001b[1;33m:\u001b[0m \u001b[0mget_amps\u001b[0m\u001b[1;33m(\u001b[0m\u001b[0mget_file_path\u001b[0m\u001b[1;33m(\u001b[0m\u001b[0mp\u001b[0m\u001b[1;33m)\u001b[0m\u001b[1;33m,\u001b[0m \u001b[0mp\u001b[0m\u001b[1;33m)\u001b[0m\u001b[1;33m\u001b[0m\u001b[1;33m\u001b[0m\u001b[0m\n\u001b[1;32m----> 7\u001b[1;33m     \u001b[1;32mfor\u001b[0m \u001b[0mpole\u001b[0m\u001b[1;33m,\u001b[0m \u001b[0mresult\u001b[0m \u001b[1;32min\u001b[0m \u001b[0mzip\u001b[0m\u001b[1;33m(\u001b[0m\u001b[0mpoles\u001b[0m\u001b[1;33m,\u001b[0m \u001b[0mexecutor\u001b[0m\u001b[1;33m.\u001b[0m\u001b[0mmap\u001b[0m\u001b[1;33m(\u001b[0m\u001b[0mget_data_proxy\u001b[0m\u001b[1;33m,\u001b[0m \u001b[0mpoles\u001b[0m\u001b[1;33m)\u001b[0m\u001b[1;33m)\u001b[0m\u001b[1;33m:\u001b[0m\u001b[1;33m\u001b[0m\u001b[1;33m\u001b[0m\u001b[0m\n\u001b[0m\u001b[0;32m      8\u001b[0m         \u001b[0mamp_data\u001b[0m\u001b[1;33m[\u001b[0m\u001b[0mpole\u001b[0m\u001b[1;33m]\u001b[0m \u001b[1;33m=\u001b[0m \u001b[0mresult\u001b[0m\u001b[1;33m\u001b[0m\u001b[1;33m\u001b[0m\u001b[0m\n\u001b[0;32m      9\u001b[0m \u001b[1;33m\u001b[0m\u001b[0m\n",
      "\u001b[1;32mc:\\users\\lukas\\appdata\\local\\programs\\python\\python38-32\\lib\\concurrent\\futures\\_base.py\u001b[0m in \u001b[0;36mresult_iterator\u001b[1;34m()\u001b[0m\n\u001b[0;32m    609\u001b[0m                     \u001b[1;31m# Careful not to keep a reference to the popped future\u001b[0m\u001b[1;33m\u001b[0m\u001b[1;33m\u001b[0m\u001b[1;33m\u001b[0m\u001b[0m\n\u001b[0;32m    610\u001b[0m                     \u001b[1;32mif\u001b[0m \u001b[0mtimeout\u001b[0m \u001b[1;32mis\u001b[0m \u001b[1;32mNone\u001b[0m\u001b[1;33m:\u001b[0m\u001b[1;33m\u001b[0m\u001b[1;33m\u001b[0m\u001b[0m\n\u001b[1;32m--> 611\u001b[1;33m                         \u001b[1;32myield\u001b[0m \u001b[0mfs\u001b[0m\u001b[1;33m.\u001b[0m\u001b[0mpop\u001b[0m\u001b[1;33m(\u001b[0m\u001b[1;33m)\u001b[0m\u001b[1;33m.\u001b[0m\u001b[0mresult\u001b[0m\u001b[1;33m(\u001b[0m\u001b[1;33m)\u001b[0m\u001b[1;33m\u001b[0m\u001b[1;33m\u001b[0m\u001b[0m\n\u001b[0m\u001b[0;32m    612\u001b[0m                     \u001b[1;32melse\u001b[0m\u001b[1;33m:\u001b[0m\u001b[1;33m\u001b[0m\u001b[1;33m\u001b[0m\u001b[0m\n\u001b[0;32m    613\u001b[0m                         \u001b[1;32myield\u001b[0m \u001b[0mfs\u001b[0m\u001b[1;33m.\u001b[0m\u001b[0mpop\u001b[0m\u001b[1;33m(\u001b[0m\u001b[1;33m)\u001b[0m\u001b[1;33m.\u001b[0m\u001b[0mresult\u001b[0m\u001b[1;33m(\u001b[0m\u001b[0mend_time\u001b[0m \u001b[1;33m-\u001b[0m \u001b[0mtime\u001b[0m\u001b[1;33m.\u001b[0m\u001b[0mmonotonic\u001b[0m\u001b[1;33m(\u001b[0m\u001b[1;33m)\u001b[0m\u001b[1;33m)\u001b[0m\u001b[1;33m\u001b[0m\u001b[1;33m\u001b[0m\u001b[0m\n",
      "\u001b[1;32mc:\\users\\lukas\\appdata\\local\\programs\\python\\python38-32\\lib\\concurrent\\futures\\_base.py\u001b[0m in \u001b[0;36mresult\u001b[1;34m(self, timeout)\u001b[0m\n\u001b[0;32m    430\u001b[0m                 \u001b[1;32mraise\u001b[0m \u001b[0mCancelledError\u001b[0m\u001b[1;33m(\u001b[0m\u001b[1;33m)\u001b[0m\u001b[1;33m\u001b[0m\u001b[1;33m\u001b[0m\u001b[0m\n\u001b[0;32m    431\u001b[0m             \u001b[1;32melif\u001b[0m \u001b[0mself\u001b[0m\u001b[1;33m.\u001b[0m\u001b[0m_state\u001b[0m \u001b[1;33m==\u001b[0m \u001b[0mFINISHED\u001b[0m\u001b[1;33m:\u001b[0m\u001b[1;33m\u001b[0m\u001b[1;33m\u001b[0m\u001b[0m\n\u001b[1;32m--> 432\u001b[1;33m                 \u001b[1;32mreturn\u001b[0m \u001b[0mself\u001b[0m\u001b[1;33m.\u001b[0m\u001b[0m__get_result\u001b[0m\u001b[1;33m(\u001b[0m\u001b[1;33m)\u001b[0m\u001b[1;33m\u001b[0m\u001b[1;33m\u001b[0m\u001b[0m\n\u001b[0m\u001b[0;32m    433\u001b[0m \u001b[1;33m\u001b[0m\u001b[0m\n\u001b[0;32m    434\u001b[0m             \u001b[0mself\u001b[0m\u001b[1;33m.\u001b[0m\u001b[0m_condition\u001b[0m\u001b[1;33m.\u001b[0m\u001b[0mwait\u001b[0m\u001b[1;33m(\u001b[0m\u001b[0mtimeout\u001b[0m\u001b[1;33m)\u001b[0m\u001b[1;33m\u001b[0m\u001b[1;33m\u001b[0m\u001b[0m\n",
      "\u001b[1;32mc:\\users\\lukas\\appdata\\local\\programs\\python\\python38-32\\lib\\concurrent\\futures\\_base.py\u001b[0m in \u001b[0;36m__get_result\u001b[1;34m(self)\u001b[0m\n\u001b[0;32m    386\u001b[0m     \u001b[1;32mdef\u001b[0m \u001b[0m__get_result\u001b[0m\u001b[1;33m(\u001b[0m\u001b[0mself\u001b[0m\u001b[1;33m)\u001b[0m\u001b[1;33m:\u001b[0m\u001b[1;33m\u001b[0m\u001b[1;33m\u001b[0m\u001b[0m\n\u001b[0;32m    387\u001b[0m         \u001b[1;32mif\u001b[0m \u001b[0mself\u001b[0m\u001b[1;33m.\u001b[0m\u001b[0m_exception\u001b[0m\u001b[1;33m:\u001b[0m\u001b[1;33m\u001b[0m\u001b[1;33m\u001b[0m\u001b[0m\n\u001b[1;32m--> 388\u001b[1;33m             \u001b[1;32mraise\u001b[0m \u001b[0mself\u001b[0m\u001b[1;33m.\u001b[0m\u001b[0m_exception\u001b[0m\u001b[1;33m\u001b[0m\u001b[1;33m\u001b[0m\u001b[0m\n\u001b[0m\u001b[0;32m    389\u001b[0m         \u001b[1;32melse\u001b[0m\u001b[1;33m:\u001b[0m\u001b[1;33m\u001b[0m\u001b[1;33m\u001b[0m\u001b[0m\n\u001b[0;32m    390\u001b[0m             \u001b[1;32mreturn\u001b[0m \u001b[0mself\u001b[0m\u001b[1;33m.\u001b[0m\u001b[0m_result\u001b[0m\u001b[1;33m\u001b[0m\u001b[1;33m\u001b[0m\u001b[0m\n",
      "\u001b[1;32mc:\\users\\lukas\\appdata\\local\\programs\\python\\python38-32\\lib\\concurrent\\futures\\thread.py\u001b[0m in \u001b[0;36mrun\u001b[1;34m(self)\u001b[0m\n\u001b[0;32m     55\u001b[0m \u001b[1;33m\u001b[0m\u001b[0m\n\u001b[0;32m     56\u001b[0m         \u001b[1;32mtry\u001b[0m\u001b[1;33m:\u001b[0m\u001b[1;33m\u001b[0m\u001b[1;33m\u001b[0m\u001b[0m\n\u001b[1;32m---> 57\u001b[1;33m             \u001b[0mresult\u001b[0m \u001b[1;33m=\u001b[0m \u001b[0mself\u001b[0m\u001b[1;33m.\u001b[0m\u001b[0mfn\u001b[0m\u001b[1;33m(\u001b[0m\u001b[1;33m*\u001b[0m\u001b[0mself\u001b[0m\u001b[1;33m.\u001b[0m\u001b[0margs\u001b[0m\u001b[1;33m,\u001b[0m \u001b[1;33m**\u001b[0m\u001b[0mself\u001b[0m\u001b[1;33m.\u001b[0m\u001b[0mkwargs\u001b[0m\u001b[1;33m)\u001b[0m\u001b[1;33m\u001b[0m\u001b[1;33m\u001b[0m\u001b[0m\n\u001b[0m\u001b[0;32m     58\u001b[0m         \u001b[1;32mexcept\u001b[0m \u001b[0mBaseException\u001b[0m \u001b[1;32mas\u001b[0m \u001b[0mexc\u001b[0m\u001b[1;33m:\u001b[0m\u001b[1;33m\u001b[0m\u001b[1;33m\u001b[0m\u001b[0m\n\u001b[0;32m     59\u001b[0m             \u001b[0mself\u001b[0m\u001b[1;33m.\u001b[0m\u001b[0mfuture\u001b[0m\u001b[1;33m.\u001b[0m\u001b[0mset_exception\u001b[0m\u001b[1;33m(\u001b[0m\u001b[0mexc\u001b[0m\u001b[1;33m)\u001b[0m\u001b[1;33m\u001b[0m\u001b[1;33m\u001b[0m\u001b[0m\n",
      "\u001b[1;32m<ipython-input-119-245e080a9256>\u001b[0m in \u001b[0;36m<lambda>\u001b[1;34m(p)\u001b[0m\n\u001b[0;32m      4\u001b[0m \u001b[1;33m\u001b[0m\u001b[0m\n\u001b[0;32m      5\u001b[0m \u001b[1;32mwith\u001b[0m \u001b[0mconcurrent\u001b[0m\u001b[1;33m.\u001b[0m\u001b[0mfutures\u001b[0m\u001b[1;33m.\u001b[0m\u001b[0mThreadPoolExecutor\u001b[0m\u001b[1;33m(\u001b[0m\u001b[1;33m)\u001b[0m \u001b[1;32mas\u001b[0m \u001b[0mexecutor\u001b[0m\u001b[1;33m:\u001b[0m\u001b[1;33m\u001b[0m\u001b[1;33m\u001b[0m\u001b[0m\n\u001b[1;32m----> 6\u001b[1;33m     \u001b[0mget_data_proxy\u001b[0m \u001b[1;33m=\u001b[0m \u001b[1;32mlambda\u001b[0m \u001b[0mp\u001b[0m\u001b[1;33m:\u001b[0m \u001b[0mget_amps\u001b[0m\u001b[1;33m(\u001b[0m\u001b[0mget_file_path\u001b[0m\u001b[1;33m(\u001b[0m\u001b[0mp\u001b[0m\u001b[1;33m)\u001b[0m\u001b[1;33m,\u001b[0m \u001b[0mp\u001b[0m\u001b[1;33m)\u001b[0m\u001b[1;33m\u001b[0m\u001b[1;33m\u001b[0m\u001b[0m\n\u001b[0m\u001b[0;32m      7\u001b[0m     \u001b[1;32mfor\u001b[0m \u001b[0mpole\u001b[0m\u001b[1;33m,\u001b[0m \u001b[0mresult\u001b[0m \u001b[1;32min\u001b[0m \u001b[0mzip\u001b[0m\u001b[1;33m(\u001b[0m\u001b[0mpoles\u001b[0m\u001b[1;33m,\u001b[0m \u001b[0mexecutor\u001b[0m\u001b[1;33m.\u001b[0m\u001b[0mmap\u001b[0m\u001b[1;33m(\u001b[0m\u001b[0mget_data_proxy\u001b[0m\u001b[1;33m,\u001b[0m \u001b[0mpoles\u001b[0m\u001b[1;33m)\u001b[0m\u001b[1;33m)\u001b[0m\u001b[1;33m:\u001b[0m\u001b[1;33m\u001b[0m\u001b[1;33m\u001b[0m\u001b[0m\n\u001b[0;32m      8\u001b[0m         \u001b[0mamp_data\u001b[0m\u001b[1;33m[\u001b[0m\u001b[0mpole\u001b[0m\u001b[1;33m]\u001b[0m \u001b[1;33m=\u001b[0m \u001b[0mresult\u001b[0m\u001b[1;33m\u001b[0m\u001b[1;33m\u001b[0m\u001b[0m\n",
      "\u001b[1;32m<ipython-input-117-59bc993c4527>\u001b[0m in \u001b[0;36mget_amps\u001b[1;34m(file_path, pole)\u001b[0m\n\u001b[0;32m     71\u001b[0m     \u001b[1;32mwith\u001b[0m \u001b[0mh5py\u001b[0m\u001b[1;33m.\u001b[0m\u001b[0mFile\u001b[0m\u001b[1;33m(\u001b[0m\u001b[0mfile_path\u001b[0m\u001b[1;33m,\u001b[0m \u001b[1;34m'r'\u001b[0m\u001b[1;33m)\u001b[0m \u001b[1;32mas\u001b[0m \u001b[0mf\u001b[0m\u001b[1;33m:\u001b[0m\u001b[1;33m\u001b[0m\u001b[1;33m\u001b[0m\u001b[0m\n\u001b[0;32m     72\u001b[0m         \u001b[0mprint\u001b[0m\u001b[1;33m(\u001b[0m\u001b[0mlist\u001b[0m\u001b[1;33m(\u001b[0m\u001b[0mf\u001b[0m\u001b[1;33m[\u001b[0m\u001b[1;34m'frequency_response'\u001b[0m\u001b[1;33m]\u001b[0m\u001b[1;33m.\u001b[0m\u001b[0mkeys\u001b[0m\u001b[1;33m(\u001b[0m\u001b[1;33m)\u001b[0m\u001b[1;33m)\u001b[0m\u001b[1;33m)\u001b[0m\u001b[1;33m\u001b[0m\u001b[1;33m\u001b[0m\u001b[0m\n\u001b[1;32m---> 73\u001b[1;33m         \u001b[0mgrp_loops\u001b[0m \u001b[1;33m=\u001b[0m \u001b[0mf\u001b[0m\u001b[1;33m[\u001b[0m\u001b[1;34m'frequency_response/pole'\u001b[0m\u001b[1;33m+\u001b[0m\u001b[0mpole\u001b[0m\u001b[1;33m]\u001b[0m\u001b[1;33m\u001b[0m\u001b[1;33m\u001b[0m\u001b[0m\n\u001b[0m\u001b[0;32m     74\u001b[0m         \u001b[0mn_loops\u001b[0m \u001b[1;33m=\u001b[0m \u001b[0mlen\u001b[0m\u001b[1;33m(\u001b[0m\u001b[0mgrp_loops\u001b[0m\u001b[1;33m.\u001b[0m\u001b[0mkeys\u001b[0m\u001b[1;33m(\u001b[0m\u001b[1;33m)\u001b[0m\u001b[1;33m)\u001b[0m\u001b[1;33m\u001b[0m\u001b[1;33m\u001b[0m\u001b[0m\n\u001b[0;32m     75\u001b[0m         \u001b[1;32mfor\u001b[0m \u001b[0mi\u001b[0m\u001b[1;33m,\u001b[0m \u001b[0mloops\u001b[0m \u001b[1;32min\u001b[0m \u001b[0menumerate\u001b[0m\u001b[1;33m(\u001b[0m\u001b[0mgrp_loops\u001b[0m\u001b[1;33m.\u001b[0m\u001b[0mkeys\u001b[0m\u001b[1;33m(\u001b[0m\u001b[1;33m)\u001b[0m\u001b[1;33m)\u001b[0m\u001b[1;33m:\u001b[0m\u001b[1;33m\u001b[0m\u001b[1;33m\u001b[0m\u001b[0m\n",
      "\u001b[1;31mTypeError\u001b[0m: can only concatenate str (not \"int\") to str"
     ]
    }
   ],
   "source": [
    "amp_data = [None]*3\n",
    "def get_file_path(pole):\n",
    "    return r\"C:\\Users\\lukas\\OneDrive - University of Cambridge\\PhD\\3DMOKE\\Data\\MagnetCalibration\\rl_response_data_pole{}.h5\".format(pole)\n",
    "\n",
    "with concurrent.futures.ThreadPoolExecutor() as executor:\n",
    "    get_data_proxy = lambda p: get_amps(get_file_path(p), p)\n",
    "    for pole, result in zip(poles, executor.map(get_data_proxy, poles)):\n",
    "        amp_data[pole] = result\n",
    "\n",
    "print('Done!')\n",
    "# amp_data"
   ]
  },
  {
   "cell_type": "markdown",
   "metadata": {},
   "source": [
    "### Run the extraction using the fft"
   ]
  },
  {
   "cell_type": "code",
   "execution_count": 77,
   "metadata": {},
   "outputs": [
    {
     "name": "stdout",
     "output_type": "stream",
     "text": [
      "There are 0 data points where frequencies do not match.\n"
     ]
    }
   ],
   "source": [
    "# freq_data = [None]*3\n",
    "# with concurrent.futures.ThreadPoolExecutor() as executor:\n",
    "#     get_data_proxy = lambda p: get_formatted_data(file_path, p)\n",
    "#     for pole, result in zip(poles, executor.map(get_data_proxy, poles)):\n",
    "#         freq_data[pole] = result\n",
    "\n",
    "# print('Done!')\n",
    "freq_data = get_formatted_data(file_path, pole)"
   ]
  },
  {
   "cell_type": "markdown",
   "metadata": {},
   "source": [
    "### Save the result"
   ]
  },
  {
   "cell_type": "code",
   "execution_count": 78,
   "metadata": {},
   "outputs": [],
   "source": [
    "# for pole in poles:\n",
    "#     freq_data[pole]['phase_delta']-=2*np.pi\n",
    "with open(os.path.join(out_folder,'frequency_data_pole{}.p'.format(pole)), 'wb') as fp:\n",
    "    pickle.dump(freq_data, fp, protocol=4)"
   ]
  },
  {
   "cell_type": "markdown",
   "metadata": {},
   "source": [
    "### Load the result if have saved"
   ]
  },
  {
   "cell_type": "code",
   "execution_count": 23,
   "metadata": {},
   "outputs": [],
   "source": [
    "with open(os.path.join(out_folder,'frequency_data_pole{}.p'.format(pole)), 'rb') as fp:\n",
    "    freq_data = pickle.load(fp)"
   ]
  },
  {
   "cell_type": "markdown",
   "metadata": {},
   "source": [
    "### Plot the response"
   ]
  },
  {
   "cell_type": "code",
   "execution_count": 44,
   "metadata": {},
   "outputs": [
    {
     "data": {
      "image/png": "[encoded data removed]",
      "text/plain": [
       "<Figure size 432x288 with 1 Axes>"
      ]
     },
     "metadata": {
      "needs_background": "light"
     },
     "output_type": "display_data"
    }
   ],
   "source": [
    "# for pole in poles:\n",
    "plt.scatter(freq_data['v_amp'], freq_data['i_amp'], c=freq_data['freq'])\n",
    "plt.xlabel('Voltage [V]')\n",
    "plt.ylabel('Current [A]')\n",
    "plt.title('Pole {} Amplitude Response'.format(poles_dict[pole]))\n",
    "plt.tight_layout()\n",
    "plt.savefig(os.path.join(out_folder, 'Amplitude_response_pole{}.png'.format(poles_dict[pole])))"
   ]
  },
  {
   "cell_type": "code",
   "execution_count": 45,
   "metadata": {},
   "outputs": [
    {
     "data": {
      "image/png": "[encoded data removed]",
      "text/plain": [
       "<Figure size 432x288 with 2 Axes>"
      ]
     },
     "metadata": {
      "needs_background": "light"
     },
     "output_type": "display_data"
    }
   ],
   "source": [
    "# for pole in poles:\n",
    "plt.close()\n",
    "plt.figure()\n",
    "plt.scatter(freq_data['freq'], freq_data['v_amp'], c=freq_data['i_amp'])\n",
    "plt.xlabel('Applied frequency [Hz]')\n",
    "plt.ylabel('Voltage [V]')\n",
    "plt.colorbar(label='Applied current [A]')\n",
    "plt.title('Pole {} Amplitude Response'.format(poles_dict[pole]))\n",
    "plt.tight_layout()\n",
    "# plt.savefig(os.path.join(out_folder, 'Amplitude_response_freq_pole{}.png'.format(poles_dict[pole])))"
   ]
  },
  {
   "cell_type": "markdown",
   "metadata": {},
   "source": [
    "### Plot the phases"
   ]
  },
  {
   "cell_type": "code",
   "execution_count": 46,
   "metadata": {},
   "outputs": [
    {
     "data": {
      "image/png": "[encoded data removed]",
      "text/plain": [
       "<Figure size 432x288 with 1 Axes>"
      ]
     },
     "metadata": {
      "needs_background": "light"
     },
     "output_type": "display_data"
    }
   ],
   "source": [
    "plt.scatter(freq_data['freq'], freq_data['phase_delta'], c=freq_data['i_amp'])#, cmap='winter')\n",
    "plt.xlabel('Frequency [Hz]')\n",
    "plt.ylabel('Phase delta')\n",
    "plt.title('Pole {} Phase Response'.format(poles_dict[pole]))\n",
    "plt.tight_layout()\n",
    "# plt.savefig(os.path.join(out_folder, 'Phase_response_pole{}.png'.format(poles_dict[pole])))"
   ]
  },
  {
   "cell_type": "markdown",
   "metadata": {},
   "source": [
    "### Plot the amplitudes"
   ]
  },
  {
   "cell_type": "code",
   "execution_count": 101,
   "metadata": {},
   "outputs": [
    {
     "name": "stdout",
     "output_type": "stream",
     "text": [
      "Pole A\n",
      "R:2.118457140120971\n",
      "L:0.20518059468941194\n",
      "L error:6.452948193796469e-06\n",
      "Fit std:  0.08638444893128792\n",
      "Pole B\n",
      "R:2.108782231622595\n",
      "L:0.20839111915413808\n",
      "L error:7.651103651742488e-06\n",
      "Fit std:  0.09436766801027185\n",
      "Pole C\n",
      "R:2.07589810652447\n",
      "L:0.20009208671853965\n",
      "L error:7.44050197242059e-06\n",
      "Fit std:  0.09188714709056058\n"
     ]
    }
   ],
   "source": [
    "plt.close('all')\n",
    "fig = plt.figure(figsize=(20, 5))\n",
    "L_poles = np.zeros(3)\n",
    "for pole in poles:\n",
    "    with open(os.path.join(out_folder,'frequency_data_pole{}.p'.format(pole)), 'rb') as fp:\n",
    "        freq_data = pickle.load(fp)\n",
    "    \n",
    "    R = R_poles[pole]\n",
    "\n",
    "    print('Pole {}'.format(poles_dict[pole]))\n",
    "    V = freq_data['v_amp'].values\n",
    "    f = freq_data['freq'].values\n",
    "    I = freq_data['i_amp'].values\n",
    "\n",
    "    # filter out the data where the load is too big. Here assuming a large inductance of 1H\n",
    "    indx = I*np.sqrt(R**2+(np.pi*2*f)**2) < 15\n",
    "    f = f[indx]\n",
    "    V = V[indx]\n",
    "    I = I[indx]\n",
    "\n",
    "    x =np.hstack((f[:, np.newaxis], I[:, np.newaxis]))\n",
    "\n",
    "    amp_fitting = lambda x, L: x[:, 1]*np.sqrt(R**2+(np.pi*2*L*x[:, 0])**2)\n",
    "    popt, perr = curve_fit(amp_fitting, x, V)#, p0 = [0.01, 0.01], bounds=[[0, 0], [100, 100]])#, max_nfev=10000, diff_step=0.001)\n",
    "    amp_fun = lambda x: amp_fitting(x, *popt)\n",
    "    L = popt[0]\n",
    "    Lerr = np.sqrt(np.diag(perr))[0]\n",
    "    print('R:{}'.format(R))\n",
    "    print('L:{}'.format(L))\n",
    "    print('L error:{}'.format(perr[0][0]))\n",
    "    L_poles[pole] = L\n",
    "    \n",
    "    error = amp_fun(x) - V\n",
    "    rel_error = np.abs(error)/V\n",
    "    print('Fit std: ', np.std(error))\n",
    "\n",
    "    plt.subplot(1, len(poles), pole+1)\n",
    "    plt.scatter(f, amp_fun(x), c='red', alpha=0.7, label='Fit, L={:.4f} H'.format(L))\n",
    "    plt.scatter(f, V, c=I, marker='+', s=100, label='Data')\n",
    "\n",
    "    plt.xlabel('Frequency [Hz]')\n",
    "    plt.ylabel('Voltage amplitude [V]')\n",
    "    plt.title('Pole {} Amplitude Response Fit.\\nInductance: {:.3f} \\u00B1 {:.3f} H'.format(poles_dict[pole], L, Lerr))\n",
    "    plt.legend(loc='upper right')\n",
    "plt.tight_layout()\n",
    "# plt.savefig(os.path.join(out_folder, 'Amplitude_response_freq_fit.png'))\n",
    "    # plt.savefig(os.path.join(out_folder, 'Small-amplitude_response_pole{}_fit.png'.format(poles_dict[pole])))"
   ]
  },
  {
   "cell_type": "code",
   "execution_count": 106,
   "metadata": {},
   "outputs": [
    {
     "data": {
      "text/html": [
       "<div>\n",
       "<style scoped>\n",
       "    .dataframe tbody tr th:only-of-type {\n",
       "        vertical-align: middle;\n",
       "    }\n",
       "\n",
       "    .dataframe tbody tr th {\n",
       "        vertical-align: top;\n",
       "    }\n",
       "\n",
       "    .dataframe thead th {\n",
       "        text-align: right;\n",
       "    }\n",
       "</style>\n",
       "<table border=\"1\" class=\"dataframe\">\n",
       "  <thead>\n",
       "    <tr style=\"text-align: right;\">\n",
       "      <th></th>\n",
       "      <th>error</th>\n",
       "      <th>rel_error</th>\n",
       "      <th>V</th>\n",
       "      <th>I</th>\n",
       "      <th>freq</th>\n",
       "    </tr>\n",
       "  </thead>\n",
       "  <tbody>\n",
       "    <tr>\n",
       "      <th>55</th>\n",
       "      <td>0.089553</td>\n",
       "      <td>0.254406</td>\n",
       "      <td>0.352007</td>\n",
       "      <td>0.099999</td>\n",
       "      <td>3.099921</td>\n",
       "    </tr>\n",
       "    <tr>\n",
       "      <th>51</th>\n",
       "      <td>0.074206</td>\n",
       "      <td>0.224280</td>\n",
       "      <td>0.330862</td>\n",
       "      <td>0.100000</td>\n",
       "      <td>2.766677</td>\n",
       "    </tr>\n",
       "    <tr>\n",
       "      <th>47</th>\n",
       "      <td>0.060304</td>\n",
       "      <td>0.194905</td>\n",
       "      <td>0.309404</td>\n",
       "      <td>0.100000</td>\n",
       "      <td>2.433353</td>\n",
       "    </tr>\n",
       "    <tr>\n",
       "      <th>42</th>\n",
       "      <td>0.046407</td>\n",
       "      <td>0.160328</td>\n",
       "      <td>0.289448</td>\n",
       "      <td>0.100000</td>\n",
       "      <td>2.100007</td>\n",
       "    </tr>\n",
       "    <tr>\n",
       "      <th>37</th>\n",
       "      <td>0.033873</td>\n",
       "      <td>0.125387</td>\n",
       "      <td>0.270145</td>\n",
       "      <td>0.100000</td>\n",
       "      <td>1.766680</td>\n",
       "    </tr>\n",
       "    <tr>\n",
       "      <th>56</th>\n",
       "      <td>0.200512</td>\n",
       "      <td>0.120511</td>\n",
       "      <td>1.663854</td>\n",
       "      <td>0.422217</td>\n",
       "      <td>3.099921</td>\n",
       "    </tr>\n",
       "    <tr>\n",
       "      <th>52</th>\n",
       "      <td>0.156666</td>\n",
       "      <td>0.100839</td>\n",
       "      <td>1.553620</td>\n",
       "      <td>0.422222</td>\n",
       "      <td>2.766677</td>\n",
       "    </tr>\n",
       "    <tr>\n",
       "      <th>31</th>\n",
       "      <td>0.021403</td>\n",
       "      <td>0.084434</td>\n",
       "      <td>0.253486</td>\n",
       "      <td>0.099999</td>\n",
       "      <td>1.433315</td>\n",
       "    </tr>\n",
       "    <tr>\n",
       "      <th>48</th>\n",
       "      <td>0.114954</td>\n",
       "      <td>0.079496</td>\n",
       "      <td>1.446037</td>\n",
       "      <td>0.422223</td>\n",
       "      <td>2.433353</td>\n",
       "    </tr>\n",
       "    <tr>\n",
       "      <th>57</th>\n",
       "      <td>0.219323</td>\n",
       "      <td>0.071491</td>\n",
       "      <td>3.067849</td>\n",
       "      <td>0.744435</td>\n",
       "      <td>3.099921</td>\n",
       "    </tr>\n",
       "    <tr>\n",
       "      <th>43</th>\n",
       "      <td>0.075069</td>\n",
       "      <td>0.055897</td>\n",
       "      <td>1.342984</td>\n",
       "      <td>0.422223</td>\n",
       "      <td>2.100007</td>\n",
       "    </tr>\n",
       "    <tr>\n",
       "      <th>53</th>\n",
       "      <td>0.148279</td>\n",
       "      <td>0.051715</td>\n",
       "      <td>2.867225</td>\n",
       "      <td>0.744444</td>\n",
       "      <td>2.766677</td>\n",
       "    </tr>\n",
       "    <tr>\n",
       "      <th>23</th>\n",
       "      <td>0.011319</td>\n",
       "      <td>0.047537</td>\n",
       "      <td>0.238115</td>\n",
       "      <td>0.099999</td>\n",
       "      <td>1.099989</td>\n",
       "    </tr>\n",
       "    <tr>\n",
       "      <th>28</th>\n",
       "      <td>-0.157491</td>\n",
       "      <td>0.035586</td>\n",
       "      <td>4.425596</td>\n",
       "      <td>1.711103</td>\n",
       "      <td>1.099989</td>\n",
       "    </tr>\n",
       "    <tr>\n",
       "      <th>17</th>\n",
       "      <td>-0.116617</td>\n",
       "      <td>0.035388</td>\n",
       "      <td>3.295409</td>\n",
       "      <td>1.388879</td>\n",
       "      <td>0.766656</td>\n",
       "    </tr>\n",
       "    <tr>\n",
       "      <th>49</th>\n",
       "      <td>0.093776</td>\n",
       "      <td>0.035274</td>\n",
       "      <td>2.658498</td>\n",
       "      <td>0.744446</td>\n",
       "      <td>2.433353</td>\n",
       "    </tr>\n",
       "    <tr>\n",
       "      <th>18</th>\n",
       "      <td>-0.142158</td>\n",
       "      <td>0.035028</td>\n",
       "      <td>4.058430</td>\n",
       "      <td>1.711099</td>\n",
       "      <td>0.766656</td>\n",
       "    </tr>\n",
       "    <tr>\n",
       "      <th>27</th>\n",
       "      <td>-0.125051</td>\n",
       "      <td>0.034839</td>\n",
       "      <td>3.589422</td>\n",
       "      <td>1.388882</td>\n",
       "      <td>1.099989</td>\n",
       "    </tr>\n",
       "    <tr>\n",
       "      <th>38</th>\n",
       "      <td>0.042946</td>\n",
       "      <td>0.034615</td>\n",
       "      <td>1.240686</td>\n",
       "      <td>0.422224</td>\n",
       "      <td>1.766680</td>\n",
       "    </tr>\n",
       "    <tr>\n",
       "      <th>19</th>\n",
       "      <td>-0.163308</td>\n",
       "      <td>0.033902</td>\n",
       "      <td>4.817060</td>\n",
       "      <td>2.033319</td>\n",
       "      <td>0.766656</td>\n",
       "    </tr>\n",
       "    <tr>\n",
       "      <th>29</th>\n",
       "      <td>-0.175819</td>\n",
       "      <td>0.033504</td>\n",
       "      <td>5.247658</td>\n",
       "      <td>2.033323</td>\n",
       "      <td>1.099989</td>\n",
       "    </tr>\n",
       "    <tr>\n",
       "      <th>16</th>\n",
       "      <td>-0.082203</td>\n",
       "      <td>0.032575</td>\n",
       "      <td>2.523516</td>\n",
       "      <td>1.066659</td>\n",
       "      <td>0.766656</td>\n",
       "    </tr>\n",
       "    <tr>\n",
       "      <th>20</th>\n",
       "      <td>-0.172165</td>\n",
       "      <td>0.030946</td>\n",
       "      <td>5.563396</td>\n",
       "      <td>2.355538</td>\n",
       "      <td>0.766656</td>\n",
       "    </tr>\n",
       "    <tr>\n",
       "      <th>26</th>\n",
       "      <td>-0.083654</td>\n",
       "      <td>0.030483</td>\n",
       "      <td>2.744291</td>\n",
       "      <td>1.066661</td>\n",
       "      <td>1.099989</td>\n",
       "    </tr>\n",
       "    <tr>\n",
       "      <th>35</th>\n",
       "      <td>-0.112746</td>\n",
       "      <td>0.028684</td>\n",
       "      <td>3.930652</td>\n",
       "      <td>1.388880</td>\n",
       "      <td>1.433315</td>\n",
       "    </tr>\n",
       "    <tr>\n",
       "      <th>6</th>\n",
       "      <td>-0.085009</td>\n",
       "      <td>0.027728</td>\n",
       "      <td>3.065830</td>\n",
       "      <td>1.388887</td>\n",
       "      <td>0.433332</td>\n",
       "    </tr>\n",
       "    <tr>\n",
       "      <th>7</th>\n",
       "      <td>-0.103101</td>\n",
       "      <td>0.027308</td>\n",
       "      <td>3.775473</td>\n",
       "      <td>1.711108</td>\n",
       "      <td>0.433332</td>\n",
       "    </tr>\n",
       "    <tr>\n",
       "      <th>8</th>\n",
       "      <td>-0.120123</td>\n",
       "      <td>0.026789</td>\n",
       "      <td>4.484045</td>\n",
       "      <td>2.033330</td>\n",
       "      <td>0.433332</td>\n",
       "    </tr>\n",
       "    <tr>\n",
       "      <th>15</th>\n",
       "      <td>-0.046885</td>\n",
       "      <td>0.026781</td>\n",
       "      <td>1.750718</td>\n",
       "      <td>0.744439</td>\n",
       "      <td>0.766656</td>\n",
       "    </tr>\n",
       "    <tr>\n",
       "      <th>5</th>\n",
       "      <td>-0.062356</td>\n",
       "      <td>0.026516</td>\n",
       "      <td>2.351626</td>\n",
       "      <td>1.066665</td>\n",
       "      <td>0.433332</td>\n",
       "    </tr>\n",
       "    <tr>\n",
       "      <th>21</th>\n",
       "      <td>-0.160268</td>\n",
       "      <td>0.025484</td>\n",
       "      <td>6.288979</td>\n",
       "      <td>2.677758</td>\n",
       "      <td>0.766656</td>\n",
       "    </tr>\n",
       "    <tr>\n",
       "      <th>9</th>\n",
       "      <td>-0.129352</td>\n",
       "      <td>0.024948</td>\n",
       "      <td>5.184824</td>\n",
       "      <td>2.355552</td>\n",
       "      <td>0.433332</td>\n",
       "    </tr>\n",
       "    <tr>\n",
       "      <th>4</th>\n",
       "      <td>-0.040562</td>\n",
       "      <td>0.024759</td>\n",
       "      <td>1.638281</td>\n",
       "      <td>0.744443</td>\n",
       "      <td>0.433332</td>\n",
       "    </tr>\n",
       "    <tr>\n",
       "      <th>10</th>\n",
       "      <td>-0.136175</td>\n",
       "      <td>0.023146</td>\n",
       "      <td>5.883198</td>\n",
       "      <td>2.677773</td>\n",
       "      <td>0.433332</td>\n",
       "    </tr>\n",
       "    <tr>\n",
       "      <th>34</th>\n",
       "      <td>-0.067464</td>\n",
       "      <td>0.022491</td>\n",
       "      <td>2.999616</td>\n",
       "      <td>1.066660</td>\n",
       "      <td>1.433315</td>\n",
       "    </tr>\n",
       "    <tr>\n",
       "      <th>44</th>\n",
       "      <td>0.050883</td>\n",
       "      <td>0.020774</td>\n",
       "      <td>2.449369</td>\n",
       "      <td>0.744446</td>\n",
       "      <td>2.100007</td>\n",
       "    </tr>\n",
       "    <tr>\n",
       "      <th>25</th>\n",
       "      <td>-0.039205</td>\n",
       "      <td>0.020676</td>\n",
       "      <td>1.896108</td>\n",
       "      <td>0.744441</td>\n",
       "      <td>1.099989</td>\n",
       "    </tr>\n",
       "    <tr>\n",
       "      <th>11</th>\n",
       "      <td>-0.134625</td>\n",
       "      <td>0.020481</td>\n",
       "      <td>6.573198</td>\n",
       "      <td>2.999995</td>\n",
       "      <td>0.433332</td>\n",
       "    </tr>\n",
       "    <tr>\n",
       "      <th>3</th>\n",
       "      <td>-0.017597</td>\n",
       "      <td>0.019049</td>\n",
       "      <td>0.923766</td>\n",
       "      <td>0.422222</td>\n",
       "      <td>0.433332</td>\n",
       "    </tr>\n",
       "    <tr>\n",
       "      <th>32</th>\n",
       "      <td>0.017701</td>\n",
       "      <td>0.015487</td>\n",
       "      <td>1.142943</td>\n",
       "      <td>0.422220</td>\n",
       "      <td>1.433315</td>\n",
       "    </tr>\n",
       "    <tr>\n",
       "      <th>14</th>\n",
       "      <td>-0.014389</td>\n",
       "      <td>0.014671</td>\n",
       "      <td>0.980741</td>\n",
       "      <td>0.422219</td>\n",
       "      <td>0.766656</td>\n",
       "    </tr>\n",
       "    <tr>\n",
       "      <th>54</th>\n",
       "      <td>-0.092388</td>\n",
       "      <td>0.014592</td>\n",
       "      <td>6.331493</td>\n",
       "      <td>3.000000</td>\n",
       "      <td>0.100000</td>\n",
       "    </tr>\n",
       "    <tr>\n",
       "      <th>13</th>\n",
       "      <td>0.002890</td>\n",
       "      <td>0.012788</td>\n",
       "      <td>0.225983</td>\n",
       "      <td>0.099999</td>\n",
       "      <td>0.766656</td>\n",
       "    </tr>\n",
       "    <tr>\n",
       "      <th>50</th>\n",
       "      <td>-0.069494</td>\n",
       "      <td>0.012325</td>\n",
       "      <td>5.638473</td>\n",
       "      <td>2.677778</td>\n",
       "      <td>0.100000</td>\n",
       "    </tr>\n",
       "    <tr>\n",
       "      <th>40</th>\n",
       "      <td>-0.039601</td>\n",
       "      <td>0.012065</td>\n",
       "      <td>3.282461</td>\n",
       "      <td>1.066671</td>\n",
       "      <td>1.766680</td>\n",
       "    </tr>\n",
       "    <tr>\n",
       "      <th>46</th>\n",
       "      <td>-0.052633</td>\n",
       "      <td>0.010630</td>\n",
       "      <td>4.951485</td>\n",
       "      <td>2.355556</td>\n",
       "      <td>0.100000</td>\n",
       "    </tr>\n",
       "    <tr>\n",
       "      <th>2</th>\n",
       "      <td>-0.002197</td>\n",
       "      <td>0.010131</td>\n",
       "      <td>0.216816</td>\n",
       "      <td>0.100000</td>\n",
       "      <td>0.433332</td>\n",
       "    </tr>\n",
       "    <tr>\n",
       "      <th>33</th>\n",
       "      <td>-0.020508</td>\n",
       "      <td>0.009922</td>\n",
       "      <td>2.066906</td>\n",
       "      <td>0.744440</td>\n",
       "      <td>1.433315</td>\n",
       "    </tr>\n",
       "    <tr>\n",
       "      <th>41</th>\n",
       "      <td>-0.039291</td>\n",
       "      <td>0.009206</td>\n",
       "      <td>4.268017</td>\n",
       "      <td>2.033333</td>\n",
       "      <td>0.100000</td>\n",
       "    </tr>\n",
       "    <tr>\n",
       "      <th>36</th>\n",
       "      <td>-0.029458</td>\n",
       "      <td>0.008210</td>\n",
       "      <td>3.588059</td>\n",
       "      <td>1.711111</td>\n",
       "      <td>0.100000</td>\n",
       "    </tr>\n",
       "    <tr>\n",
       "      <th>30</th>\n",
       "      <td>-0.021829</td>\n",
       "      <td>0.007501</td>\n",
       "      <td>2.910303</td>\n",
       "      <td>1.388889</td>\n",
       "      <td>0.100000</td>\n",
       "    </tr>\n",
       "    <tr>\n",
       "      <th>22</th>\n",
       "      <td>-0.015325</td>\n",
       "      <td>0.006861</td>\n",
       "      <td>2.233669</td>\n",
       "      <td>1.066665</td>\n",
       "      <td>0.100000</td>\n",
       "    </tr>\n",
       "    <tr>\n",
       "      <th>12</th>\n",
       "      <td>-0.010366</td>\n",
       "      <td>0.006651</td>\n",
       "      <td>1.558588</td>\n",
       "      <td>0.744444</td>\n",
       "      <td>0.100000</td>\n",
       "    </tr>\n",
       "    <tr>\n",
       "      <th>1</th>\n",
       "      <td>-0.005450</td>\n",
       "      <td>0.006168</td>\n",
       "      <td>0.883546</td>\n",
       "      <td>0.422222</td>\n",
       "      <td>0.100000</td>\n",
       "    </tr>\n",
       "    <tr>\n",
       "      <th>0</th>\n",
       "      <td>-0.001026</td>\n",
       "      <td>0.004907</td>\n",
       "      <td>0.208996</td>\n",
       "      <td>0.100000</td>\n",
       "      <td>0.100000</td>\n",
       "    </tr>\n",
       "    <tr>\n",
       "      <th>39</th>\n",
       "      <td>0.010455</td>\n",
       "      <td>0.004641</td>\n",
       "      <td>2.252791</td>\n",
       "      <td>0.744447</td>\n",
       "      <td>1.766680</td>\n",
       "    </tr>\n",
       "    <tr>\n",
       "      <th>45</th>\n",
       "      <td>0.015009</td>\n",
       "      <td>0.004207</td>\n",
       "      <td>3.567442</td>\n",
       "      <td>1.066668</td>\n",
       "      <td>2.100007</td>\n",
       "    </tr>\n",
       "    <tr>\n",
       "      <th>24</th>\n",
       "      <td>-0.000917</td>\n",
       "      <td>0.000870</td>\n",
       "      <td>1.054086</td>\n",
       "      <td>0.422220</td>\n",
       "      <td>1.099989</td>\n",
       "    </tr>\n",
       "  </tbody>\n",
       "</table>\n",
       "</div>"
      ],
      "text/plain": [
       "       error  rel_error         V         I      freq\n",
       "55  0.089553   0.254406  0.352007  0.099999  3.099921\n",
       "51  0.074206   0.224280  0.330862  0.100000  2.766677\n",
       "47  0.060304   0.194905  0.309404  0.100000  2.433353\n",
       "42  0.046407   0.160328  0.289448  0.100000  2.100007\n",
       "37  0.033873   0.125387  0.270145  0.100000  1.766680\n",
       "56  0.200512   0.120511  1.663854  0.422217  3.099921\n",
       "52  0.156666   0.100839  1.553620  0.422222  2.766677\n",
       "31  0.021403   0.084434  0.253486  0.099999  1.433315\n",
       "48  0.114954   0.079496  1.446037  0.422223  2.433353\n",
       "57  0.219323   0.071491  3.067849  0.744435  3.099921\n",
       "43  0.075069   0.055897  1.342984  0.422223  2.100007\n",
       "53  0.148279   0.051715  2.867225  0.744444  2.766677\n",
       "23  0.011319   0.047537  0.238115  0.099999  1.099989\n",
       "28 -0.157491   0.035586  4.425596  1.711103  1.099989\n",
       "17 -0.116617   0.035388  3.295409  1.388879  0.766656\n",
       "49  0.093776   0.035274  2.658498  0.744446  2.433353\n",
       "18 -0.142158   0.035028  4.058430  1.711099  0.766656\n",
       "27 -0.125051   0.034839  3.589422  1.388882  1.099989\n",
       "38  0.042946   0.034615  1.240686  0.422224  1.766680\n",
       "19 -0.163308   0.033902  4.817060  2.033319  0.766656\n",
       "29 -0.175819   0.033504  5.247658  2.033323  1.099989\n",
       "16 -0.082203   0.032575  2.523516  1.066659  0.766656\n",
       "20 -0.172165   0.030946  5.563396  2.355538  0.766656\n",
       "26 -0.083654   0.030483  2.744291  1.066661  1.099989\n",
       "35 -0.112746   0.028684  3.930652  1.388880  1.433315\n",
       "6  -0.085009   0.027728  3.065830  1.388887  0.433332\n",
       "7  -0.103101   0.027308  3.775473  1.711108  0.433332\n",
       "8  -0.120123   0.026789  4.484045  2.033330  0.433332\n",
       "15 -0.046885   0.026781  1.750718  0.744439  0.766656\n",
       "5  -0.062356   0.026516  2.351626  1.066665  0.433332\n",
       "21 -0.160268   0.025484  6.288979  2.677758  0.766656\n",
       "9  -0.129352   0.024948  5.184824  2.355552  0.433332\n",
       "4  -0.040562   0.024759  1.638281  0.744443  0.433332\n",
       "10 -0.136175   0.023146  5.883198  2.677773  0.433332\n",
       "34 -0.067464   0.022491  2.999616  1.066660  1.433315\n",
       "44  0.050883   0.020774  2.449369  0.744446  2.100007\n",
       "25 -0.039205   0.020676  1.896108  0.744441  1.099989\n",
       "11 -0.134625   0.020481  6.573198  2.999995  0.433332\n",
       "3  -0.017597   0.019049  0.923766  0.422222  0.433332\n",
       "32  0.017701   0.015487  1.142943  0.422220  1.433315\n",
       "14 -0.014389   0.014671  0.980741  0.422219  0.766656\n",
       "54 -0.092388   0.014592  6.331493  3.000000  0.100000\n",
       "13  0.002890   0.012788  0.225983  0.099999  0.766656\n",
       "50 -0.069494   0.012325  5.638473  2.677778  0.100000\n",
       "40 -0.039601   0.012065  3.282461  1.066671  1.766680\n",
       "46 -0.052633   0.010630  4.951485  2.355556  0.100000\n",
       "2  -0.002197   0.010131  0.216816  0.100000  0.433332\n",
       "33 -0.020508   0.009922  2.066906  0.744440  1.433315\n",
       "41 -0.039291   0.009206  4.268017  2.033333  0.100000\n",
       "36 -0.029458   0.008210  3.588059  1.711111  0.100000\n",
       "30 -0.021829   0.007501  2.910303  1.388889  0.100000\n",
       "22 -0.015325   0.006861  2.233669  1.066665  0.100000\n",
       "12 -0.010366   0.006651  1.558588  0.744444  0.100000\n",
       "1  -0.005450   0.006168  0.883546  0.422222  0.100000\n",
       "0  -0.001026   0.004907  0.208996  0.100000  0.100000\n",
       "39  0.010455   0.004641  2.252791  0.744447  1.766680\n",
       "45  0.015009   0.004207  3.567442  1.066668  2.100007\n",
       "24 -0.000917   0.000870  1.054086  0.422220  1.099989"
      ]
     },
     "execution_count": 106,
     "metadata": {},
     "output_type": "execute_result"
    }
   ],
   "source": [
    "err_tbl = pd.DataFrame({'error':error, 'rel_error':rel_error, 'V':V, 'I':I, 'freq':f})\n",
    "err_tbl.sort_values('rel_error', ascending=False)"
   ]
  },
  {
   "cell_type": "code",
   "execution_count": 98,
   "metadata": {},
   "outputs": [
    {
     "data": {
      "text/plain": [
       "array([-0.49073668, -0.61681206, -1.01308983, -1.90488762, -2.47585912,\n",
       "       -2.65161124, -2.77278755, -2.73082289, -2.67889954, -2.49481415,\n",
       "       -2.31464784, -2.04808841, -0.66506762,  1.27882281, -1.46710617,\n",
       "       -2.67807035, -3.25749102, -3.53877266, -3.50277549, -3.39019889,\n",
       "       -3.09459807, -2.54839796, -0.68607313,  4.75374471, -0.08697183,\n",
       "       -2.06764209, -3.04827919, -3.48386705, -3.55863965, -3.35042607,\n",
       "       -0.7500596 ,  8.44341895,  1.54869038, -0.99220615, -2.24909253,\n",
       "       -2.86838101, -0.82100274, 12.53868179,  3.46149348,  0.46407127,\n",
       "       -1.20645551, -0.92058555, 16.03281354,  5.58974297,  2.07738487,\n",
       "        0.42071627, -1.06296575, 19.49051003,  7.94962331,  3.52739768,\n",
       "       -1.23250064, 22.42799247, 10.08391789,  5.17151158, -1.45918867,\n",
       "       25.44064044, 12.05105725,  7.14907973])"
      ]
     },
     "execution_count": 98,
     "metadata": {},
     "output_type": "execute_result"
    }
   ],
   "source": [
    "rel_err*100"
   ]
  },
  {
   "cell_type": "code",
   "execution_count": 53,
   "metadata": {},
   "outputs": [
    {
     "data": {
      "text/plain": [
       "(array([ 6.,  8.,  7.,  9., 14.,  5.,  4.,  1.,  2.,  2.]),\n",
       " array([-0.17581891, -0.13630472, -0.09679054, -0.05727635, -0.01776217,\n",
       "         0.02175201,  0.0612662 ,  0.10078038,  0.14029457,  0.17980875,\n",
       "         0.21932294]),\n",
       " <a list of 10 Patch objects>)"
      ]
     },
     "execution_count": 53,
     "metadata": {},
     "output_type": "execute_result"
    }
   ],
   "source": [
    "plt.hist(error)"
   ]
  },
  {
   "cell_type": "markdown",
   "metadata": {},
   "source": [
    "### Adding the capacitance"
   ]
  },
  {
   "cell_type": "code",
   "execution_count": 50,
   "metadata": {},
   "outputs": [
    {
     "name": "stdout",
     "output_type": "stream",
     "text": [
      "Pole A\n",
      "R:2.118457140120971\n",
      "C:52995921.177957654\n",
      "L:0.20518056100490445\n",
      "Pole B\n",
      "R:2.108782231622595\n",
      "C:11407929.136339827\n",
      "L:0.2083910812384401\n",
      "Pole C\n",
      "R:2.07589810652447\n",
      "C:23490880.839797102\n",
      "L:0.20009204193023283\n"
     ]
    }
   ],
   "source": [
    "plt.close('all')\n",
    "fig = plt.figure(figsize=(20, 5))\n",
    "L_poles = np.zeros(3)\n",
    "for pole in poles:\n",
    "    with open(os.path.join(out_folder,'frequency_data_pole{}.p'.format(pole)), 'rb') as fp:\n",
    "        freq_data = pickle.load(fp)\n",
    "    \n",
    "    R = R_poles[pole]\n",
    "\n",
    "    print('Pole {}'.format(poles_dict[pole]))\n",
    "    V = freq_data['v_amp'].values\n",
    "    f = freq_data['freq'].values\n",
    "    I = freq_data['i_amp'].values\n",
    "\n",
    "    # filter out the data where the load is too big. Here assuming a large inductance of 1H\n",
    "    indx = I*np.sqrt(R**2+(np.pi*2*f)**2) < 15\n",
    "    f = f[indx]\n",
    "    V = V[indx]\n",
    "    I = I[indx]\n",
    "\n",
    "    x =np.hstack((f[:, np.newaxis], I[:, np.newaxis]))\n",
    "\n",
    "    amp_fitting = lambda x, L, C: x[:, 1]*np.sqrt(R**2+(np.pi*2*L*x[:, 0] - 1/(C*np.pi*2*x[:, 0]))**2)\n",
    "    popt, perr = curve_fit(amp_fitting, x, V)#, p0 = [0.01, 0.01], bounds=[[0, 0], [100, 100]])#, max_nfev=10000, diff_step=0.001)\n",
    "    amp_fun = lambda x: amp_fitting(x, *popt)\n",
    "    L = popt[0]\n",
    "    C = popt[1]\n",
    "    print('R:{}'.format(R))\n",
    "    print('C:{}'.format(C))\n",
    "    print('L:{}'.format(L))\n",
    "#     print('L error:{}'.format(perr[0][0]))\n",
    "#     L_poles[pole] = L\n",
    "\n",
    "    plt.subplot(1, len(poles), pole+1)\n",
    "    plt.scatter(f, amp_fun(x), c='red', alpha=0.7, label='Fit, L={:.4f} H'.format(L))\n",
    "    plt.scatter(f, V, c=I, marker='+', s=100, label='Data')\n",
    "\n",
    "    plt.xlabel('Frequency [Hz]')\n",
    "    plt.ylabel('Voltage amplitude [V]')\n",
    "    plt.title('Pole {} Amplitude Response Fit'.format(poles_dict[pole]))\n",
    "    plt.legend(loc='upper right')\n",
    "plt.tight_layout()\n",
    "# plt.savefig(os.path.join(out_folder, 'Amplitude_response_fit_withC.png'))\n",
    "    # plt.savefig(os.path.join(out_folder, 'Small-amplitude_response_pole{}_fit.png'.format(poles_dict[pole])))"
   ]
  },
  {
   "cell_type": "code",
   "execution_count": 94,
   "metadata": {},
   "outputs": [
    {
     "data": {
      "text/plain": [
       "array([-0.00102562, -0.00544982, -0.00219654, -0.01759671, -0.04056154,\n",
       "       -0.06235599, -0.08500894, -0.10310147, -0.12012305, -0.12935172,\n",
       "       -0.13617531, -0.1346249 , -0.01036566,  0.00288992, -0.01438852,\n",
       "       -0.04688546, -0.0822033 , -0.11661704, -0.14215768, -0.1633079 ,\n",
       "       -0.17216475, -0.16026822, -0.0153246 ,  0.01131939, -0.00091676,\n",
       "       -0.03920472, -0.08365364, -0.12505068, -0.15749102, -0.17581891,\n",
       "       -0.02182901,  0.02140291,  0.01770065, -0.02050797, -0.06746414,\n",
       "       -0.11274608, -0.02945806,  0.03387267,  0.04294625,  0.01045456,\n",
       "       -0.03960143, -0.03929075,  0.04640667,  0.07506936,  0.05088283,\n",
       "        0.01500881, -0.05263259,  0.06030442,  0.11495446,  0.09377579,\n",
       "       -0.06949422,  0.07420571,  0.15666578,  0.14827889, -0.09238843,\n",
       "        0.08955294,  0.20051199,  0.21932294])"
      ]
     },
     "execution_count": 94,
     "metadata": {},
     "output_type": "execute_result"
    }
   ],
   "source": [
    "error"
   ]
  },
  {
   "cell_type": "markdown",
   "metadata": {},
   "source": [
    "### Fit the phases"
   ]
  },
  {
   "cell_type": "code",
   "execution_count": 77,
   "metadata": {},
   "outputs": [
    {
     "name": "stdout",
     "output_type": "stream",
     "text": [
      "Lag:-0.1955311133374743\n"
     ]
    }
   ],
   "source": [
    "# delta_phase_functions = []\n",
    "# lags = []\n",
    "pole=0\n",
    "# for pole in poles:\n",
    "phase_delta = freq_data['phase_delta'].values\n",
    "V = freq_data['v_amp'].values\n",
    "f = freq_data['freq'].values\n",
    "I = freq_data['i_amp'].values\n",
    "\n",
    "\n",
    "# filter out the data where the load is too big. Here assuming a large inductance of 1H\n",
    "indx = I*np.sqrt(R**2+(np.pi*2*f)**2) < 15\n",
    "f = f[indx]\n",
    "V = V[indx]\n",
    "I = I[indx]\n",
    "phase_delta = phase_delta[indx]\n",
    "phase_delta -= np.pi\n",
    "# phase_delta[f>1.1] = -np.pi/2 - phase_delta[f>1.1]\n",
    "# phase_delta[phase_delta>2] -= 2*np.pi\n",
    "L = L_poles[pole]\n",
    "R = R_poles[pole]\n",
    "\n",
    "delta_phase_fit = lambda x, lag: np.arctan(2*np.pi*L/R*x)+2*np.pi*lag*x\n",
    "popt, perr = curve_fit(delta_phase_fit, f, phase_delta)\n",
    "lag = popt[0]\n",
    "print('Lag:{}'.format(lag))\n",
    "# lag, A, B, C = popt[0], popt[1]#, popt[2]\n",
    "# print('Lag: {}\\nk:{}'.format(lag, k))\n",
    "#     lags.append(lag.copy())\n",
    "delta_phase_fun = lambda x, popt=popt: delta_phase_fit(x, 0)\n",
    "#     delta_phase_functions.append(delta_phase_fun)\n",
    "\n",
    "plt.close('all')\n",
    "plt.scatter(f, phase_delta, c=I, cmap='winter')\n",
    "plt.scatter(f, delta_phase_fun(f), c='red', alpha=0.3)#, cmap='autumn')\n",
    "plt.xlabel('Frequency [Hz]')\n",
    "plt.ylabel('Phase delta')\n",
    "plt.title('Pole {} Phase Response Fit'.format(poles_dict[pole]))\n",
    "plt.tight_layout()\n",
    "#     plt.savefig(os.path.join(out_folder, 'Phase_response_pole{}_fit.png'.format(poles_dict[pole])))"
   ]
  },
  {
   "cell_type": "code",
   "execution_count": 78,
   "metadata": {},
   "outputs": [
    {
     "data": {
      "text/plain": [
       "array([-1.34826715, -1.28419527, -1.26465865, -1.25566757, -1.25143635,\n",
       "       -1.69823477, -1.63157583, -1.614664  , -1.6050002 , -2.05490713,\n",
       "       -1.99360224, -1.9778698 , -1.9726267 , -2.42422758, -2.37059669,\n",
       "       -2.35132243, -2.80033041, -2.75486246, -2.73640373, -3.18429192,\n",
       "       -3.14407569, -3.13007926])"
      ]
     },
     "execution_count": 78,
     "metadata": {},
     "output_type": "execute_result"
    }
   ],
   "source": [
    "phase_delta[f>1.1]"
   ]
  },
  {
   "cell_type": "markdown",
   "metadata": {},
   "source": [
    "### Save the final RL coefficients"
   ]
  },
  {
   "cell_type": "code",
   "execution_count": 45,
   "metadata": {},
   "outputs": [],
   "source": [
    "# rl_coeff = [\n",
    "#     {'R':2.124, 'L':0.2021},  \n",
    "#     {'R':2.115, 'L':0.2047},\n",
    "#     {'R':2.082, 'L':0.1966}\n",
    "# ]\n",
    "rl_coeff = [{'R': R, 'L': L} for R, L in zip(R_poles, L_poles)]\n",
    "with open('rl_coeff.p', 'wb') as f:\n",
    "    pickle.dump(rl_coeff, f)"
   ]
  },
  {
   "cell_type": "code",
   "execution_count": 44,
   "metadata": {},
   "outputs": [
    {
     "data": {
      "text/plain": [
       "[{'R': 2.118457140120971, 'L': 0.20518059468941194},\n",
       " {'R': 2.108782231622595, 'L': 0.20839111915413808},\n",
       " {'R': 2.07589810652447, 'L': 0.20009208671853965}]"
      ]
     },
     "execution_count": 44,
     "metadata": {},
     "output_type": "execute_result"
    }
   ],
   "source": [
    "rl_coeff"
   ]
  },
  {
   "cell_type": "code",
   "execution_count": null,
   "metadata": {},
   "outputs": [],
   "source": []
  }
 ],
 "metadata": {
  "kernelspec": {
   "display_name": "Python 3",
   "language": "python",
   "name": "python3"
  },
  "language_info": {
   "codemirror_mode": {
    "name": "ipython",
    "version": 3
   },
   "file_extension": ".py",
   "mimetype": "text/x-python",
   "name": "python",
   "nbconvert_exporter": "python",
   "pygments_lexer": "ipython3",
   "version": "3.8.0"
  }
 },
 "nbformat": 4,
 "nbformat_minor": 4
}
