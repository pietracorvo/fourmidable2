{
 "cells": [
  {
   "cell_type": "markdown",
   "metadata": {},
   "source": [
    "# Notebook for creating signals for  loop taking"
   ]
  },
  {
   "cell_type": "code",
   "execution_count": 7,
   "metadata": {},
   "outputs": [],
   "source": [
    "%matplotlib inline\n",
    "import numpy as np\n",
    "import matplotlib.pyplot as plt\n",
    "import os\n",
    "import shutil"
   ]
  },
  {
   "cell_type": "markdown",
   "metadata": {},
   "source": [
    "### Set of signals with offset for map taking"
   ]
  },
  {
   "cell_type": "code",
   "execution_count": 19,
   "metadata": {},
   "outputs": [],
   "source": [
    "maxz = 3 # maximum z signal\n",
    "z_step = 0.1 #step between z signals\n",
    "x_amp = 5 #amp of x sin signal\n",
    "freq = 1 # frequency in Hz\n",
    "folder = './signals/xz_map'\n",
    "# create the directory, delete if it exists\n",
    "if os.path.exists(folder):\n",
    "    shutil.rmtree(folder)\n",
    "os.mkdir(folder)\n",
    "    \n",
    "# let the signal be 1s long\n",
    "t = np.linspace(0, 1, 10000)\n",
    "# let the x signal just be a sin and then z takes different offset\n",
    "signal = np.zeros((len(t), 4))\n",
    "signal[:, 0] = t\n",
    "signal[:, 1] = x_amp*np.sin(2*np.pi*freq*t)\n",
    "for z in np.arange(-maxz, maxz+z_step, z_step):\n",
    "    signal[:, 3] = z\n",
    "    # create the file and put it in the folder\n",
    "    filename = 'map_offset{:.2f}.csv'.format(z)\n",
    "    np.savetxt(os.path.join(folder, filename), signal, delimiter=',')"
   ]
  },
  {
   "cell_type": "code",
   "execution_count": 11,
   "metadata": {},
   "outputs": [
    {
     "data": {
      "text/plain": [
       "array([-2, -1,  0,  1,  2])"
      ]
     },
     "execution_count": 11,
     "metadata": {},
     "output_type": "execute_result"
    }
   ],
   "source": [
    "np.arange(-maxz, maxz+z_step, z_step)"
   ]
  },
  {
   "cell_type": "code",
   "execution_count": 17,
   "metadata": {},
   "outputs": [
    {
     "name": "stdout",
     "output_type": "stream",
     "text": [
      "Signal 2/3\n"
     ]
    }
   ],
   "source": [
    "i = 2\n",
    "signal_list = [1, 2, 3]\n",
    "print('Signal {}/{}'.format(i, len(signal_list)))"
   ]
  },
  {
   "cell_type": "code",
   "execution_count": null,
   "metadata": {},
   "outputs": [],
   "source": [
    "60"
   ]
  }
 ],
 "metadata": {
  "kernelspec": {
   "display_name": "Python 3",
   "language": "python",
   "name": "python3"
  },
  "language_info": {
   "codemirror_mode": {
    "name": "ipython",
    "version": 3
   },
   "file_extension": ".py",
   "mimetype": "text/x-python",
   "name": "python",
   "nbconvert_exporter": "python",
   "pygments_lexer": "ipython3",
   "version": "3.6.5"
  }
 },
 "nbformat": 4,
 "nbformat_minor": 2
}
