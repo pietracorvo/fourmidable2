{
 "cells": [
  {
   "cell_type": "markdown",
   "metadata": {},
   "source": [
    "##  Import the modules and connect the stage"
   ]
  },
  {
   "cell_type": "markdown",
   "metadata": {},
   "source": [
    "The pipython library is acquired by contacting the PI. It has to be installed in the python envirnoment to work"
   ]
  },
  {
   "cell_type": "code",
   "execution_count": 1,
   "metadata": {},
   "outputs": [
    {
     "name": "stdout",
     "output_type": "stream",
     "text": [
      "connected: (c)2016 Physik Instrumente (PI) GmbH & Co. KG, E-873.1A1, 416003837, 02.012\n",
      "Referenced the axis. Ready.\n"
     ]
    }
   ],
   "source": [
    "from pipython import GCSDevice\n",
    "\n",
    "serialnum = '416003837'\n",
    "pidevice = GCSDevice('E-873')\n",
    "pidevice.ConnectUSB(serialnum)\n",
    "print('connected: {}'.format(pidevice.qIDN().strip()))\n",
    "\n",
    "axis = '1'\n",
    "pidevice.SVO(axis, 1)\n",
    "pidevice.RON(axis, 0)\n",
    "pidevice.VEL(axis, 1)\n",
    "pidevice.POS(axis, 0)\n",
    "print('Referenced the axis. Ready.')\n"
   ]
  },
  {
   "cell_type": "code",
   "execution_count": 3,
   "metadata": {},
   "outputs": [],
   "source": [
    "pidevice.MOV(axis, 0)"
   ]
  },
  {
   "cell_type": "code",
   "execution_count": null,
   "metadata": {},
   "outputs": [],
   "source": []
  }
 ],
 "metadata": {
  "kernelspec": {
   "display_name": "Python 3",
   "language": "python",
   "name": "python3"
  },
  "language_info": {
   "codemirror_mode": {
    "name": "ipython",
    "version": 3
   },
   "file_extension": ".py",
   "mimetype": "text/x-python",
   "name": "python",
   "nbconvert_exporter": "python",
   "pygments_lexer": "ipython3",
   "version": "3.6.5"
  }
 },
 "nbformat": 4,
 "nbformat_minor": 2
}
