{
 "cells": [
  {
   "cell_type": "code",
   "execution_count": 28,
   "id": "6deb98c0-3e4b-405e-9e45-af9c8a4ebc46",
   "metadata": {},
   "outputs": [],
   "source": [
    "import pylablib as pll\n",
    "from pylablib.devices import DCAM\n",
    "import numpy as np\n",
    "import matplotlib.pyplot as plt"
   ]
  },
  {
   "cell_type": "code",
   "execution_count": 116,
   "id": "fb229e8d-cfec-46d3-8edf-b59c666307bc",
   "metadata": {},
   "outputs": [],
   "source": [
    "cam = DCAM.DCAMCamera()"
   ]
  },
  {
   "cell_type": "code",
   "execution_count": 120,
   "id": "1a429fc7-9fd1-4dc5-afc3-fc031a6282bc",
   "metadata": {},
   "outputs": [
    {
     "data": {
      "text/plain": [
       "1.0000312"
      ]
     },
     "execution_count": 120,
     "metadata": {},
     "output_type": "execute_result"
    }
   ],
   "source": [
    "cam.set_exposure(1)"
   ]
  },
  {
   "cell_type": "code",
   "execution_count": 121,
   "id": "5b7be9fb-e5e0-44bb-9b82-9ed5d7f1e843",
   "metadata": {},
   "outputs": [
    {
     "data": {
      "text/plain": [
       "1.0000312"
      ]
     },
     "execution_count": 121,
     "metadata": {},
     "output_type": "execute_result"
    }
   ],
   "source": [
    "cam.get_exposure()"
   ]
  },
  {
   "cell_type": "code",
   "execution_count": 122,
   "id": "38b89fd2-3ad2-43e8-bb63-414608ba0c8a",
   "metadata": {},
   "outputs": [],
   "source": [
    "cam.setup_acquisition(mode='sequence', nframes=1)\n",
    "cam.start_acquisition()"
   ]
  },
  {
   "cell_type": "code",
   "execution_count": 146,
   "id": "7aff649a-3641-4b1f-bf6b-b3e173a6ed45",
   "metadata": {},
   "outputs": [
    {
     "name": "stdout",
     "output_type": "stream",
     "text": [
      "None\n"
     ]
    }
   ],
   "source": [
    "print(cam.read_newest_image())"
   ]
  },
  {
   "cell_type": "code",
   "execution_count": 119,
   "id": "d8ad426f-3f6e-4500-b912-d86d59e466da",
   "metadata": {},
   "outputs": [],
   "source": [
    "cam.stop_acquisition()"
   ]
  },
  {
   "cell_type": "code",
   "execution_count": 112,
   "id": "1a193c5b-5224-4caa-8fd9-9ebed2373349",
   "metadata": {},
   "outputs": [],
   "source": [
    "img = cam.read_newest_image()"
   ]
  },
  {
   "cell_type": "code",
   "execution_count": 114,
   "id": "1761942a-ee56-4c20-a500-97e855a618cc",
   "metadata": {},
   "outputs": [
    {
     "data": {
      "text/plain": [
       "(2048, 2048)"
      ]
     },
     "execution_count": 114,
     "metadata": {},
     "output_type": "execute_result"
    }
   ],
   "source": [
    "img.shape"
   ]
  },
  {
   "cell_type": "code",
   "execution_count": 148,
   "id": "8db989be-4bf5-44c3-ab7f-d870c106c590",
   "metadata": {},
   "outputs": [],
   "source": [
    "cam.close()"
   ]
  }
 ],
 "metadata": {
  "kernelspec": {
   "display_name": "Python 3 (ipykernel)",
   "language": "python",
   "name": "python3"
  },
  "language_info": {
   "codemirror_mode": {
    "name": "ipython",
    "version": 3
   },
   "file_extension": ".py",
   "mimetype": "text/x-python",
   "name": "python",
   "nbconvert_exporter": "python",
   "pygments_lexer": "ipython3",
   "version": "3.10.11"
  }
 },
 "nbformat": 4,
 "nbformat_minor": 5
}
