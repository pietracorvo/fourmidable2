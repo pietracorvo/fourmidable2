{
 "cells": [
  {
   "cell_type": "markdown",
   "metadata": {},
   "source": [
    "#  Testing Thorlabs DCx camera"
   ]
  },
  {
   "cell_type": "code",
   "execution_count": 1,
   "metadata": {},
   "outputs": [],
   "source": [
    "from instrumental import instrument, list_instruments\n",
    "import numpy as np\n",
    "import cv2\n",
    "from matplotlib import pyplot as plt\n",
    "import pylab as p\n",
    "\n",
    "\n"
   ]
  },
  {
   "cell_type": "code",
   "execution_count": 19,
   "metadata": {},
   "outputs": [
    {
     "name": "stdout",
     "output_type": "stream",
     "text": [
      "<ParamSet[UC480_Camera] serial=b'4103175850' model=b'C1284R13C' id=1>\n"
     ]
    },
    {
     "ename": "Exception",
     "evalue": "Instrument with alias `bla` not found in config file",
     "output_type": "error",
     "traceback": [
      "\u001b[1;31m---------------------------------------------------------------------------\u001b[0m",
      "\u001b[1;31mException\u001b[0m                                 Traceback (most recent call last)",
      "\u001b[1;32m<ipython-input-19-5f721fce3edd>\u001b[0m in \u001b[0;36m<module>\u001b[1;34m()\u001b[0m\n\u001b[0;32m      3\u001b[0m \u001b[1;31m# print(paramsets)\u001b[0m\u001b[1;33m\u001b[0m\u001b[1;33m\u001b[0m\u001b[0m\n\u001b[0;32m      4\u001b[0m \u001b[0mprint\u001b[0m\u001b[1;33m(\u001b[0m\u001b[0mparamsets\u001b[0m\u001b[1;33m[\u001b[0m\u001b[1;36m0\u001b[0m\u001b[1;33m]\u001b[0m\u001b[1;33m)\u001b[0m\u001b[1;33m\u001b[0m\u001b[0m\n\u001b[1;32m----> 5\u001b[1;33m \u001b[0mdaq\u001b[0m \u001b[1;33m=\u001b[0m \u001b[0minstrument\u001b[0m\u001b[1;33m(\u001b[0m\u001b[1;34m'bla'\u001b[0m\u001b[1;33m)\u001b[0m\u001b[1;33m\u001b[0m\u001b[0m\n\u001b[0m",
      "\u001b[1;32mC:\\ProgramData\\Anaconda3\\lib\\site-packages\\instrumental\\drivers\\__init__.py\u001b[0m in \u001b[0;36minstrument\u001b[1;34m(inst, **kwargs)\u001b[0m\n\u001b[0;32m   1253\u001b[0m     \u001b[1;32mif\u001b[0m \u001b[0misinstance\u001b[0m\u001b[1;33m(\u001b[0m\u001b[0minst\u001b[0m\u001b[1;33m,\u001b[0m \u001b[0mInstrument\u001b[0m\u001b[1;33m)\u001b[0m\u001b[1;33m:\u001b[0m\u001b[1;33m\u001b[0m\u001b[0m\n\u001b[0;32m   1254\u001b[0m         \u001b[1;32mreturn\u001b[0m \u001b[0minst\u001b[0m\u001b[1;33m\u001b[0m\u001b[0m\n\u001b[1;32m-> 1255\u001b[1;33m     \u001b[0mparams\u001b[0m\u001b[1;33m,\u001b[0m \u001b[0malias\u001b[0m \u001b[1;33m=\u001b[0m \u001b[0m_extract_params\u001b[0m\u001b[1;33m(\u001b[0m\u001b[0minst\u001b[0m\u001b[1;33m,\u001b[0m \u001b[0mkwargs\u001b[0m\u001b[1;33m)\u001b[0m\u001b[1;33m\u001b[0m\u001b[0m\n\u001b[0m\u001b[0;32m   1256\u001b[0m \u001b[1;33m\u001b[0m\u001b[0m\n\u001b[0;32m   1257\u001b[0m     \u001b[1;32mif\u001b[0m \u001b[1;34m'server'\u001b[0m \u001b[1;32min\u001b[0m \u001b[0mparams\u001b[0m\u001b[1;33m:\u001b[0m\u001b[1;33m\u001b[0m\u001b[0m\n",
      "\u001b[1;32mC:\\ProgramData\\Anaconda3\\lib\\site-packages\\instrumental\\drivers\\__init__.py\u001b[0m in \u001b[0;36m_extract_params\u001b[1;34m(inst, kwargs)\u001b[0m\n\u001b[0;32m    930\u001b[0m         \u001b[1;32mif\u001b[0m \u001b[0mraw_params\u001b[0m \u001b[1;32mis\u001b[0m \u001b[1;32mNone\u001b[0m\u001b[1;33m:\u001b[0m\u001b[1;33m\u001b[0m\u001b[0m\n\u001b[0;32m    931\u001b[0m             raise Exception(\"Instrument with alias `{}` not \".format(name) +\n\u001b[1;32m--> 932\u001b[1;33m                             \"found in config file\")\n\u001b[0m\u001b[0;32m    933\u001b[0m \u001b[1;33m\u001b[0m\u001b[0m\n\u001b[0;32m    934\u001b[0m     \u001b[0mparams\u001b[0m \u001b[1;33m=\u001b[0m \u001b[0mParamSet\u001b[0m\u001b[1;33m(\u001b[0m\u001b[1;33m**\u001b[0m\u001b[0mraw_params\u001b[0m\u001b[1;33m)\u001b[0m  \u001b[1;31m# Copy first to avoid modifying input dicts\u001b[0m\u001b[1;33m\u001b[0m\u001b[0m\n",
      "\u001b[1;31mException\u001b[0m: Instrument with alias `bla` not found in config file"
     ]
    }
   ],
   "source": [
    "\n",
    "paramsets = list_instruments(module='cameras')\n",
    "# print(paramsets)\n",
    "print(paramsets[0])\n",
    "daq = instrument('bla')"
   ]
  },
  {
   "cell_type": "markdown",
   "metadata": {},
   "source": [
    "## Grab one image and display"
   ]
  },
  {
   "cell_type": "code",
   "execution_count": null,
   "metadata": {},
   "outputs": [],
   "source": [
    "\n",
    "img = daq.grab_image()\n",
    "#adjust brightness\n",
    "img_adj = img.sum(axis = 2)\n",
    "img_adj = cv2.equalizeHist(np.uint8(img_adj))\n",
    "    \n",
    "    \n",
    "# plt.imshow(img_adj, aspect=\"auto\")\n",
    "# plt.show()\n",
    "# fig = plt.figure()\n",
    "ax = plt.subplot(111)\n",
    "im = ax.imshow(img_adj, cmap='gray')"
   ]
  },
  {
   "cell_type": "markdown",
   "metadata": {},
   "source": [
    "##  Start video stream"
   ]
  },
  {
   "cell_type": "code",
   "execution_count": null,
   "metadata": {},
   "outputs": [],
   "source": [
    "# ax = plt.subplot(111)\n",
    "import matplotlib.animation as animation\n",
    "\n",
    "# cv2.namedWindow( 'video', cv2.WINDOW_AUTOSIZE );\n",
    "\n",
    "img = daq.grab_image(timeout='1s', copy=True)\n",
    "img_adj = img.sum(axis = 2)\n",
    "img_adj = cv2.equalizeHist(np.uint8(img_adj))\n",
    "\n",
    "\n",
    "fig = plt.figure()\n",
    "ax = plt.subplot(111)\n",
    "img_disp = ax.imshow(img_adj, cmap='gray')\n",
    "plt.pause(0.1)\n",
    "\n",
    "daq.start_live_video(framerate=\"10 hertz\")\n",
    "while True:\n",
    "    daq.wait_for_frame(timeout=None)\n",
    "    img = daq.latest_frame(copy=True)\n",
    "    img_adj = img.sum(axis = 2)\n",
    "    img_adj = cv2.equalizeHist(np.uint8(img_adj))\n",
    "    img_disp.set_data(img_adj)\n",
    "    fig.canvas.draw()\n",
    "    plt.pause(0.001)\n",
    "    "
   ]
  },
  {
   "cell_type": "code",
   "execution_count": null,
   "metadata": {},
   "outputs": [],
   "source": [
    "import matplotlib.animation as animation\n",
    "\n",
    "# cv2.namedWindow( 'video', cv2.WINDOW_AUTOSIZE );\n",
    "\n",
    "def animate(i):\n",
    "    img = daq.latest_frame(copy=True)\n",
    "    img_adj = img.sum(axis = 2)\n",
    "    img_adj = cv2.equalizeHist(np.uint8(img_adj))\n",
    "    ax.clear()\n",
    "    ax.imshow(img_adj, cmap='gray')\n",
    "    print('bla')\n",
    "    \n",
    "\n",
    "fig = plt.figure()\n",
    "ax = plt.subplot(111)\n",
    "\n",
    "daq.start_live_video(framerate=\"10 hertz\")\n",
    "ani = animation.FuncAnimation(fig, animate, interval=10)\n",
    "plt.show()\n",
    "\n",
    "\n",
    "    "
   ]
  },
  {
   "cell_type": "code",
   "execution_count": null,
   "metadata": {},
   "outputs": [],
   "source": [
    "import numpy as np\n",
    "from matplotlib import pyplot as plt\n",
    "\n",
    "class LivePlotNotebook(object):\n",
    "    \"\"\"\n",
    "    Live plot using %matplotlib notebook in jupyter notebook\n",
    "    \n",
    "    Usage:\n",
    "    ```\n",
    "    import time\n",
    "    liveplot = LivePlotNotebook()\n",
    "    x=np.random.random((10,))\n",
    "    for i in range(10):\n",
    "        time.sleep(1)\n",
    "        liveplot.update(\n",
    "            x=x+np.random.random(x.shape)/10,\n",
    "            actions=np.random.randint(0, 3, size=(10,))\n",
    "        )\n",
    "    ```\n",
    "    \n",
    "    url:\n",
    "    \"\"\"\n",
    "\n",
    "    def __init__(self):\n",
    "        %matplotlib notebook\n",
    "        fig,ax = plt.subplots(1,1)\n",
    "        \n",
    "        ax.plot([0]*20, label='price')\n",
    "        ax.plot([1]*20, [1]*20, 'o', ms=12,c='gray', label='hold')\n",
    "        ax.plot([0]*20, [0]*20, '^', ms=12,c='blue', label='buy' )\n",
    "        ax.plot([0]*20, [0]*20, 'v', ms=12,c='red', label='sell')\n",
    "        \n",
    "        ax.set_xlim(0,1)\n",
    "        ax.set_ylim(0,1)\n",
    "        ax.legend()\n",
    "        ax.set_xlabel('timesteps')\n",
    "        ax.grid()\n",
    "        ax.set_title('actions')\n",
    "        \n",
    "        self.ax = ax\n",
    "        self.fig = fig\n",
    "\n",
    "    def update(self, x, actions):             \n",
    "        # update price\n",
    "        line = self.ax.lines[0]\n",
    "        line.set_xdata(range(len(x)))\n",
    "        line.set_ydata(x)\n",
    "        \n",
    "        # update action plots\n",
    "        for i, line in enumerate(self.ax.lines[1:]):\n",
    "            line.set_xdata(np.argwhere(actions==i).T)\n",
    "            line.set_ydata(x[actions==i])\n",
    "            line.set_marker(['o','^','v'][i])\n",
    "\n",
    "        # update limits\n",
    "        self.ax.set_xlim(0, len(actions))\n",
    "        self.ax.set_ylim(x.min(), x.max())\n",
    "\n",
    "        self.fig.canvas.draw()\n",
    "        \n",
    "# Test\n",
    "import time\n",
    "liveplot = LivePlotNotebook()\n",
    "x=np.random.random((10,))\n",
    "for i in range(10):\n",
    "    time.sleep(1)\n",
    "    liveplot.update(\n",
    "        x=x+np.random.random(x.shape)/10,\n",
    "        actions=np.random.randint(0, 3, size=(10,))\n",
    ")"
   ]
  },
  {
   "cell_type": "code",
   "execution_count": null,
   "metadata": {},
   "outputs": [],
   "source": []
  }
 ],
 "metadata": {
  "kernelspec": {
   "display_name": "Python 3",
   "language": "python",
   "name": "python3"
  },
  "language_info": {
   "codemirror_mode": {
    "name": "ipython",
    "version": 3
   },
   "file_extension": ".py",
   "mimetype": "text/x-python",
   "name": "python",
   "nbconvert_exporter": "python",
   "pygments_lexer": "ipython3",
   "version": "3.6.5"
  }
 },
 "nbformat": 4,
 "nbformat_minor": 2
}
