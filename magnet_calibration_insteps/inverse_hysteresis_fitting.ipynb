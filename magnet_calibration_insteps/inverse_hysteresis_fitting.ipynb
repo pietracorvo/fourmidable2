{
 "cells": [
  {
   "cell_type": "code",
   "execution_count": 1,
   "metadata": {},
   "outputs": [],
   "source": [
    "%matplotlib qt\n",
    "import numpy as np\n",
    "import pandas as pd\n",
    "import matplotlib.pyplot as plt\n",
    "import h5py\n",
    "import os\n",
    "from scipy.stats import binned_statistic\n",
    "from scipy.optimize import curve_fit\n",
    "import concurrent\n",
    "import pickle\n",
    "from scipy.interpolate import griddata\n",
    "from scipy import interpolate\n",
    "\n",
    "import matplotlib\n",
    "from mpl_toolkits import mplot3d\n",
    "font = {'size'   : 16}\n",
    "matplotlib.rc('font', **font)"
   ]
  },
  {
   "cell_type": "code",
   "execution_count": 2,
   "metadata": {},
   "outputs": [
    {
     "name": "stdout",
     "output_type": "stream",
     "text": [
      "True\n"
     ]
    }
   ],
   "source": [
    "file_path = r\"C:\\Users\\lukas\\OneDrive - University of Cambridge\\PhD\\3DMOKE\\Data\\MagnetCalibration\\hex_minor_Ichannel.h5\"\n",
    "print(os.path.isfile(file_path))\n",
    "out_folder = 'results'\n",
    "try:\n",
    "    os.stat(out_folder)\n",
    "except:\n",
    "    os.mkdir(out_folder) \n",
    "poles = [0, 1, 2]\n",
    "poles_dict = {0:'A', 1:'B', 2:'C'}"
   ]
  },
  {
   "cell_type": "code",
   "execution_count": 4,
   "metadata": {},
   "outputs": [],
   "source": [
    "# poles = [0]\n",
    "def filter_data(data, bin_step=100):\n",
    "    # to speed up, filter the high frequency stuff\n",
    "    t = data[:, 0].copy()\n",
    "    n = int(len(t)/bin_step)\n",
    "    data_bin = np.zeros((n, data.shape[1]))\n",
    "    for i in range(data.shape[1]):\n",
    "        data_bin[:, i] = binned_statistic(t, data[:, i], bins=int(len(t)/bin_step), statistic='mean').statistic\n",
    "    return data_bin\n",
    "\n",
    "hyst_all = []\n",
    "hyst_file_path = file_path\n",
    "# get the rl coefficients\n",
    "with open('rl_coeff.p', 'rb') as f:\n",
    "    rl_coeff = pickle.load(f)\n",
    "hp_minmax = np.zeros((3, 2))\n",
    "with h5py.File(hyst_file_path, 'r') as f:\n",
    "    for pole in poles:\n",
    "        hyst_pole = []\n",
    "        pole_grp = f['pole{}'.format(pole)]\n",
    "        for step in pole_grp.keys():\n",
    "            hp = pd.DataFrame(pole_grp[step+'/hallprobe/data'][:])\n",
    "            hx = pd.DataFrame(pole_grp[step+'/hexapole/data'][:])\n",
    "            total_t = hp[0].values[-1] - hp[0].values[0]\n",
    "            bins = np.arange(hp[0].iloc[0], hp[0].iloc[-1], 1/100)\n",
    "\n",
    "            hp['bins'] = pd.cut(hp[0], bins, right=False)\n",
    "            hp = hp.groupby('bins').mean().reset_index().drop(labels=[0,'bins'], axis=1)\n",
    "            hp.columns = ['hpA', 'hpB', 'hpC']\n",
    "            hx['bins'] = pd.cut(hx[0], bins, right=False)\n",
    "            hx = hx.groupby('bins').mean().reset_index().drop(labels=[0,'bins'], axis=1)\n",
    "            hx.columns = ['hxA', 'hxB', 'hxC']\n",
    "            \n",
    "\n",
    "            # add to one dataframe, flip hp for convenience\n",
    "            hp *= -1\n",
    "            hyst_step = pd.concat([hp, hx], axis=1)\n",
    "            # get the min and max values\n",
    "            hpmin = np.min(hp.values)\n",
    "            hpmax = np.max(hp.values)\n",
    "            if hp_minmax[pole, 0] > hpmin:\n",
    "                hp_minmax[pole, 0] = hpmin\n",
    "            if hp_minmax[pole, 1] < hpmax:\n",
    "                hp_minmax[pole, 1] = hpmax\n",
    "            # remove the part where we hit compliance\n",
    "#             complianceV = 20/np.sqrt(rl_coeff[pole]['R']**2 + (2*np.pi*rl_coeff[pole]['L']/total_t)**2)\n",
    "            complianceV = 9\n",
    "            hyst_step[hx.columns] = hyst_step[hyst_step[hx.columns].abs()<complianceV][hx.columns]\n",
    "            hyst_step.dropna(inplace=True)\n",
    "            \n",
    "            # add to the list\n",
    "            hyst_pole.append(hyst_step.copy())\n",
    "        # sort the list based on the amplitude\n",
    "        hx_amps = np.zeros(len(hyst_pole))\n",
    "        for i, df in enumerate(hyst_pole):\n",
    "            hx = df['hx'+poles_dict[pole]]\n",
    "            hx_amps[i] = hx.max() - hx.min()\n",
    "        # sort the hyst pole based on amps\n",
    "        hyst_pole = [x for _,x in sorted(zip(hx_amps,hyst_pole))]\n",
    "\n",
    "        # add to the pole list\n",
    "        hyst_all.append(hyst_pole)"
   ]
  },
  {
   "cell_type": "code",
   "execution_count": 12,
   "metadata": {},
   "outputs": [],
   "source": []
  },
  {
   "cell_type": "code",
   "execution_count": null,
   "metadata": {},
   "outputs": [],
   "source": []
  },
  {
   "cell_type": "code",
   "execution_count": 15,
   "metadata": {},
   "outputs": [
    {
     "data": {
      "text/plain": [
       "<matplotlib.legend.Legend at 0x1c4e1be0>"
      ]
     },
     "execution_count": 15,
     "metadata": {},
     "output_type": "execute_result"
    }
   ],
   "source": [
    "# plot the bounding loop\n",
    "bounding_loop = hyst_all[pole][-1]\n",
    "x_full = bounding_loop['hp'+poles_dict[pole]].values\n",
    "y_full = bounding_loop['hx'+poles_dict[pole]].values\n",
    "\n",
    "poly_coeff = np.polyfit(x_full, y_full, deg=7)\n",
    "polyfit = np.poly1d(poly_coeff)\n",
    "polyder_coeff = np.polyder(poly_coeff, 1)\n",
    "polyder = np.poly1d(polyder_coeff)\n",
    "\n",
    "plt.close('all')\n",
    "plt.plot(x_full, y_full, label='data')\n",
    "plt.plot(x_full, polyfit(x_full), label='fit')\n",
    "plt.plot(x_full, polyder(x_full), label='derivative')\n",
    "plt.legend()\n",
    "# plt.plot(x_full / np.max(x_full), label='hallprobe')\n",
    "# plt.plot(y_full / np.max(y_full), label = 'hexapole')"
   ]
  },
  {
   "cell_type": "code",
   "execution_count": 16,
   "metadata": {},
   "outputs": [],
   "source": [
    "# plot everything\n",
    "# plt.close()\n",
    "plt.figure(figsize=(16, 8))\n",
    "for pole, hyst_pole in enumerate(hyst_all):\n",
    "    plt.subplot(1, len(poles), pole+1)\n",
    "    for i, hyst_step in enumerate(hyst_pole):\n",
    "        plt.plot(hyst_step['hp'+poles_dict[pole]],hyst_step['hx'+poles_dict[pole]], label='step{}'.format(i))\n",
    "        plt.xlabel('Measured field [V]')\n",
    "        plt.ylabel('Applied current [A]')\n",
    "#     plt.legend()\n",
    "    plt.title('Pole {}'.format(poles_dict[pole]))\n",
    "\n",
    "plt.tight_layout()\n",
    "# plt.savefig(os.path.join(out_folder, 'Magnet minor loops flipped.png'))"
   ]
  },
  {
   "cell_type": "code",
   "execution_count": 18,
   "metadata": {},
   "outputs": [],
   "source": [
    "with open('hyst_poly_coeff.p', 'wb') as f:\n",
    "    pickle.dump({'loop':poly_coeff, 'deriv': polyder_coeff}, f)"
   ]
  },
  {
   "cell_type": "markdown",
   "metadata": {},
   "source": [
    "### Fitting the bounding loop (f<sub>a</sub>)"
   ]
  },
  {
   "cell_type": "code",
   "execution_count": 88,
   "metadata": {},
   "outputs": [
    {
     "name": "stdout",
     "output_type": "stream",
     "text": [
      "\n",
      "Pole A\n",
      "Maximum error: 0.060V\n",
      "Std error: 0.022V\n",
      "\n",
      "Pole B\n",
      "Maximum error: 0.056V\n",
      "Std error: 0.022V\n",
      "\n",
      "Pole C\n",
      "Maximum error: 0.064V\n",
      "Std error: 0.022V\n"
     ]
    }
   ],
   "source": [
    "plt.close('all')\n",
    "plt.figure(figsize=(18, 7))\n",
    "main_branch_fits = []\n",
    "\n",
    "for pole in poles:\n",
    "    print('\\nPole '+poles_dict[pole])\n",
    "    bounding_loop = hyst_all[pole][-1]\n",
    "    x_full = bounding_loop['hp'+poles_dict[pole]].values\n",
    "    y_full = bounding_loop['hx'+poles_dict[pole]].values\n",
    "    # take only the top half\n",
    "    x = x_full[:int(np.floor(len(x_full)/2))]\n",
    "    y = y_full[:int(np.floor(len(y_full)/2))]\n",
    "\n",
    "    # fit the hysteresis\n",
    "    idx = np.argsort(x)\n",
    "    x, y = x[idx], y[idx]\n",
    "    spl = interpolate.UnivariateSpline(x, y, s=0.2)\n",
    "#     spl = interpolate.InterpolatedUnivariateSpline(x, y)\n",
    "    main_branch_fits.append(spl)\n",
    "    y_fit = spl.__call__(x)\n",
    "    \n",
    "    # do the error analysis\n",
    "    err = np.abs((y_fit - y))\n",
    "    idx = np.argmax(err)\n",
    "    maxerr = err[idx]\n",
    "    maxrelerr = np.abs(np.max(np.abs(err/y)))\n",
    "    stderr = np.sqrt(np.mean(err**2))\n",
    "    s = 'Maximum error: {:.3f}V\\nStd error: {:.3f}V'.format(maxerr, stderr)\n",
    "    print(s)\n",
    "#     print(y[idx])\n",
    "    \n",
    "#     coeff = np.polyfit(x, y, deg=12)\n",
    "#     f_a = np.poly1d(coeff)\n",
    "    \n",
    "    plt.subplot(1, len(poles), pole+1)\n",
    "    plt.plot(x_full, y_full, label='Measurement')\n",
    "    x_tst = np.linspace(-1.9, 1.9, 1000)\n",
    "    plt.plot(x_tst, spl.__call__(x_tst), label='Fit')\n",
    "    plt.legend()\n",
    "    plt.ylabel('Applied current [A]')\n",
    "    plt.xlabel('Measured field [V]')\n",
    "    plt.title('Pole '+poles_dict[pole])\n",
    "    plt.text(-2, 6, s, )\n",
    "    \n",
    "plt.tight_layout()\n",
    "# plt.savefig(os.path.join(out_folder, 'Fitting bounding loop all poles.png'))"
   ]
  },
  {
   "cell_type": "markdown",
   "metadata": {},
   "source": [
    "### Fitting the minor loops f<sub>ab"
   ]
  },
  {
   "cell_type": "code",
   "execution_count": 89,
   "metadata": {},
   "outputs": [],
   "source": [
    "# for each of the transition curves, get the value maximum value it gets to\n",
    "transition_curves = []\n",
    "for pole in poles:\n",
    "    # maximum value of the minor loops\n",
    "    minor_loops = hyst_all[pole]\n",
    "    # a = np.array([minor_loop['hx'+poles_dict[pole]].max() for minor_loop in minor_loops])\n",
    "    # get the list of returning loops\n",
    "    tran_curves = []\n",
    "    for ml in minor_loops:\n",
    "        y = ml['hx'+poles_dict[pole]]\n",
    "        x = ml['hp'+poles_dict[pole]]\n",
    "        # get the maximum value of the loop\n",
    "        a = x.max()\n",
    "        # take only the bottom half\n",
    "        b = x[int(np.floor(len(x)/2)):].values\n",
    "        f_ab = y[int(np.floor(len(y)/2)):].values\n",
    "        tran_curves.append(np.stack((a*np.ones(b.size), b, f_ab), axis=1))\n",
    "    transition_curves.append(np.concatenate(tran_curves, axis=0))"
   ]
  },
  {
   "cell_type": "code",
   "execution_count": 90,
   "metadata": {},
   "outputs": [
    {
     "name": "stdout",
     "output_type": "stream",
     "text": [
      "0.028748273728068825\n",
      "[6, 4, 4]\n"
     ]
    },
    {
     "name": "stderr",
     "output_type": "stream",
     "text": [
      "c:\\users\\lukas\\appdata\\local\\programs\\python\\python38-32\\lib\\site-packages\\scipy\\interpolate\\fitpack2.py:1065: UserWarning: ier=1499\n",
      "  warnings.warn(message)\n",
      "c:\\users\\lukas\\appdata\\local\\programs\\python\\python38-32\\lib\\site-packages\\scipy\\interpolate\\fitpack2.py:1065: UserWarning: ier=988\n",
      "  warnings.warn(message)\n"
     ]
    },
    {
     "name": "stdout",
     "output_type": "stream",
     "text": [
      "Done!\n"
     ]
    }
   ],
   "source": [
    "pole = 0\n",
    "tran_pole = transition_curves[pole]\n",
    "x, y, z = tran_pole[:, 0], tran_pole[:, 1], tran_pole[:, 2]\n",
    "# try to optimize the metaparameters\n",
    "bestparams = [1, 1, 1]\n",
    "minerr = 1000\n",
    "for s in range(3, 40):\n",
    "    for kx in range(1, 5):\n",
    "        for ky in range(1, 5):\n",
    "            fit = interpolate.SmoothBivariateSpline(x, y, z, s=s, kx=kx, ky=ky)\n",
    "            z_eval = fit.ev(x, y)\n",
    "            # do the error analysis\n",
    "            err = np.abs((z - z_eval))\n",
    "            stderr = np.sqrt(np.mean(err**2))\n",
    "            if stderr < minerr:\n",
    "                bestparams = [s, kx, ky]\n",
    "                minerr = stderr\n",
    "                print(minerr)\n",
    "                print(bestparams)\n",
    "print('Done!')\n"
   ]
  },
  {
   "cell_type": "code",
   "execution_count": 92,
   "metadata": {},
   "outputs": [
    {
     "name": "stdout",
     "output_type": "stream",
     "text": [
      "\n",
      "Pole A\n",
      "Maximum error: 0.11V\n",
      "Std error: 0.029V\n",
      "\n",
      "Pole B\n",
      "Maximum error: 0.08V\n",
      "Std error: 0.029V\n",
      "\n",
      "Pole C\n",
      "Maximum error: 0.08V\n",
      "Std error: 0.029V\n"
     ]
    }
   ],
   "source": [
    "plt.close('all')\n",
    "fig = plt.figure(figsize=(18, 9))\n",
    "transition_fits = []\n",
    "poles = [0, 1, 2]\n",
    "for pole in poles:\n",
    "    print('\\nPole '+poles_dict[pole])\n",
    "    tran_pole = transition_curves[pole]\n",
    "    x, y, z = tran_pole[:, 0], tran_pole[:, 1], tran_pole[:, 2]\n",
    "    grid_x, grid_y = np.mgrid[-2:2:200j, -2:2:200j]\n",
    "#     fit = interpolate.interp2d(x, y, z, kind='cubic')\n",
    "                \n",
    "    fit = interpolate.SmoothBivariateSpline(x, y, z, s=bestparams[0], kx=bestparams[1], ky=bestparams[2])\n",
    "    transition_fits.append(fit)\n",
    "    grid_z = fit.__call__(grid_x[:, 0], grid_y[0, :])\n",
    "#     grid_z = np.reshape(fit(grid_x.flatten(), grid_y.flatten()), grid_x.shape)\n",
    "\n",
    "    # for illustration purposes, make the grid z be 0 outside of the relevant area\n",
    "    idx = grid_x<grid_y\n",
    "    grid_z[idx] = 0\n",
    "    \n",
    "    grid_z = np.reshape(grid_z, grid_x.shape)\n",
    "\n",
    "    ax = fig.add_subplot(1, len(poles), 1+pole, projection='3d')\n",
    "    ax.scatter(x, y, z)\n",
    "    ax.plot_surface(grid_x, grid_y, grid_z, alpha=0.5, color='red')\n",
    "    ax.set_zlim([-10, 10])\n",
    "    ax.set_xlabel(r'$\\alpha$ [V]')\n",
    "    ax.set_ylabel(r'$\\beta$ [V]')\n",
    "    ax.set_zlabel(r'$f_{\\alpha\\beta}$ [V]')\n",
    "    \n",
    "\n",
    "    ax.view_init(15, -140)\n",
    "    z_eval = fit.ev(x, y)\n",
    "    \n",
    "    \n",
    "    # do the error analysis\n",
    "    err = np.abs((z - z_eval))\n",
    "    idx = np.argmax(err)\n",
    "    maxerr = err[idx]\n",
    "    maxrelerr = np.abs(np.max(np.abs(err/z)))\n",
    "    stderr = np.sqrt(np.mean(err**2))\n",
    "    s = 'Maximum error: {:.2f}V\\nStd error: {:.3f}V'.format(maxerr, stderr)\n",
    "    print(s)\n",
    "#     print('Value at max rel: {}'.format(z[np.argmax(np.abs(err/z))]))\n",
    "    plt.title('Pole {}\\n'.format(poles_dict[pole])+s)\n",
    "\n",
    "plt.tight_layout()\n",
    "plt.savefig(os.path.join(out_folder, 'Fitting transition curves all poles.png'))"
   ]
  },
  {
   "cell_type": "markdown",
   "metadata": {},
   "source": [
    "### Define the triangle function F(a, b)"
   ]
  },
  {
   "cell_type": "code",
   "execution_count": 8,
   "metadata": {},
   "outputs": [
    {
     "name": "stdout",
     "output_type": "stream",
     "text": [
      "0.009823854425893508\n",
      "9.324649904682046\n",
      "-9.169066344840166\n"
     ]
    }
   ],
   "source": [
    "# define the triangle functions:\n",
    "F_functions = [lambda a, b, f_a=f_a, f_ab=f_ab: (f_a.__call__(a) - f_ab.ev(a, b))/2 for f_a, f_ab in zip(main_branch_fits, transition_fits)]\n",
    "# check that it gives sensible results\n",
    "print(F_functions[0](1.8, 1.8))\n",
    "print(main_branch_fits[1].__call__(1.8))\n",
    "print(transition_fits[1].ev(1.8, -1.8))"
   ]
  },
  {
   "cell_type": "markdown",
   "metadata": {},
   "source": [
    "### Create functions for updating the line points of the Prezbiach model"
   ]
  },
  {
   "cell_type": "code",
   "execution_count": 3,
   "metadata": {},
   "outputs": [],
   "source": [
    "from numba import jit\n",
    "\n",
    "@jit(nopython=True)\n",
    "def update_line(L, x):\n",
    "    # first find out if we went up or down\n",
    "    if L[-1, 0] < x:\n",
    "        # we went up, get rid of the history of all elements that have alpha smaller than x\n",
    "        L[L[:, 0] < x, 0] = x\n",
    "        # add the newest element\n",
    "        L = np.vstack((L, np.array([[x, x]])))\n",
    "        # every other element needs to have a different alpha, otherwise need to get rid of it\n",
    "        keep = np.zeros(L.shape[0]).astype(np.bool_)\n",
    "        keep[0] = True\n",
    "        keep[-1] = True\n",
    "        for i in range(L.shape[0]-2):\n",
    "            if L[i, 0] != L[i+1, 0]:\n",
    "                keep[i] = True\n",
    "                keep[i+1] = True\n",
    "        L = L[keep, :]\n",
    "        return L\n",
    "    if L[-1, 0] > x:\n",
    "        # we went up, get rid of the history of all elements that have alpha smaller than x\n",
    "        L[L[:, 1] > x, 1] = x\n",
    "        # add the newest element\n",
    "        L = np.vstack((L, np.array([[x, x]])))\n",
    "        # every other element needs to have a different alpha, otherwise need to get rid of it\n",
    "        keep = np.zeros(L.shape[0]).astype(np.bool_)\n",
    "        keep[0] = True\n",
    "        keep[-1] = True\n",
    "        for i in range(L.shape[0]-2):\n",
    "            if L[i, 1] != L[i+1, 1]:\n",
    "                keep[i] = True\n",
    "                keep[i+1] = True\n",
    "        L = L[keep, :]\n",
    "        return L\n",
    "    return L    \n",
    "\n",
    "def get_signal_value(L, F_fun):\n",
    "    \"\"\"Gets the value of the signal having the points of the Prezbiach line and the integral functions\"\"\"\n",
    "    # get alphas and betas\n",
    "    alpha, beta = L[:, 0], L[:, 1]\n",
    "    # get all the horisontal lines\n",
    "    indx_hor = (beta[1:] - beta[:-1]) != 0\n",
    "#     lenh = np.sum(indx_hor)\n",
    "#     print(lenh)\n",
    "    # calcluate the signal\n",
    "    signal = -F_fun(alpha[0], beta[0])\n",
    "    F_kk = F_fun(alpha[:-1][indx_hor], beta[:-1][indx_hor])\n",
    "    F_kk1 = F_fun(alpha[1:][indx_hor], beta[1:][indx_hor])\n",
    "    signal += 2*np.sum(F_kk - F_kk1)    \n",
    "    return signal\n",
    "\n",
    "def reconstruct_signal(signal, L_start, F_fun):\n",
    "    # define the starting line\n",
    "    L = L_start\n",
    "    signal_out = np.zeros(len(signal))\n",
    "    for i, x in enumerate(signal):\n",
    "        L = update_line(L, x)\n",
    "        signal_out[i] = get_signal_value(L, F_fun)\n",
    "    return signal_out\n"
   ]
  },
  {
   "cell_type": "markdown",
   "metadata": {},
   "source": [
    "### Generating the degauss L"
   ]
  },
  {
   "cell_type": "code",
   "execution_count": 187,
   "metadata": {},
   "outputs": [],
   "source": [
    "degauss_file = r'C:\\Users\\lukas\\OneDrive - University of Cambridge\\PhD\\3DMOKE\\Data\\MagnetCalibration\\degauss_signal.h5'\n",
    "\n",
    "with h5py.File(degauss_file, 'r') as f:\n",
    "    degauss_signal =  pd.DataFrame(f['degaussing/hallprobe/data'][:])\n",
    "    bins = np.arange(degauss_signal[0].iloc[0], degauss_signal[0].iloc[-1], 1/100)\n",
    "    degauss_signal['bins'] = pd.cut(degauss_signal[0], bins, right=False)\n",
    "    degauss_signal = degauss_signal.groupby('bins').mean().reset_index().drop(labels=[0,'bins'], axis=1)\n",
    "    degauss_signal.columns = ['hpA', 'hpB', 'hpC']\n",
    "\n",
    "degauss_l = []\n",
    "start_l1 = []\n",
    "# start_l = [np.array([[hp_minmax[pole][1], hp_minmax[pole][0]], [hp_minmax[pole][0], hp_minmax[pole][0]]]) \n",
    "#           for pole in poles]\n",
    "start_l = start_l_best.copy()\n",
    "for pole in poles:\n",
    "#     x = hyst_all[pole][-1]['hp'+poles_dict[pole]].values\n",
    "#     y = hyst_all[pole][-1]['hx'+poles_dict[pole]].values\n",
    "#     mx, mn = np.max(x), np.min(x)\n",
    "#     L = (np.array([[mx, mn], [mn, mn]])).astype(np.float)\n",
    "#     start_l1.append(L)\n",
    "    dg_onepole = degauss_signal['hp{}'.format(poles_dict[pole])].values\n",
    "\n",
    "    L = start_l[pole].copy()\n",
    "    for x in dg_onepole:\n",
    "        L = update_line(L, x)\n",
    "    degauss_l.append(L.copy())\n",
    "\n",
    "# use the error in the degaussing as a displacement in the fit. \n",
    "#I believe that this is needed because of the wrong starting point choice\n",
    "fitting_displacements = []\n",
    "for pole in poles:\n",
    "     fitting_displacements.append(-get_signal_value(degauss_l[pole], F_functions[pole]))\n",
    "print(fitting_displacements)"
   ]
  },
  {
   "cell_type": "markdown",
   "metadata": {},
   "source": [
    "### Try to reconstruct the signal"
   ]
  },
  {
   "cell_type": "code",
   "execution_count": 184,
   "metadata": {},
   "outputs": [
    {
     "name": "stdout",
     "output_type": "stream",
     "text": [
      "0.005567347182173776\n",
      "0.008369808846827809\n",
      "0.08462369830784056\n"
     ]
    }
   ],
   "source": [
    "# optimise the start_l\n",
    "start_l = [np.array([[hp_minmax[pole][1], hp_minmax[pole][0]], [hp_minmax[pole][0], hp_minmax[pole][0]]]) \n",
    "          for pole in poles]\n",
    "start_l_best = start_l.copy()\n",
    "for pole in poles:\n",
    "    x = hyst_all[pole][-1]['hp'+poles_dict[pole]].values\n",
    "    y = hyst_all[pole][-1]['hx'+poles_dict[pole]].values\n",
    "#     stderr_min = 1000\n",
    "    dg_signal_min = 1000\n",
    "    for mx in np.linspace(-0.2, 0, 40):\n",
    "        for mn in np.linspace(-0.2, 0, 40):\n",
    "            start_l_pole =  start_l[pole].copy()\n",
    "            start_l_pole[0, 0] += mx\n",
    "            start_l_pole[0, 1] += mn\n",
    "            start_l_pole[-1, :] += mn\n",
    "#             y_pred = reconstruct_signal(x,start_l_pole.copy(), F_functions[pole])\n",
    "#             err = y - y_pred\n",
    "#             stderr = np.sqrt(np.mean(err**2))\n",
    "            degauss_l[pole][0, :] = start_l_pole[0, :]\n",
    "            degauss_l[pole][1, 1] = start_l_pole[1, 1]\n",
    "            dg_signal = np.abs(get_signal_value(degauss_l[pole], F_functions[pole]))\n",
    "            if dg_signal < dg_signal_min:\n",
    "                dg_signal_min = dg_signal\n",
    "                start_l_best[pole] = start_l_pole\n",
    "    print(dg_signal_min)"
   ]
  },
  {
   "cell_type": "code",
   "execution_count": null,
   "metadata": {},
   "outputs": [],
   "source": [
    "degauss_l"
   ]
  },
  {
   "cell_type": "code",
   "execution_count": 186,
   "metadata": {},
   "outputs": [
    {
     "data": {
      "text/plain": [
       "[array([[ 1.82595961, -2.07175638],\n",
       "        [-2.07175638, -2.07175638]]), array([[ 1.78248633, -2.03289505],\n",
       "        [-2.03289505, -2.03289505]]), array([[ 1.76565731, -2.01216834],\n",
       "        [-2.01216834, -2.01216834]])]"
      ]
     },
     "execution_count": 186,
     "metadata": {},
     "output_type": "execute_result"
    }
   ],
   "source": [
    "start_l_best"
   ]
  },
  {
   "cell_type": "code",
   "execution_count": 189,
   "metadata": {},
   "outputs": [
    {
     "name": "stdout",
     "output_type": "stream",
     "text": [
      "-0.04056651052540228\n",
      "Maximum error: 0.16V\n",
      "Std error: 0.078V\n",
      "-0.05167865732622829\n",
      "Maximum error: 0.13V\n",
      "Std error: 0.066V\n",
      "0.04958923824635043\n",
      "Maximum error: 0.12V\n",
      "Std error: 0.059V\n"
     ]
    }
   ],
   "source": [
    "import time\n",
    "pole = 0\n",
    "# fitting_displacements = []\n",
    "\n",
    "plt.close('all')\n",
    "fig = plt.figure(figsize=(18, 7))\n",
    "errcolor = 'tab:green'\n",
    "\n",
    "# start_l = [np.array([[hp_minmax[pole][1] - 0.02, hp_minmax[pole][0]], [hp_minmax[pole][0], hp_minmax[pole][0]]]) \n",
    "#           for pole in poles]\n",
    "for pole in poles:\n",
    "    x = hyst_all[pole][-1]['hp'+poles_dict[pole]].values\n",
    "    y = hyst_all[pole][-1]['hx'+poles_dict[pole]].values\n",
    "    y_pred = reconstruct_signal(x, start_l_best[pole].copy(), F_functions[pole]) + fitting_displacements[pole]\n",
    "\n",
    "    displacement = np.mean(y-y_pred)\n",
    "    print(displacement)\n",
    "\n",
    "    idx = np.ones(x.size).astype(bool)\n",
    "    \n",
    "    ax = fig.add_subplot(1, len(poles), 1+pole)\n",
    "    ax.plot(x[idx], y[idx], label='Data')\n",
    "    ax.plot(x[idx], y_pred[idx], label='Fit')\n",
    "    ax.set_ylabel('Applied signal [V]')\n",
    "    ax.set_xlabel('Measured field [V]')\n",
    "    \n",
    "    # add the error plot on the other axes\n",
    "    ax2 = ax.twinx()\n",
    "    ax2.plot(x, y_pred - y, color=errcolor, alpha=0.8,  label='Error')\n",
    "    ax2.set_ylabel('Error [V]', color=errcolor)\n",
    "    ax2.set_ylim([-0.5, 0.5])\n",
    "    ax2.tick_params(axis='y', labelcolor=errcolor)\n",
    "    \n",
    "    # do the error analysis\n",
    "    err = np.abs((y_pred - y))\n",
    "    idx = np.argmax(err)\n",
    "    maxerr = err[idx]\n",
    "    maxrelerr = np.abs(np.max(np.abs(err/y)))\n",
    "    stderr = np.sqrt(np.mean(err**2))\n",
    "    s = 'Maximum error: {:.2f}V\\nStd error: {:.3f}V'.format(maxerr, stderr)\n",
    "    print(s)\n",
    "    plt.title('Pole {}\\n'.format(poles_dict[pole])+s)\n",
    "    \n",
    "    ax.legend()\n",
    "\n",
    "plt.tight_layout()\n",
    "plt.savefig(os.path.join(out_folder, 'Fitting hysteresis_optimizedstartl.png'.format(pole)))"
   ]
  },
  {
   "cell_type": "code",
   "execution_count": 180,
   "metadata": {},
   "outputs": [
    {
     "data": {
      "text/plain": [
       "[array([[ 1.83621602, -1.87175638],\n",
       "        [-1.87175638, -1.87175638]]), array([[ 1.80299915, -1.83289505],\n",
       "        [-1.83289505, -1.83289505]]), array([[ 1.76565731, -1.81216834],\n",
       "        [-1.81216834, -1.81216834]])]"
      ]
     },
     "execution_count": 180,
     "metadata": {},
     "output_type": "execute_result"
    }
   ],
   "source": [
    "start_l"
   ]
  },
  {
   "cell_type": "markdown",
   "metadata": {},
   "source": [
    "### Compare to fitting without hysteresis"
   ]
  },
  {
   "cell_type": "code",
   "execution_count": 35,
   "metadata": {},
   "outputs": [],
   "source": [
    "# import the hysteresis fits\n",
    "with open('fields2current_coeff.p', 'rb') as f:\n",
    "    h2i_coeff = pickle.load(f)\n",
    "# define functions for going from fields to required current\n",
    "i2h_functions = [np.poly1d(c) for c in h2i_coeff]\n",
    "y_prednohyst = -i2h_functions[pole](x)\n",
    "plt.close('all')\n",
    "fig = plt.figure(figsize=(10, 10))\n",
    "plt.plot(x, y, label='Data')\n",
    "plt.plot(x, y_pred, label='Fit hysteresis')\n",
    "plt.plot(x, y_prednohyst, label='Fit no hysteresis')\n",
    "plt.plot(x, y-y_pred, label='Hysteresis fit error')\n",
    "plt.plot(x, y-y_prednohyst, label='No hysteresis fit error')\n",
    "plt.xlabel('Applied signal [V]')\n",
    "plt.ylabel('Measured field [V]')\n",
    "plt.legend()\n",
    "plt.tight_layout()\n",
    "# plt.savefig(os.path.join(out_folder, 'Fitting hysteresis.png'))"
   ]
  },
  {
   "cell_type": "markdown",
   "metadata": {},
   "source": [
    "## Save all the results"
   ]
  },
  {
   "cell_type": "code",
   "execution_count": 190,
   "metadata": {},
   "outputs": [
    {
     "name": "stdout",
     "output_type": "stream",
     "text": [
      "0.0\n",
      "0.0\n",
      "0.0\n"
     ]
    }
   ],
   "source": [
    "# check if everything makes sense\n",
    "for pole in poles:\n",
    "    print(get_signal_value(degauss_l[pole], F_functions[pole])+fitting_displacements[pole])"
   ]
  },
  {
   "cell_type": "code",
   "execution_count": 191,
   "metadata": {},
   "outputs": [
    {
     "name": "stdout",
     "output_type": "stream",
     "text": [
      "Saved\n"
     ]
    }
   ],
   "source": [
    "start_l = start_l_best\n",
    "\n",
    "hysteresis_fits = {'main_branch':main_branch_fits, \n",
    "                   'transition_branches':transition_fits,\n",
    "                  'start_l':start_l,\n",
    "                  'fitting_displacements':fitting_displacements,\n",
    "                  'degauss_l':degauss_l}\n",
    "with open('hysteresis_fits.p', 'wb') as f:\n",
    "    pickle.dump(hysteresis_fits, f)\n",
    "print('Saved')"
   ]
  },
  {
   "cell_type": "markdown",
   "metadata": {},
   "source": [
    "### Combine with RL parameters to have only one pickle file"
   ]
  },
  {
   "cell_type": "code",
   "execution_count": 193,
   "metadata": {},
   "outputs": [
    {
     "name": "stdout",
     "output_type": "stream",
     "text": [
      "[{'R': 2.118457140120971, 'L': 0.20069968460466536}, {'R': 2.108782231622595, 'L': 0.20365503550736846}, {'R': 2.07589810652447, 'L': 0.19539368897169337}]\n",
      "saved\n"
     ]
    }
   ],
   "source": [
    "\n",
    "with open('rl_coeff.p', 'rb') as f:\n",
    "    rl_coeff = pickle.load(f)\n",
    "print(rl_coeff)\n",
    "magnet_calib = hysteresis_fits.copy()\n",
    "magnet_calib['R'] = [rl_coeff[pole]['R'] for pole in poles]\n",
    "magnet_calib['L'] = [rl_coeff[pole]['L'] for pole in poles]\n",
    "with open('magnet_calib.p', 'wb') as f:\n",
    "    pickle.dump(magnet_calib, f)\n",
    "print('saved')"
   ]
  },
  {
   "cell_type": "code",
   "execution_count": 3,
   "metadata": {},
   "outputs": [],
   "source": [
    "with open('magnet_calib.p', 'rb') as f:\n",
    "    hysteresis_fits = pickle.load(f)\n",
    "main_branch_fits = hysteresis_fits['main_branch']\n",
    "transition_fits = hysteresis_fits['transition_branches']\n",
    "start_l = hysteresis_fits['start_l']\n",
    "fitting_displacements = hysteresis_fits['fitting_displacements']\n",
    "degauss_l = hysteresis_fits['degauss_l']"
   ]
  },
  {
   "cell_type": "code",
   "execution_count": 11,
   "metadata": {},
   "outputs": [],
   "source": [
    "from numba import njit, jit\n",
    "@jit(forceobj=True)\n",
    "def jitted_mb(x):\n",
    "    return main_branch_fits[0](x)"
   ]
  },
  {
   "cell_type": "code",
   "execution_count": 13,
   "metadata": {},
   "outputs": [
    {
     "data": {
      "text/plain": [
       "array(2.22222033)"
      ]
     },
     "execution_count": 13,
     "metadata": {},
     "output_type": "execute_result"
    }
   ],
   "source": [
    "jitted_mb(1)"
   ]
  },
  {
   "cell_type": "code",
   "execution_count": 15,
   "metadata": {},
   "outputs": [
    {
     "name": "stdout",
     "output_type": "stream",
     "text": [
      "0.009823854425893508\n",
      "0.009823854425893508\n",
      "9.324649904682046\n",
      "-9.169066344840166\n"
     ]
    }
   ],
   "source": [
    "# define the triangle functions\n",
    "F_functions = [lambda a, b, f_a=f_a, f_ab=f_ab: (f_a.__call__(a) - f_ab.ev(a, b))/2 for f_a, f_ab in zip(main_branch_fits, transition_fits)]\n",
    "\n",
    "@jit(forceobj=True, fastmath=True)\n",
    "def jit_F_functions(a, b, pole):\n",
    "    return F_functions[pole](a, b)\n",
    "# check that it gives sensible results\n",
    "print(F_functions[0](1.8, 1.8))\n",
    "print(jit_F_functions(1.8, 1.8, 0))\n",
    "print(main_branch_fits[1].__call__(1.8))\n",
    "print(transition_fits[1].ev(1.8, -1.8))"
   ]
  },
  {
   "cell_type": "code",
   "execution_count": 24,
   "metadata": {},
   "outputs": [
    {
     "name": "stdout",
     "output_type": "stream",
     "text": [
      "0.8681409358978271\n",
      "0.9709093570709229\n"
     ]
    }
   ],
   "source": [
    "import time\n",
    "t0 = time.time()\n",
    "for i in range(50000):\n",
    "    F_functions[0](1.2, 0)\n",
    "print(time.time() - t0)\n",
    "t0 = time.time()\n",
    "for i in range(50000):\n",
    "    jit_F_functions(1.2, 0, 0)\n",
    "print(time.time() - t0)"
   ]
  },
  {
   "cell_type": "code",
   "execution_count": 17,
   "metadata": {},
   "outputs": [
    {
     "data": {
      "text/plain": [
       "121.92493344419641"
      ]
     },
     "execution_count": 17,
     "metadata": {},
     "output_type": "execute_result"
    }
   ],
   "source": [
    "pole = 0\n",
    "F_functions[pole](3, -3)"
   ]
  },
  {
   "cell_type": "code",
   "execution_count": 19,
   "metadata": {},
   "outputs": [],
   "source": [
    "with h5py.File('test.h5', 'w') as f:\n",
    "    f.create_dataset(\"name\", (100,), dtype=h5py.string_dtype())"
   ]
  }
 ],
 "metadata": {
  "kernelspec": {
   "display_name": "Python 3",
   "language": "python",
   "name": "python3"
  },
  "language_info": {
   "codemirror_mode": {
    "name": "ipython",
    "version": 3
   },
   "file_extension": ".py",
   "mimetype": "text/x-python",
   "name": "python",
   "nbconvert_exporter": "python",
   "pygments_lexer": "ipython3",
   "version": "3.8.0"
  }
 },
 "nbformat": 4,
 "nbformat_minor": 4
}
