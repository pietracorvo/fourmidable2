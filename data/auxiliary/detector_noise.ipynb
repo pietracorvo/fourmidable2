{
 "cells": [
  {
   "cell_type": "code",
   "execution_count": 2,
   "metadata": {},
   "outputs": [],
   "source": [
    "%matplotlib qt\n",
    "import numpy as np\n",
    "import matplotlib.pyplot as plt\n",
    "import h5py"
   ]
  },
  {
   "cell_type": "code",
   "execution_count": 7,
   "metadata": {},
   "outputs": [],
   "source": [
    "# filename=r\"C:\\Users\\user\\Documents\\Python\\MOKEpy\\gui\\Calibration data\\detector_noise\\moke20190401-1807_nolaser.h5\"\n",
    "# filename=r\"C:\\Users\\user\\Documents\\Python\\MOKEpy\\gui\\Calibration data\\detector_noise\\moke20190401-1808_laser.h5\"\n",
    "# filename=r\"C:\\Users\\user\\Documents\\Python\\MOKEpy\\gui\\Calibration data\\detector_noise\\moke20190401-2011_equalsignals.h5\"\n",
    "# filename=r\"C:\\Users\\user\\Documents\\Python\\MOKEpy\\gui\\Calibration data\\detector_noise\\moke20190401-2032_lightson.h5\"\n",
    "\n",
    "filename=r\"C:\\Users\\user\\Documents\\Python\\MOKEpy\\moke20190403-1422.h5\""
   ]
  },
  {
   "cell_type": "code",
   "execution_count": 8,
   "metadata": {},
   "outputs": [],
   "source": [
    "with h5py.File(filename, 'r') as file:\n",
    "    data = file.get('wollaston1/data')[:]\n",
    "t = data[:, 0]-min(data[:, 0])\n",
    "det1 =  data[:, 1]\n",
    "det2 = data[:, 2]\n",
    "det_diff = det1-det2"
   ]
  },
  {
   "cell_type": "code",
   "execution_count": 378,
   "metadata": {},
   "outputs": [
    {
     "data": {
      "text/plain": [
       "<matplotlib.legend.Legend at 0x1c28ae3b748>"
      ]
     },
     "execution_count": 378,
     "metadata": {},
     "output_type": "execute_result"
    }
   ],
   "source": [
    "\n",
    "plt.figure()\n",
    "plt.plot(t, det1, label='detector 1')\n",
    "plt.plot(t, det2, label='detector 2')\n",
    "plt.legend(loc='upper right')\n",
    "# plt.title('Detector noise, laser full signal')"
   ]
  },
  {
   "cell_type": "code",
   "execution_count": 375,
   "metadata": {},
   "outputs": [
    {
     "data": {
      "text/plain": [
       "Text(0.5,1,'Detector noise')"
      ]
     },
     "execution_count": 375,
     "metadata": {},
     "output_type": "execute_result"
    }
   ],
   "source": [
    "plt.figure()\n",
    "plt.plot(t, det1-np.mean(det1), label='detector 1')\n",
    "plt.plot(t, det2-np.mean(det2), label='detector 2')\n",
    "plt.plot(t, det_diff-np.mean(det_diff), label='difference')\n",
    "plt.legend(loc='upper right')\n",
    "plt.title('Detector noise')"
   ]
  },
  {
   "cell_type": "code",
   "execution_count": 9,
   "metadata": {},
   "outputs": [],
   "source": [
    "fft1 = np.absolute(np.fft.rfft(det1-np.mean(det1)))\n",
    "fft2 = np.absolute(np.fft.rfft(det2-np.mean(det2)))\n",
    "diff_fft = np.absolute(np.fft.rfft(det_diff-np.mean(det_diff)))\n",
    "freq = np.fft.rfftfreq(len(det1), d=1/10000)"
   ]
  },
  {
   "cell_type": "code",
   "execution_count": 11,
   "metadata": {},
   "outputs": [
    {
     "data": {
      "text/plain": [
       "Text(0.5,1,'FFT analysis')"
      ]
     },
     "execution_count": 11,
     "metadata": {},
     "output_type": "execute_result"
    }
   ],
   "source": [
    "plt.figure()\n",
    "plt.plot(freq, fft1, label='detector 1')\n",
    "plt.plot(freq, fft2, label='detector 2')\n",
    "plt.plot(freq, diff_fft, label='difference')\n",
    "plt.xlim((-1, 200))\n",
    "# plt.ylim((0, 25))\n",
    "plt.legend()\n",
    "plt.grid()\n",
    "plt.xlabel('freq [Hz]')\n",
    "plt.title('FFT analysis')"
   ]
  },
  {
   "cell_type": "code",
   "execution_count": 64,
   "metadata": {},
   "outputs": [
    {
     "data": {
      "text/plain": [
       "[<matplotlib.lines.Line2D at 0x1c253d92b00>]"
      ]
     },
     "execution_count": 64,
     "metadata": {},
     "output_type": "execute_result"
    }
   ],
   "source": [
    "plt.plot(np.absolute(fft1))\n"
   ]
  },
  {
   "cell_type": "code",
   "execution_count": 127,
   "metadata": {},
   "outputs": [
    {
     "data": {
      "text/plain": [
       "[<matplotlib.lines.Line2D at 0x1c26f6da908>]"
      ]
     },
     "execution_count": 127,
     "metadata": {},
     "output_type": "execute_result"
    }
   ],
   "source": [
    "plt.plot(t)"
   ]
  },
  {
   "cell_type": "code",
   "execution_count": 110,
   "metadata": {},
   "outputs": [
    {
     "data": {
      "text/plain": [
       "[<matplotlib.lines.Line2D at 0x1c267168940>]"
      ]
     },
     "execution_count": 110,
     "metadata": {},
     "output_type": "execute_result"
    }
   ],
   "source": [
    "t = np.linspace(0, 10, 100000)\n",
    "x = np.sin(2*np.pi*50*t)\n",
    "ft = np.absolute(np.fft.rfft(x))\n",
    "fq = np.fft.rfftfreq(len(t), d=1/10000)\n",
    "plt.plot(fq, ft)"
   ]
  },
  {
   "cell_type": "code",
   "execution_count": 114,
   "metadata": {},
   "outputs": [
    {
     "data": {
      "text/plain": [
       "[<matplotlib.lines.Line2D at 0x1c241238ba8>]"
      ]
     },
     "execution_count": 114,
     "metadata": {},
     "output_type": "execute_result"
    }
   ],
   "source": [
    "plt.plot(t, det1)"
   ]
  },
  {
   "cell_type": "code",
   "execution_count": 163,
   "metadata": {},
   "outputs": [
    {
     "data": {
      "text/plain": [
       "100.0529751017022"
      ]
     },
     "execution_count": 163,
     "metadata": {},
     "output_type": "execute_result"
    }
   ],
   "source": [
    "freq[1001]"
   ]
  },
  {
   "cell_type": "code",
   "execution_count": 167,
   "metadata": {},
   "outputs": [
    {
     "data": {
      "text/plain": [
       "0.061085281891070736"
      ]
     },
     "execution_count": 167,
     "metadata": {},
     "output_type": "execute_result"
    }
   ],
   "source": [
    "diff_fft[1000]/det1[1000]"
   ]
  },
  {
   "cell_type": "code",
   "execution_count": null,
   "metadata": {},
   "outputs": [],
   "source": []
  }
 ],
 "metadata": {
  "kernelspec": {
   "display_name": "Python 3",
   "language": "python",
   "name": "python3"
  },
  "language_info": {
   "codemirror_mode": {
    "name": "ipython",
    "version": 3
   },
   "file_extension": ".py",
   "mimetype": "text/x-python",
   "name": "python",
   "nbconvert_exporter": "python",
   "pygments_lexer": "ipython3",
   "version": "3.6.5"
  }
 },
 "nbformat": 4,
 "nbformat_minor": 2
}
