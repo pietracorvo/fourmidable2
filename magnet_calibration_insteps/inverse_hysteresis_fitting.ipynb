{
 "cells": [
  {
   "cell_type": "code",
   "execution_count": 326,
   "metadata": {},
   "outputs": [],
   "source": [
    "%matplotlib qt\n",
    "import numpy as np\n",
    "import pandas as pd\n",
    "import matplotlib.pyplot as plt\n",
    "import h5py\n",
    "import os\n",
    "from scipy.stats import binned_statistic\n",
    "from scipy.optimize import curve_fit\n",
    "import concurrent\n",
    "import pickle\n",
    "from scipy.interpolate import griddata\n",
    "from scipy import interpolate\n",
    "\n",
    "import matplotlib\n",
    "from mpl_toolkits import mplot3d\n",
    "font = {'size'   : 16}\n",
    "matplotlib.rc('font', **font)"
   ]
  },
  {
   "cell_type": "code",
   "execution_count": 330,
   "metadata": {},
   "outputs": [
    {
     "name": "stdout",
     "output_type": "stream",
     "text": [
      "True\n"
     ]
    }
   ],
   "source": [
    "#file_path = r\"C:\\Users\\lukas\\OneDrive - University of Cambridge\\PhD\\3DMOKE\\Data\\MagnetCalibration\\hex_minor_Ichannel.h5\"\n",
    "file_path = r\"C:\\\\Users\\\\3DStation4\\\\PycharmProjects\\\\pythonProject_3DMOKE_new\\\\hex_minor_Ichannel.h5\"\n",
    "print(os.path.isfile(file_path))\n",
    "out_folder = 'results'\n",
    "try:\n",
    "    os.stat(out_folder)\n",
    "except:\n",
    "    os.mkdir(out_folder) \n",
    "poles = [0, 1, 2]\n",
    "poles_dict = {0:'A', 1:'B', 2:'C'}"
   ]
  },
  {
   "cell_type": "code",
   "execution_count": 331,
   "metadata": {},
   "outputs": [
    {
     "ename": "ValueError",
     "evalue": "too many values to unpack (expected 2)",
     "output_type": "error",
     "traceback": [
      "\u001b[1;31m---------------------------------------------------------------------------\u001b[0m",
      "\u001b[1;31mValueError\u001b[0m                                Traceback (most recent call last)",
      "Cell \u001b[1;32mIn[331], line 7\u001b[0m\n\u001b[0;32m      5\u001b[0m \u001b[38;5;28;01mwith\u001b[39;00m h5py\u001b[38;5;241m.\u001b[39mFile(file_path, \u001b[38;5;124m'\u001b[39m\u001b[38;5;124mr\u001b[39m\u001b[38;5;124m'\u001b[39m) \u001b[38;5;28;01mas\u001b[39;00m f:\n\u001b[0;32m      6\u001b[0m     \u001b[38;5;28;01mfor\u001b[39;00m pole \u001b[38;5;129;01min\u001b[39;00m poles:\n\u001b[1;32m----> 7\u001b[0m         steps_sorted \u001b[38;5;241m=\u001b[39m [k2 \u001b[38;5;28;01mfor\u001b[39;00m k1,k2 \u001b[38;5;129;01min\u001b[39;00m \u001b[38;5;28msorted\u001b[39m([\u001b[38;5;28mzip\u001b[39m(\u001b[38;5;28mint\u001b[39m(k\u001b[38;5;241m.\u001b[39mreplace(\u001b[38;5;124m'\u001b[39m\u001b[38;5;124mstep\u001b[39m\u001b[38;5;124m'\u001b[39m,\u001b[38;5;124m'\u001b[39m\u001b[38;5;124m'\u001b[39m)), k) \u001b[38;5;28;01mfor\u001b[39;00m i,k \u001b[38;5;129;01min\u001b[39;00m f[\u001b[38;5;124mf\u001b[39m\u001b[38;5;124m'\u001b[39m\u001b[38;5;124mpole\u001b[39m\u001b[38;5;132;01m{\u001b[39;00mpole\u001b[38;5;132;01m}\u001b[39;00m\u001b[38;5;124m'\u001b[39m]\u001b[38;5;241m.\u001b[39mkeys()])]\n\u001b[0;32m      8\u001b[0m         \u001b[38;5;28mprint\u001b[39m(steps_sorted)\n\u001b[0;32m      9\u001b[0m         \u001b[38;5;28;01mfor\u001b[39;00m step \u001b[38;5;129;01min\u001b[39;00m steps_sorted:\n",
      "Cell \u001b[1;32mIn[331], line 7\u001b[0m, in \u001b[0;36m<listcomp>\u001b[1;34m(.0)\u001b[0m\n\u001b[0;32m      5\u001b[0m \u001b[38;5;28;01mwith\u001b[39;00m h5py\u001b[38;5;241m.\u001b[39mFile(file_path, \u001b[38;5;124m'\u001b[39m\u001b[38;5;124mr\u001b[39m\u001b[38;5;124m'\u001b[39m) \u001b[38;5;28;01mas\u001b[39;00m f:\n\u001b[0;32m      6\u001b[0m     \u001b[38;5;28;01mfor\u001b[39;00m pole \u001b[38;5;129;01min\u001b[39;00m poles:\n\u001b[1;32m----> 7\u001b[0m         steps_sorted \u001b[38;5;241m=\u001b[39m [k2 \u001b[38;5;28;01mfor\u001b[39;00m k1,k2 \u001b[38;5;129;01min\u001b[39;00m \u001b[38;5;28msorted\u001b[39m([\u001b[38;5;28mzip\u001b[39m(\u001b[38;5;28mint\u001b[39m(k\u001b[38;5;241m.\u001b[39mreplace(\u001b[38;5;124m'\u001b[39m\u001b[38;5;124mstep\u001b[39m\u001b[38;5;124m'\u001b[39m,\u001b[38;5;124m'\u001b[39m\u001b[38;5;124m'\u001b[39m)), k) \u001b[38;5;28;01mfor\u001b[39;00m i,k \u001b[38;5;129;01min\u001b[39;00m f[\u001b[38;5;124mf\u001b[39m\u001b[38;5;124m'\u001b[39m\u001b[38;5;124mpole\u001b[39m\u001b[38;5;132;01m{\u001b[39;00mpole\u001b[38;5;132;01m}\u001b[39;00m\u001b[38;5;124m'\u001b[39m]\u001b[38;5;241m.\u001b[39mkeys()])]\n\u001b[0;32m      8\u001b[0m         \u001b[38;5;28mprint\u001b[39m(steps_sorted)\n\u001b[0;32m      9\u001b[0m         \u001b[38;5;28;01mfor\u001b[39;00m step \u001b[38;5;129;01min\u001b[39;00m steps_sorted:\n",
      "\u001b[1;31mValueError\u001b[0m: too many values to unpack (expected 2)"
     ]
    }
   ],
   "source": [
    "# plot the original data\n",
    "\n",
    "hp_allsteps = []\n",
    "hx_allsteps = []\n",
    "with h5py.File(file_path, 'r') as f:\n",
    "    for pole in poles:\n",
    "        steps_sorted = [k2 for k1,k2 in sorted([zip(int(k.replace('step','')), k) for i,k in f[f'pole{pole}'].keys()])]\n",
    "        print(steps_sorted)\n",
    "        for step in steps_sorted:\n",
    "            hp = pd.DataFrame(f[f'pole{pole}/{step}/hallprobe/data'][:])\n",
    "            hx = pd.DataFrame(f[f'pole{pole}/{step}/hexapole/data'][:])\n",
    "            hp_allsteps.append(hp)\n",
    "            hx_allsteps.append(hx)\n",
    "hp_allsteps = np.array(hp_allsteps).flatten()\n",
    "hx_allsteps = np.array(hx_allsteps).flatten()\n",
    "\n",
    "%gui qt5\n",
    "from PyQt5.Qt import QApplication\n",
    "\n",
    "# start qt event loop\n",
    "_instance = QApplication.instance()\n",
    "if not _instance:\n",
    "    _instance = QApplication([])\n",
    "app = _instance\n",
    "\n",
    "import pyqtgraph as pg\n",
    "\n",
    "# create and and set layout\n",
    "view = pg.GraphicsView()   \n",
    "view.setWindowTitle('Magnet minor loop data')\n",
    "layout = pg.GraphicsLayout()\n",
    "view.setCentralItem(layout)\n",
    "view.show()\n",
    "\n",
    "# add subplots\n",
    "p0 = layout.addPlot(0,0)\n",
    "p0.addLegend()\n",
    "p0.plot([1,2,3,4,5], pen='b', name='p0')\n",
    "\n",
    "p1 = layout.addPlot(1,0)\n",
    "p1.addLegend()\n",
    "p1.plot([2,2,2,2,], pen='r', name='p1')\n",
    "\n",
    "v0 = p0.getViewBox()\n",
    "v1 = p1.getViewBox()\n",
    "v1.setXLink(v0)"
   ]
  },
  {
   "cell_type": "code",
   "execution_count": 332,
   "metadata": {},
   "outputs": [
    {
     "name": "stderr",
     "output_type": "stream",
     "text": [
      "C:\\Users\\3DStation4\\AppData\\Local\\Temp\\ipykernel_10716\\2548781751.py:28: FutureWarning: The default of observed=False is deprecated and will be changed to True in a future version of pandas. Pass observed=False to retain current behavior or observed=True to adopt the future default and silence this warning.\n",
      "  hp = hp.groupby('bins').mean().reset_index().drop(labels=[0,'bins'], axis=1)\n",
      "C:\\Users\\3DStation4\\AppData\\Local\\Temp\\ipykernel_10716\\2548781751.py:31: FutureWarning: The default of observed=False is deprecated and will be changed to True in a future version of pandas. Pass observed=False to retain current behavior or observed=True to adopt the future default and silence this warning.\n",
      "  hx = hx.groupby('bins').mean().reset_index().drop(labels=[0,'bins'], axis=1)\n",
      "C:\\Users\\3DStation4\\AppData\\Local\\Temp\\ipykernel_10716\\2548781751.py:28: FutureWarning: The default of observed=False is deprecated and will be changed to True in a future version of pandas. Pass observed=False to retain current behavior or observed=True to adopt the future default and silence this warning.\n",
      "  hp = hp.groupby('bins').mean().reset_index().drop(labels=[0,'bins'], axis=1)\n",
      "C:\\Users\\3DStation4\\AppData\\Local\\Temp\\ipykernel_10716\\2548781751.py:31: FutureWarning: The default of observed=False is deprecated and will be changed to True in a future version of pandas. Pass observed=False to retain current behavior or observed=True to adopt the future default and silence this warning.\n",
      "  hx = hx.groupby('bins').mean().reset_index().drop(labels=[0,'bins'], axis=1)\n",
      "C:\\Users\\3DStation4\\AppData\\Local\\Temp\\ipykernel_10716\\2548781751.py:28: FutureWarning: The default of observed=False is deprecated and will be changed to True in a future version of pandas. Pass observed=False to retain current behavior or observed=True to adopt the future default and silence this warning.\n",
      "  hp = hp.groupby('bins').mean().reset_index().drop(labels=[0,'bins'], axis=1)\n",
      "C:\\Users\\3DStation4\\AppData\\Local\\Temp\\ipykernel_10716\\2548781751.py:31: FutureWarning: The default of observed=False is deprecated and will be changed to True in a future version of pandas. Pass observed=False to retain current behavior or observed=True to adopt the future default and silence this warning.\n",
      "  hx = hx.groupby('bins').mean().reset_index().drop(labels=[0,'bins'], axis=1)\n",
      "C:\\Users\\3DStation4\\AppData\\Local\\Temp\\ipykernel_10716\\2548781751.py:28: FutureWarning: The default of observed=False is deprecated and will be changed to True in a future version of pandas. Pass observed=False to retain current behavior or observed=True to adopt the future default and silence this warning.\n",
      "  hp = hp.groupby('bins').mean().reset_index().drop(labels=[0,'bins'], axis=1)\n",
      "C:\\Users\\3DStation4\\AppData\\Local\\Temp\\ipykernel_10716\\2548781751.py:31: FutureWarning: The default of observed=False is deprecated and will be changed to True in a future version of pandas. Pass observed=False to retain current behavior or observed=True to adopt the future default and silence this warning.\n",
      "  hx = hx.groupby('bins').mean().reset_index().drop(labels=[0,'bins'], axis=1)\n",
      "C:\\Users\\3DStation4\\AppData\\Local\\Temp\\ipykernel_10716\\2548781751.py:28: FutureWarning: The default of observed=False is deprecated and will be changed to True in a future version of pandas. Pass observed=False to retain current behavior or observed=True to adopt the future default and silence this warning.\n",
      "  hp = hp.groupby('bins').mean().reset_index().drop(labels=[0,'bins'], axis=1)\n",
      "C:\\Users\\3DStation4\\AppData\\Local\\Temp\\ipykernel_10716\\2548781751.py:31: FutureWarning: The default of observed=False is deprecated and will be changed to True in a future version of pandas. Pass observed=False to retain current behavior or observed=True to adopt the future default and silence this warning.\n",
      "  hx = hx.groupby('bins').mean().reset_index().drop(labels=[0,'bins'], axis=1)\n",
      "C:\\Users\\3DStation4\\AppData\\Local\\Temp\\ipykernel_10716\\2548781751.py:28: FutureWarning: The default of observed=False is deprecated and will be changed to True in a future version of pandas. Pass observed=False to retain current behavior or observed=True to adopt the future default and silence this warning.\n",
      "  hp = hp.groupby('bins').mean().reset_index().drop(labels=[0,'bins'], axis=1)\n",
      "C:\\Users\\3DStation4\\AppData\\Local\\Temp\\ipykernel_10716\\2548781751.py:31: FutureWarning: The default of observed=False is deprecated and will be changed to True in a future version of pandas. Pass observed=False to retain current behavior or observed=True to adopt the future default and silence this warning.\n",
      "  hx = hx.groupby('bins').mean().reset_index().drop(labels=[0,'bins'], axis=1)\n",
      "C:\\Users\\3DStation4\\AppData\\Local\\Temp\\ipykernel_10716\\2548781751.py:28: FutureWarning: The default of observed=False is deprecated and will be changed to True in a future version of pandas. Pass observed=False to retain current behavior or observed=True to adopt the future default and silence this warning.\n",
      "  hp = hp.groupby('bins').mean().reset_index().drop(labels=[0,'bins'], axis=1)\n",
      "C:\\Users\\3DStation4\\AppData\\Local\\Temp\\ipykernel_10716\\2548781751.py:31: FutureWarning: The default of observed=False is deprecated and will be changed to True in a future version of pandas. Pass observed=False to retain current behavior or observed=True to adopt the future default and silence this warning.\n",
      "  hx = hx.groupby('bins').mean().reset_index().drop(labels=[0,'bins'], axis=1)\n",
      "C:\\Users\\3DStation4\\AppData\\Local\\Temp\\ipykernel_10716\\2548781751.py:28: FutureWarning: The default of observed=False is deprecated and will be changed to True in a future version of pandas. Pass observed=False to retain current behavior or observed=True to adopt the future default and silence this warning.\n",
      "  hp = hp.groupby('bins').mean().reset_index().drop(labels=[0,'bins'], axis=1)\n",
      "C:\\Users\\3DStation4\\AppData\\Local\\Temp\\ipykernel_10716\\2548781751.py:31: FutureWarning: The default of observed=False is deprecated and will be changed to True in a future version of pandas. Pass observed=False to retain current behavior or observed=True to adopt the future default and silence this warning.\n",
      "  hx = hx.groupby('bins').mean().reset_index().drop(labels=[0,'bins'], axis=1)\n",
      "C:\\Users\\3DStation4\\AppData\\Local\\Temp\\ipykernel_10716\\2548781751.py:28: FutureWarning: The default of observed=False is deprecated and will be changed to True in a future version of pandas. Pass observed=False to retain current behavior or observed=True to adopt the future default and silence this warning.\n",
      "  hp = hp.groupby('bins').mean().reset_index().drop(labels=[0,'bins'], axis=1)\n",
      "C:\\Users\\3DStation4\\AppData\\Local\\Temp\\ipykernel_10716\\2548781751.py:31: FutureWarning: The default of observed=False is deprecated and will be changed to True in a future version of pandas. Pass observed=False to retain current behavior or observed=True to adopt the future default and silence this warning.\n",
      "  hx = hx.groupby('bins').mean().reset_index().drop(labels=[0,'bins'], axis=1)\n",
      "C:\\Users\\3DStation4\\AppData\\Local\\Temp\\ipykernel_10716\\2548781751.py:28: FutureWarning: The default of observed=False is deprecated and will be changed to True in a future version of pandas. Pass observed=False to retain current behavior or observed=True to adopt the future default and silence this warning.\n",
      "  hp = hp.groupby('bins').mean().reset_index().drop(labels=[0,'bins'], axis=1)\n",
      "C:\\Users\\3DStation4\\AppData\\Local\\Temp\\ipykernel_10716\\2548781751.py:31: FutureWarning: The default of observed=False is deprecated and will be changed to True in a future version of pandas. Pass observed=False to retain current behavior or observed=True to adopt the future default and silence this warning.\n",
      "  hx = hx.groupby('bins').mean().reset_index().drop(labels=[0,'bins'], axis=1)\n",
      "C:\\Users\\3DStation4\\AppData\\Local\\Temp\\ipykernel_10716\\2548781751.py:28: FutureWarning: The default of observed=False is deprecated and will be changed to True in a future version of pandas. Pass observed=False to retain current behavior or observed=True to adopt the future default and silence this warning.\n",
      "  hp = hp.groupby('bins').mean().reset_index().drop(labels=[0,'bins'], axis=1)\n",
      "C:\\Users\\3DStation4\\AppData\\Local\\Temp\\ipykernel_10716\\2548781751.py:31: FutureWarning: The default of observed=False is deprecated and will be changed to True in a future version of pandas. Pass observed=False to retain current behavior or observed=True to adopt the future default and silence this warning.\n",
      "  hx = hx.groupby('bins').mean().reset_index().drop(labels=[0,'bins'], axis=1)\n",
      "C:\\Users\\3DStation4\\AppData\\Local\\Temp\\ipykernel_10716\\2548781751.py:28: FutureWarning: The default of observed=False is deprecated and will be changed to True in a future version of pandas. Pass observed=False to retain current behavior or observed=True to adopt the future default and silence this warning.\n",
      "  hp = hp.groupby('bins').mean().reset_index().drop(labels=[0,'bins'], axis=1)\n",
      "C:\\Users\\3DStation4\\AppData\\Local\\Temp\\ipykernel_10716\\2548781751.py:31: FutureWarning: The default of observed=False is deprecated and will be changed to True in a future version of pandas. Pass observed=False to retain current behavior or observed=True to adopt the future default and silence this warning.\n",
      "  hx = hx.groupby('bins').mean().reset_index().drop(labels=[0,'bins'], axis=1)\n",
      "C:\\Users\\3DStation4\\AppData\\Local\\Temp\\ipykernel_10716\\2548781751.py:28: FutureWarning: The default of observed=False is deprecated and will be changed to True in a future version of pandas. Pass observed=False to retain current behavior or observed=True to adopt the future default and silence this warning.\n",
      "  hp = hp.groupby('bins').mean().reset_index().drop(labels=[0,'bins'], axis=1)\n",
      "C:\\Users\\3DStation4\\AppData\\Local\\Temp\\ipykernel_10716\\2548781751.py:31: FutureWarning: The default of observed=False is deprecated and will be changed to True in a future version of pandas. Pass observed=False to retain current behavior or observed=True to adopt the future default and silence this warning.\n",
      "  hx = hx.groupby('bins').mean().reset_index().drop(labels=[0,'bins'], axis=1)\n",
      "C:\\Users\\3DStation4\\AppData\\Local\\Temp\\ipykernel_10716\\2548781751.py:28: FutureWarning: The default of observed=False is deprecated and will be changed to True in a future version of pandas. Pass observed=False to retain current behavior or observed=True to adopt the future default and silence this warning.\n",
      "  hp = hp.groupby('bins').mean().reset_index().drop(labels=[0,'bins'], axis=1)\n",
      "C:\\Users\\3DStation4\\AppData\\Local\\Temp\\ipykernel_10716\\2548781751.py:31: FutureWarning: The default of observed=False is deprecated and will be changed to True in a future version of pandas. Pass observed=False to retain current behavior or observed=True to adopt the future default and silence this warning.\n",
      "  hx = hx.groupby('bins').mean().reset_index().drop(labels=[0,'bins'], axis=1)\n",
      "C:\\Users\\3DStation4\\AppData\\Local\\Temp\\ipykernel_10716\\2548781751.py:28: FutureWarning: The default of observed=False is deprecated and will be changed to True in a future version of pandas. Pass observed=False to retain current behavior or observed=True to adopt the future default and silence this warning.\n",
      "  hp = hp.groupby('bins').mean().reset_index().drop(labels=[0,'bins'], axis=1)\n",
      "C:\\Users\\3DStation4\\AppData\\Local\\Temp\\ipykernel_10716\\2548781751.py:31: FutureWarning: The default of observed=False is deprecated and will be changed to True in a future version of pandas. Pass observed=False to retain current behavior or observed=True to adopt the future default and silence this warning.\n",
      "  hx = hx.groupby('bins').mean().reset_index().drop(labels=[0,'bins'], axis=1)\n",
      "C:\\Users\\3DStation4\\AppData\\Local\\Temp\\ipykernel_10716\\2548781751.py:28: FutureWarning: The default of observed=False is deprecated and will be changed to True in a future version of pandas. Pass observed=False to retain current behavior or observed=True to adopt the future default and silence this warning.\n",
      "  hp = hp.groupby('bins').mean().reset_index().drop(labels=[0,'bins'], axis=1)\n",
      "C:\\Users\\3DStation4\\AppData\\Local\\Temp\\ipykernel_10716\\2548781751.py:31: FutureWarning: The default of observed=False is deprecated and will be changed to True in a future version of pandas. Pass observed=False to retain current behavior or observed=True to adopt the future default and silence this warning.\n",
      "  hx = hx.groupby('bins').mean().reset_index().drop(labels=[0,'bins'], axis=1)\n",
      "C:\\Users\\3DStation4\\AppData\\Local\\Temp\\ipykernel_10716\\2548781751.py:28: FutureWarning: The default of observed=False is deprecated and will be changed to True in a future version of pandas. Pass observed=False to retain current behavior or observed=True to adopt the future default and silence this warning.\n",
      "  hp = hp.groupby('bins').mean().reset_index().drop(labels=[0,'bins'], axis=1)\n",
      "C:\\Users\\3DStation4\\AppData\\Local\\Temp\\ipykernel_10716\\2548781751.py:31: FutureWarning: The default of observed=False is deprecated and will be changed to True in a future version of pandas. Pass observed=False to retain current behavior or observed=True to adopt the future default and silence this warning.\n",
      "  hx = hx.groupby('bins').mean().reset_index().drop(labels=[0,'bins'], axis=1)\n",
      "C:\\Users\\3DStation4\\AppData\\Local\\Temp\\ipykernel_10716\\2548781751.py:28: FutureWarning: The default of observed=False is deprecated and will be changed to True in a future version of pandas. Pass observed=False to retain current behavior or observed=True to adopt the future default and silence this warning.\n",
      "  hp = hp.groupby('bins').mean().reset_index().drop(labels=[0,'bins'], axis=1)\n",
      "C:\\Users\\3DStation4\\AppData\\Local\\Temp\\ipykernel_10716\\2548781751.py:31: FutureWarning: The default of observed=False is deprecated and will be changed to True in a future version of pandas. Pass observed=False to retain current behavior or observed=True to adopt the future default and silence this warning.\n",
      "  hx = hx.groupby('bins').mean().reset_index().drop(labels=[0,'bins'], axis=1)\n",
      "C:\\Users\\3DStation4\\AppData\\Local\\Temp\\ipykernel_10716\\2548781751.py:28: FutureWarning: The default of observed=False is deprecated and will be changed to True in a future version of pandas. Pass observed=False to retain current behavior or observed=True to adopt the future default and silence this warning.\n",
      "  hp = hp.groupby('bins').mean().reset_index().drop(labels=[0,'bins'], axis=1)\n",
      "C:\\Users\\3DStation4\\AppData\\Local\\Temp\\ipykernel_10716\\2548781751.py:31: FutureWarning: The default of observed=False is deprecated and will be changed to True in a future version of pandas. Pass observed=False to retain current behavior or observed=True to adopt the future default and silence this warning.\n",
      "  hx = hx.groupby('bins').mean().reset_index().drop(labels=[0,'bins'], axis=1)\n",
      "C:\\Users\\3DStation4\\AppData\\Local\\Temp\\ipykernel_10716\\2548781751.py:28: FutureWarning: The default of observed=False is deprecated and will be changed to True in a future version of pandas. Pass observed=False to retain current behavior or observed=True to adopt the future default and silence this warning.\n",
      "  hp = hp.groupby('bins').mean().reset_index().drop(labels=[0,'bins'], axis=1)\n",
      "C:\\Users\\3DStation4\\AppData\\Local\\Temp\\ipykernel_10716\\2548781751.py:31: FutureWarning: The default of observed=False is deprecated and will be changed to True in a future version of pandas. Pass observed=False to retain current behavior or observed=True to adopt the future default and silence this warning.\n",
      "  hx = hx.groupby('bins').mean().reset_index().drop(labels=[0,'bins'], axis=1)\n",
      "C:\\Users\\3DStation4\\AppData\\Local\\Temp\\ipykernel_10716\\2548781751.py:28: FutureWarning: The default of observed=False is deprecated and will be changed to True in a future version of pandas. Pass observed=False to retain current behavior or observed=True to adopt the future default and silence this warning.\n",
      "  hp = hp.groupby('bins').mean().reset_index().drop(labels=[0,'bins'], axis=1)\n",
      "C:\\Users\\3DStation4\\AppData\\Local\\Temp\\ipykernel_10716\\2548781751.py:31: FutureWarning: The default of observed=False is deprecated and will be changed to True in a future version of pandas. Pass observed=False to retain current behavior or observed=True to adopt the future default and silence this warning.\n",
      "  hx = hx.groupby('bins').mean().reset_index().drop(labels=[0,'bins'], axis=1)\n",
      "C:\\Users\\3DStation4\\AppData\\Local\\Temp\\ipykernel_10716\\2548781751.py:28: FutureWarning: The default of observed=False is deprecated and will be changed to True in a future version of pandas. Pass observed=False to retain current behavior or observed=True to adopt the future default and silence this warning.\n",
      "  hp = hp.groupby('bins').mean().reset_index().drop(labels=[0,'bins'], axis=1)\n",
      "C:\\Users\\3DStation4\\AppData\\Local\\Temp\\ipykernel_10716\\2548781751.py:31: FutureWarning: The default of observed=False is deprecated and will be changed to True in a future version of pandas. Pass observed=False to retain current behavior or observed=True to adopt the future default and silence this warning.\n",
      "  hx = hx.groupby('bins').mean().reset_index().drop(labels=[0,'bins'], axis=1)\n",
      "C:\\Users\\3DStation4\\AppData\\Local\\Temp\\ipykernel_10716\\2548781751.py:28: FutureWarning: The default of observed=False is deprecated and will be changed to True in a future version of pandas. Pass observed=False to retain current behavior or observed=True to adopt the future default and silence this warning.\n",
      "  hp = hp.groupby('bins').mean().reset_index().drop(labels=[0,'bins'], axis=1)\n",
      "C:\\Users\\3DStation4\\AppData\\Local\\Temp\\ipykernel_10716\\2548781751.py:31: FutureWarning: The default of observed=False is deprecated and will be changed to True in a future version of pandas. Pass observed=False to retain current behavior or observed=True to adopt the future default and silence this warning.\n",
      "  hx = hx.groupby('bins').mean().reset_index().drop(labels=[0,'bins'], axis=1)\n",
      "C:\\Users\\3DStation4\\AppData\\Local\\Temp\\ipykernel_10716\\2548781751.py:28: FutureWarning: The default of observed=False is deprecated and will be changed to True in a future version of pandas. Pass observed=False to retain current behavior or observed=True to adopt the future default and silence this warning.\n",
      "  hp = hp.groupby('bins').mean().reset_index().drop(labels=[0,'bins'], axis=1)\n",
      "C:\\Users\\3DStation4\\AppData\\Local\\Temp\\ipykernel_10716\\2548781751.py:31: FutureWarning: The default of observed=False is deprecated and will be changed to True in a future version of pandas. Pass observed=False to retain current behavior or observed=True to adopt the future default and silence this warning.\n",
      "  hx = hx.groupby('bins').mean().reset_index().drop(labels=[0,'bins'], axis=1)\n",
      "C:\\Users\\3DStation4\\AppData\\Local\\Temp\\ipykernel_10716\\2548781751.py:28: FutureWarning: The default of observed=False is deprecated and will be changed to True in a future version of pandas. Pass observed=False to retain current behavior or observed=True to adopt the future default and silence this warning.\n",
      "  hp = hp.groupby('bins').mean().reset_index().drop(labels=[0,'bins'], axis=1)\n",
      "C:\\Users\\3DStation4\\AppData\\Local\\Temp\\ipykernel_10716\\2548781751.py:31: FutureWarning: The default of observed=False is deprecated and will be changed to True in a future version of pandas. Pass observed=False to retain current behavior or observed=True to adopt the future default and silence this warning.\n",
      "  hx = hx.groupby('bins').mean().reset_index().drop(labels=[0,'bins'], axis=1)\n",
      "C:\\Users\\3DStation4\\AppData\\Local\\Temp\\ipykernel_10716\\2548781751.py:28: FutureWarning: The default of observed=False is deprecated and will be changed to True in a future version of pandas. Pass observed=False to retain current behavior or observed=True to adopt the future default and silence this warning.\n",
      "  hp = hp.groupby('bins').mean().reset_index().drop(labels=[0,'bins'], axis=1)\n",
      "C:\\Users\\3DStation4\\AppData\\Local\\Temp\\ipykernel_10716\\2548781751.py:31: FutureWarning: The default of observed=False is deprecated and will be changed to True in a future version of pandas. Pass observed=False to retain current behavior or observed=True to adopt the future default and silence this warning.\n",
      "  hx = hx.groupby('bins').mean().reset_index().drop(labels=[0,'bins'], axis=1)\n",
      "C:\\Users\\3DStation4\\AppData\\Local\\Temp\\ipykernel_10716\\2548781751.py:28: FutureWarning: The default of observed=False is deprecated and will be changed to True in a future version of pandas. Pass observed=False to retain current behavior or observed=True to adopt the future default and silence this warning.\n",
      "  hp = hp.groupby('bins').mean().reset_index().drop(labels=[0,'bins'], axis=1)\n",
      "C:\\Users\\3DStation4\\AppData\\Local\\Temp\\ipykernel_10716\\2548781751.py:31: FutureWarning: The default of observed=False is deprecated and will be changed to True in a future version of pandas. Pass observed=False to retain current behavior or observed=True to adopt the future default and silence this warning.\n",
      "  hx = hx.groupby('bins').mean().reset_index().drop(labels=[0,'bins'], axis=1)\n",
      "C:\\Users\\3DStation4\\AppData\\Local\\Temp\\ipykernel_10716\\2548781751.py:28: FutureWarning: The default of observed=False is deprecated and will be changed to True in a future version of pandas. Pass observed=False to retain current behavior or observed=True to adopt the future default and silence this warning.\n",
      "  hp = hp.groupby('bins').mean().reset_index().drop(labels=[0,'bins'], axis=1)\n",
      "C:\\Users\\3DStation4\\AppData\\Local\\Temp\\ipykernel_10716\\2548781751.py:31: FutureWarning: The default of observed=False is deprecated and will be changed to True in a future version of pandas. Pass observed=False to retain current behavior or observed=True to adopt the future default and silence this warning.\n",
      "  hx = hx.groupby('bins').mean().reset_index().drop(labels=[0,'bins'], axis=1)\n",
      "C:\\Users\\3DStation4\\AppData\\Local\\Temp\\ipykernel_10716\\2548781751.py:28: FutureWarning: The default of observed=False is deprecated and will be changed to True in a future version of pandas. Pass observed=False to retain current behavior or observed=True to adopt the future default and silence this warning.\n",
      "  hp = hp.groupby('bins').mean().reset_index().drop(labels=[0,'bins'], axis=1)\n",
      "C:\\Users\\3DStation4\\AppData\\Local\\Temp\\ipykernel_10716\\2548781751.py:31: FutureWarning: The default of observed=False is deprecated and will be changed to True in a future version of pandas. Pass observed=False to retain current behavior or observed=True to adopt the future default and silence this warning.\n",
      "  hx = hx.groupby('bins').mean().reset_index().drop(labels=[0,'bins'], axis=1)\n",
      "C:\\Users\\3DStation4\\AppData\\Local\\Temp\\ipykernel_10716\\2548781751.py:28: FutureWarning: The default of observed=False is deprecated and will be changed to True in a future version of pandas. Pass observed=False to retain current behavior or observed=True to adopt the future default and silence this warning.\n",
      "  hp = hp.groupby('bins').mean().reset_index().drop(labels=[0,'bins'], axis=1)\n",
      "C:\\Users\\3DStation4\\AppData\\Local\\Temp\\ipykernel_10716\\2548781751.py:31: FutureWarning: The default of observed=False is deprecated and will be changed to True in a future version of pandas. Pass observed=False to retain current behavior or observed=True to adopt the future default and silence this warning.\n",
      "  hx = hx.groupby('bins').mean().reset_index().drop(labels=[0,'bins'], axis=1)\n",
      "C:\\Users\\3DStation4\\AppData\\Local\\Temp\\ipykernel_10716\\2548781751.py:28: FutureWarning: The default of observed=False is deprecated and will be changed to True in a future version of pandas. Pass observed=False to retain current behavior or observed=True to adopt the future default and silence this warning.\n",
      "  hp = hp.groupby('bins').mean().reset_index().drop(labels=[0,'bins'], axis=1)\n",
      "C:\\Users\\3DStation4\\AppData\\Local\\Temp\\ipykernel_10716\\2548781751.py:31: FutureWarning: The default of observed=False is deprecated and will be changed to True in a future version of pandas. Pass observed=False to retain current behavior or observed=True to adopt the future default and silence this warning.\n",
      "  hx = hx.groupby('bins').mean().reset_index().drop(labels=[0,'bins'], axis=1)\n",
      "C:\\Users\\3DStation4\\AppData\\Local\\Temp\\ipykernel_10716\\2548781751.py:28: FutureWarning: The default of observed=False is deprecated and will be changed to True in a future version of pandas. Pass observed=False to retain current behavior or observed=True to adopt the future default and silence this warning.\n",
      "  hp = hp.groupby('bins').mean().reset_index().drop(labels=[0,'bins'], axis=1)\n",
      "C:\\Users\\3DStation4\\AppData\\Local\\Temp\\ipykernel_10716\\2548781751.py:31: FutureWarning: The default of observed=False is deprecated and will be changed to True in a future version of pandas. Pass observed=False to retain current behavior or observed=True to adopt the future default and silence this warning.\n",
      "  hx = hx.groupby('bins').mean().reset_index().drop(labels=[0,'bins'], axis=1)\n",
      "C:\\Users\\3DStation4\\AppData\\Local\\Temp\\ipykernel_10716\\2548781751.py:28: FutureWarning: The default of observed=False is deprecated and will be changed to True in a future version of pandas. Pass observed=False to retain current behavior or observed=True to adopt the future default and silence this warning.\n",
      "  hp = hp.groupby('bins').mean().reset_index().drop(labels=[0,'bins'], axis=1)\n",
      "C:\\Users\\3DStation4\\AppData\\Local\\Temp\\ipykernel_10716\\2548781751.py:31: FutureWarning: The default of observed=False is deprecated and will be changed to True in a future version of pandas. Pass observed=False to retain current behavior or observed=True to adopt the future default and silence this warning.\n",
      "  hx = hx.groupby('bins').mean().reset_index().drop(labels=[0,'bins'], axis=1)\n",
      "C:\\Users\\3DStation4\\AppData\\Local\\Temp\\ipykernel_10716\\2548781751.py:28: FutureWarning: The default of observed=False is deprecated and will be changed to True in a future version of pandas. Pass observed=False to retain current behavior or observed=True to adopt the future default and silence this warning.\n",
      "  hp = hp.groupby('bins').mean().reset_index().drop(labels=[0,'bins'], axis=1)\n",
      "C:\\Users\\3DStation4\\AppData\\Local\\Temp\\ipykernel_10716\\2548781751.py:31: FutureWarning: The default of observed=False is deprecated and will be changed to True in a future version of pandas. Pass observed=False to retain current behavior or observed=True to adopt the future default and silence this warning.\n",
      "  hx = hx.groupby('bins').mean().reset_index().drop(labels=[0,'bins'], axis=1)\n",
      "C:\\Users\\3DStation4\\AppData\\Local\\Temp\\ipykernel_10716\\2548781751.py:28: FutureWarning: The default of observed=False is deprecated and will be changed to True in a future version of pandas. Pass observed=False to retain current behavior or observed=True to adopt the future default and silence this warning.\n",
      "  hp = hp.groupby('bins').mean().reset_index().drop(labels=[0,'bins'], axis=1)\n",
      "C:\\Users\\3DStation4\\AppData\\Local\\Temp\\ipykernel_10716\\2548781751.py:31: FutureWarning: The default of observed=False is deprecated and will be changed to True in a future version of pandas. Pass observed=False to retain current behavior or observed=True to adopt the future default and silence this warning.\n",
      "  hx = hx.groupby('bins').mean().reset_index().drop(labels=[0,'bins'], axis=1)\n",
      "C:\\Users\\3DStation4\\AppData\\Local\\Temp\\ipykernel_10716\\2548781751.py:28: FutureWarning: The default of observed=False is deprecated and will be changed to True in a future version of pandas. Pass observed=False to retain current behavior or observed=True to adopt the future default and silence this warning.\n",
      "  hp = hp.groupby('bins').mean().reset_index().drop(labels=[0,'bins'], axis=1)\n",
      "C:\\Users\\3DStation4\\AppData\\Local\\Temp\\ipykernel_10716\\2548781751.py:31: FutureWarning: The default of observed=False is deprecated and will be changed to True in a future version of pandas. Pass observed=False to retain current behavior or observed=True to adopt the future default and silence this warning.\n",
      "  hx = hx.groupby('bins').mean().reset_index().drop(labels=[0,'bins'], axis=1)\n",
      "C:\\Users\\3DStation4\\AppData\\Local\\Temp\\ipykernel_10716\\2548781751.py:28: FutureWarning: The default of observed=False is deprecated and will be changed to True in a future version of pandas. Pass observed=False to retain current behavior or observed=True to adopt the future default and silence this warning.\n",
      "  hp = hp.groupby('bins').mean().reset_index().drop(labels=[0,'bins'], axis=1)\n",
      "C:\\Users\\3DStation4\\AppData\\Local\\Temp\\ipykernel_10716\\2548781751.py:31: FutureWarning: The default of observed=False is deprecated and will be changed to True in a future version of pandas. Pass observed=False to retain current behavior or observed=True to adopt the future default and silence this warning.\n",
      "  hx = hx.groupby('bins').mean().reset_index().drop(labels=[0,'bins'], axis=1)\n",
      "C:\\Users\\3DStation4\\AppData\\Local\\Temp\\ipykernel_10716\\2548781751.py:28: FutureWarning: The default of observed=False is deprecated and will be changed to True in a future version of pandas. Pass observed=False to retain current behavior or observed=True to adopt the future default and silence this warning.\n",
      "  hp = hp.groupby('bins').mean().reset_index().drop(labels=[0,'bins'], axis=1)\n",
      "C:\\Users\\3DStation4\\AppData\\Local\\Temp\\ipykernel_10716\\2548781751.py:31: FutureWarning: The default of observed=False is deprecated and will be changed to True in a future version of pandas. Pass observed=False to retain current behavior or observed=True to adopt the future default and silence this warning.\n",
      "  hx = hx.groupby('bins').mean().reset_index().drop(labels=[0,'bins'], axis=1)\n",
      "C:\\Users\\3DStation4\\AppData\\Local\\Temp\\ipykernel_10716\\2548781751.py:28: FutureWarning: The default of observed=False is deprecated and will be changed to True in a future version of pandas. Pass observed=False to retain current behavior or observed=True to adopt the future default and silence this warning.\n",
      "  hp = hp.groupby('bins').mean().reset_index().drop(labels=[0,'bins'], axis=1)\n",
      "C:\\Users\\3DStation4\\AppData\\Local\\Temp\\ipykernel_10716\\2548781751.py:31: FutureWarning: The default of observed=False is deprecated and will be changed to True in a future version of pandas. Pass observed=False to retain current behavior or observed=True to adopt the future default and silence this warning.\n",
      "  hx = hx.groupby('bins').mean().reset_index().drop(labels=[0,'bins'], axis=1)\n",
      "C:\\Users\\3DStation4\\AppData\\Local\\Temp\\ipykernel_10716\\2548781751.py:28: FutureWarning: The default of observed=False is deprecated and will be changed to True in a future version of pandas. Pass observed=False to retain current behavior or observed=True to adopt the future default and silence this warning.\n",
      "  hp = hp.groupby('bins').mean().reset_index().drop(labels=[0,'bins'], axis=1)\n",
      "C:\\Users\\3DStation4\\AppData\\Local\\Temp\\ipykernel_10716\\2548781751.py:31: FutureWarning: The default of observed=False is deprecated and will be changed to True in a future version of pandas. Pass observed=False to retain current behavior or observed=True to adopt the future default and silence this warning.\n",
      "  hx = hx.groupby('bins').mean().reset_index().drop(labels=[0,'bins'], axis=1)\n",
      "C:\\Users\\3DStation4\\AppData\\Local\\Temp\\ipykernel_10716\\2548781751.py:28: FutureWarning: The default of observed=False is deprecated and will be changed to True in a future version of pandas. Pass observed=False to retain current behavior or observed=True to adopt the future default and silence this warning.\n",
      "  hp = hp.groupby('bins').mean().reset_index().drop(labels=[0,'bins'], axis=1)\n",
      "C:\\Users\\3DStation4\\AppData\\Local\\Temp\\ipykernel_10716\\2548781751.py:31: FutureWarning: The default of observed=False is deprecated and will be changed to True in a future version of pandas. Pass observed=False to retain current behavior or observed=True to adopt the future default and silence this warning.\n",
      "  hx = hx.groupby('bins').mean().reset_index().drop(labels=[0,'bins'], axis=1)\n",
      "C:\\Users\\3DStation4\\AppData\\Local\\Temp\\ipykernel_10716\\2548781751.py:28: FutureWarning: The default of observed=False is deprecated and will be changed to True in a future version of pandas. Pass observed=False to retain current behavior or observed=True to adopt the future default and silence this warning.\n",
      "  hp = hp.groupby('bins').mean().reset_index().drop(labels=[0,'bins'], axis=1)\n",
      "C:\\Users\\3DStation4\\AppData\\Local\\Temp\\ipykernel_10716\\2548781751.py:31: FutureWarning: The default of observed=False is deprecated and will be changed to True in a future version of pandas. Pass observed=False to retain current behavior or observed=True to adopt the future default and silence this warning.\n",
      "  hx = hx.groupby('bins').mean().reset_index().drop(labels=[0,'bins'], axis=1)\n",
      "C:\\Users\\3DStation4\\AppData\\Local\\Temp\\ipykernel_10716\\2548781751.py:28: FutureWarning: The default of observed=False is deprecated and will be changed to True in a future version of pandas. Pass observed=False to retain current behavior or observed=True to adopt the future default and silence this warning.\n",
      "  hp = hp.groupby('bins').mean().reset_index().drop(labels=[0,'bins'], axis=1)\n",
      "C:\\Users\\3DStation4\\AppData\\Local\\Temp\\ipykernel_10716\\2548781751.py:31: FutureWarning: The default of observed=False is deprecated and will be changed to True in a future version of pandas. Pass observed=False to retain current behavior or observed=True to adopt the future default and silence this warning.\n",
      "  hx = hx.groupby('bins').mean().reset_index().drop(labels=[0,'bins'], axis=1)\n",
      "C:\\Users\\3DStation4\\AppData\\Local\\Temp\\ipykernel_10716\\2548781751.py:28: FutureWarning: The default of observed=False is deprecated and will be changed to True in a future version of pandas. Pass observed=False to retain current behavior or observed=True to adopt the future default and silence this warning.\n",
      "  hp = hp.groupby('bins').mean().reset_index().drop(labels=[0,'bins'], axis=1)\n",
      "C:\\Users\\3DStation4\\AppData\\Local\\Temp\\ipykernel_10716\\2548781751.py:31: FutureWarning: The default of observed=False is deprecated and will be changed to True in a future version of pandas. Pass observed=False to retain current behavior or observed=True to adopt the future default and silence this warning.\n",
      "  hx = hx.groupby('bins').mean().reset_index().drop(labels=[0,'bins'], axis=1)\n",
      "C:\\Users\\3DStation4\\AppData\\Local\\Temp\\ipykernel_10716\\2548781751.py:28: FutureWarning: The default of observed=False is deprecated and will be changed to True in a future version of pandas. Pass observed=False to retain current behavior or observed=True to adopt the future default and silence this warning.\n",
      "  hp = hp.groupby('bins').mean().reset_index().drop(labels=[0,'bins'], axis=1)\n",
      "C:\\Users\\3DStation4\\AppData\\Local\\Temp\\ipykernel_10716\\2548781751.py:31: FutureWarning: The default of observed=False is deprecated and will be changed to True in a future version of pandas. Pass observed=False to retain current behavior or observed=True to adopt the future default and silence this warning.\n",
      "  hx = hx.groupby('bins').mean().reset_index().drop(labels=[0,'bins'], axis=1)\n",
      "C:\\Users\\3DStation4\\AppData\\Local\\Temp\\ipykernel_10716\\2548781751.py:28: FutureWarning: The default of observed=False is deprecated and will be changed to True in a future version of pandas. Pass observed=False to retain current behavior or observed=True to adopt the future default and silence this warning.\n",
      "  hp = hp.groupby('bins').mean().reset_index().drop(labels=[0,'bins'], axis=1)\n",
      "C:\\Users\\3DStation4\\AppData\\Local\\Temp\\ipykernel_10716\\2548781751.py:31: FutureWarning: The default of observed=False is deprecated and will be changed to True in a future version of pandas. Pass observed=False to retain current behavior or observed=True to adopt the future default and silence this warning.\n",
      "  hx = hx.groupby('bins').mean().reset_index().drop(labels=[0,'bins'], axis=1)\n",
      "C:\\Users\\3DStation4\\AppData\\Local\\Temp\\ipykernel_10716\\2548781751.py:28: FutureWarning: The default of observed=False is deprecated and will be changed to True in a future version of pandas. Pass observed=False to retain current behavior or observed=True to adopt the future default and silence this warning.\n",
      "  hp = hp.groupby('bins').mean().reset_index().drop(labels=[0,'bins'], axis=1)\n",
      "C:\\Users\\3DStation4\\AppData\\Local\\Temp\\ipykernel_10716\\2548781751.py:31: FutureWarning: The default of observed=False is deprecated and will be changed to True in a future version of pandas. Pass observed=False to retain current behavior or observed=True to adopt the future default and silence this warning.\n",
      "  hx = hx.groupby('bins').mean().reset_index().drop(labels=[0,'bins'], axis=1)\n",
      "C:\\Users\\3DStation4\\AppData\\Local\\Temp\\ipykernel_10716\\2548781751.py:28: FutureWarning: The default of observed=False is deprecated and will be changed to True in a future version of pandas. Pass observed=False to retain current behavior or observed=True to adopt the future default and silence this warning.\n",
      "  hp = hp.groupby('bins').mean().reset_index().drop(labels=[0,'bins'], axis=1)\n",
      "C:\\Users\\3DStation4\\AppData\\Local\\Temp\\ipykernel_10716\\2548781751.py:31: FutureWarning: The default of observed=False is deprecated and will be changed to True in a future version of pandas. Pass observed=False to retain current behavior or observed=True to adopt the future default and silence this warning.\n",
      "  hx = hx.groupby('bins').mean().reset_index().drop(labels=[0,'bins'], axis=1)\n"
     ]
    }
   ],
   "source": [
    "# poles = [0]\n",
    "def filter_data(data, bin_step=100):\n",
    "    # to speed up, filter the high frequency stuff\n",
    "    t = data[:, 0].copy()\n",
    "    n = int(len(t)/bin_step)\n",
    "    data_bin = np.zeros((n, data.shape[1]))\n",
    "    for i in range(data.shape[1]):\n",
    "        data_bin[:, i] = binned_statistic(t, data[:, i], bins=int(len(t)/bin_step), statistic='mean').statistic\n",
    "    return data_bin\n",
    "\n",
    "hyst_all = []\n",
    "hyst_file_path = file_path\n",
    "# get the rl coefficients\n",
    "with open('rl_coeff.p', 'rb') as f:\n",
    "    rl_coeff = pickle.load(f)\n",
    "hp_minmax = np.zeros((3, 2))\n",
    "with h5py.File(hyst_file_path, 'r') as f:\n",
    "    for pole in poles:\n",
    "        hyst_pole = []\n",
    "        pole_grp = f['pole{}'.format(pole)]\n",
    "        for step in pole_grp.keys():\n",
    "            hp = pd.DataFrame(pole_grp[step+'/hallprobe/data'][:])\n",
    "            hx = pd.DataFrame(pole_grp[step+'/hexapole/data'][:])\n",
    "            total_t = hp[0].values[-1] - hp[0].values[0]\n",
    "            bins = np.arange(hp[0].iloc[0], hp[0].iloc[-1], 1/100)\n",
    "\n",
    "            hp['bins'] = pd.cut(hp[0], bins, right=False)\n",
    "            hp = hp.groupby('bins').mean().reset_index().drop(labels=[0,'bins'], axis=1)\n",
    "            hp.columns = ['hpA', 'hpB', 'hpC']\n",
    "            hx['bins'] = pd.cut(hx[0], bins, right=False)\n",
    "            hx = hx.groupby('bins').mean().reset_index().drop(labels=[0,'bins'], axis=1)\n",
    "            hx.columns = ['hxA', 'hxB', 'hxC']\n",
    "            \n",
    "\n",
    "            # add to one dataframe, flip hp for convenience\n",
    "            hp *= -1\n",
    "            hyst_step = pd.concat([hp, hx], axis=1)\n",
    "            # get the min and max values\n",
    "            hpmin = np.min(hp.values)\n",
    "            hpmax = np.max(hp.values)\n",
    "            if hp_minmax[pole, 0] > hpmin:\n",
    "                hp_minmax[pole, 0] = hpmin\n",
    "            if hp_minmax[pole, 1] < hpmax:\n",
    "                hp_minmax[pole, 1] = hpmax\n",
    "            # remove the part where we hit compliance\n",
    "#             complianceV = 20/np.sqrt(rl_coeff[pole]['R']**2 + (2*np.pi*rl_coeff[pole]['L']/total_t)**2)\n",
    "            complianceV = 9\n",
    "            hyst_step[hx.columns] = hyst_step[hyst_step[hx.columns].abs()<complianceV][hx.columns]\n",
    "            hyst_step.dropna(inplace=True)\n",
    "            \n",
    "            # add to the list\n",
    "            hyst_pole.append(hyst_step.copy())\n",
    "        # sort the list based on the amplitude\n",
    "        hx_amps = np.zeros(len(hyst_pole))\n",
    "        for i, df in enumerate(hyst_pole):\n",
    "            hx = df['hx'+poles_dict[pole]]\n",
    "            hx_amps[i] = hx.max() - hx.min()\n",
    "        # sort the hyst pole based on amps\n",
    "        hyst_pole = [x for _,x in sorted(zip(hx_amps,hyst_pole))]\n",
    "\n",
    "        # add to the pole list\n",
    "        hyst_all.append(hyst_pole)"
   ]
  },
  {
   "cell_type": "code",
   "execution_count": null,
   "metadata": {},
   "outputs": [],
   "source": []
  },
  {
   "cell_type": "code",
   "execution_count": 333,
   "metadata": {},
   "outputs": [
    {
     "data": {
      "text/plain": [
       "2"
      ]
     },
     "execution_count": 333,
     "metadata": {},
     "output_type": "execute_result"
    }
   ],
   "source": [
    "pole"
   ]
  },
  {
   "cell_type": "code",
   "execution_count": 334,
   "metadata": {},
   "outputs": [
    {
     "data": {
      "text/plain": [
       "<matplotlib.legend.Legend at 0x28e16d311b0>"
      ]
     },
     "execution_count": 334,
     "metadata": {},
     "output_type": "execute_result"
    }
   ],
   "source": [
    "# plot the bounding loop\n",
    "pole = 1\n",
    "bounding_loop = hyst_all[pole][-1]\n",
    "x_full = bounding_loop['hp'+poles_dict[pole]].values\n",
    "y_full = bounding_loop['hx'+poles_dict[pole]].values\n",
    "\n",
    "poly_coeff = np.polyfit(x_full, y_full, deg=7)\n",
    "polyfit = np.poly1d(poly_coeff)\n",
    "polyder_coeff = np.polyder(poly_coeff, 1)\n",
    "polyder = np.poly1d(polyder_coeff)\n",
    "\n",
    "plt.close('all')\n",
    "plt.plot(x_full, y_full, label='data')\n",
    "plt.plot(x_full, polyfit(x_full), label='fit')\n",
    "plt.plot(x_full, polyder(x_full), label='derivative')\n",
    "plt.legend()\n",
    "# plt.plot(x_full / np.max(x_full), label='hallprobe')\n",
    "# plt.plot(y_full / np.max(y_full), label = 'hexapole')"
   ]
  },
  {
   "cell_type": "code",
   "execution_count": 335,
   "metadata": {},
   "outputs": [],
   "source": [
    "# plot everything\n",
    "# plt.close()\n",
    "plt.figure(figsize=(16, 8))\n",
    "for pole, hyst_pole in enumerate(hyst_all):\n",
    "    plt.subplot(1, len(poles), pole+1)\n",
    "    for i, hyst_step in enumerate(hyst_pole):\n",
    "        plt.plot(hyst_step['hp'+poles_dict[pole]],hyst_step['hx'+poles_dict[pole]], label='step{}'.format(i))\n",
    "        plt.xlabel('Measured field [V]')\n",
    "        plt.ylabel('Applied current [A]')\n",
    "#     plt.legend()\n",
    "    plt.title('Pole {}'.format(poles_dict[pole]))\n",
    "\n",
    "plt.tight_layout()\n",
    "plt.savefig(os.path.join(out_folder, 'Magnet minor loops flipped.png'))"
   ]
  },
  {
   "cell_type": "code",
   "execution_count": 336,
   "metadata": {},
   "outputs": [],
   "source": [
    "with open('hyst_poly_coeff.p', 'wb') as f:\n",
    "    pickle.dump({'loop':poly_coeff, 'deriv': polyder_coeff}, f)"
   ]
  },
  {
   "cell_type": "markdown",
   "metadata": {},
   "source": [
    "### Fitting the bounding loop (f<sub>a</sub>)"
   ]
  },
  {
   "cell_type": "code",
   "execution_count": 337,
   "metadata": {},
   "outputs": [
    {
     "name": "stdout",
     "output_type": "stream",
     "text": [
      "\n",
      "Pole A\n",
      "Maximum error: 0.074V\n",
      "Std error: 0.028V\n",
      "\n",
      "Pole B\n",
      "Maximum error: 0.063V\n",
      "Std error: 0.028V\n",
      "\n",
      "Pole C\n",
      "Maximum error: 0.069V\n",
      "Std error: 0.028V\n"
     ]
    }
   ],
   "source": [
    "plt.close('all')\n",
    "plt.figure(figsize=(18, 7))\n",
    "main_branch_fits = []\n",
    "\n",
    "for pole in poles:\n",
    "    print('\\nPole '+poles_dict[pole])\n",
    "    bounding_loop = hyst_all[pole][-1]\n",
    "    x_full = bounding_loop['hp'+poles_dict[pole]].values\n",
    "    y_full = bounding_loop['hx'+poles_dict[pole]].values\n",
    "    # take only the top half\n",
    "    x = x_full[:int(np.floor(len(x_full)/2))]\n",
    "    y = y_full[:int(np.floor(len(y_full)/2))]\n",
    "\n",
    "    # fit the hysteresis\n",
    "    idx = np.argsort(x)\n",
    "    x, y = x[idx], y[idx]\n",
    "    spl = interpolate.UnivariateSpline(x, y, s=0.2)\n",
    "#     spl = interpolate.InterpolatedUnivariateSpline(x, y)\n",
    "    main_branch_fits.append(spl)\n",
    "    y_fit = spl.__call__(x)\n",
    "    \n",
    "    # do the error analysis\n",
    "    err = np.abs((y_fit - y))\n",
    "    idx = np.argmax(err)\n",
    "    maxerr = err[idx]\n",
    "    maxrelerr = np.abs(np.max(np.abs(err/y)))\n",
    "    stderr = np.sqrt(np.mean(err**2))\n",
    "    s = 'Maximum error: {:.3f}V\\nStd error: {:.3f}V'.format(maxerr, stderr)\n",
    "    print(s)\n",
    "#     print(y[idx])\n",
    "    \n",
    "#     coeff = np.polyfit(x, y, deg=12)\n",
    "#     f_a = np.poly1d(coeff)\n",
    "    \n",
    "    plt.subplot(1, len(poles), pole+1)\n",
    "    plt.plot(x_full, y_full, label='Measurement')\n",
    "    x_tst = np.linspace(-1.9, 1.9, 1000)\n",
    "    plt.plot(x_tst, spl.__call__(x_tst), label='Fit')\n",
    "    plt.legend()\n",
    "    plt.ylabel('Applied current [A]')\n",
    "    plt.xlabel('Measured field [V]')\n",
    "    plt.title('Pole '+poles_dict[pole])\n",
    "    plt.text(-2, 6, s, )\n",
    "    plt.ylim(-15,15)\n",
    "    \n",
    "plt.tight_layout()\n",
    "plt.savefig(os.path.join(out_folder, 'Fitting bounding loop all poles.png'))"
   ]
  },
  {
   "cell_type": "markdown",
   "metadata": {},
   "source": [
    "### Fitting the minor loops f<sub>ab"
   ]
  },
  {
   "cell_type": "code",
   "execution_count": 338,
   "metadata": {},
   "outputs": [],
   "source": [
    "# for each of the transition curves, get the value maximum value it gets to\n",
    "transition_curves = []\n",
    "for pole in poles:\n",
    "    # maximum value of the minor loops\n",
    "    minor_loops = hyst_all[pole]\n",
    "    # a = np.array([minor_loop['hx'+poles_dict[pole]].max() for minor_loop in minor_loops])\n",
    "    # get the list of returning loops\n",
    "    tran_curves = []\n",
    "    for ml in minor_loops:\n",
    "        y = ml['hx'+poles_dict[pole]]\n",
    "        x = ml['hp'+poles_dict[pole]]\n",
    "        # get the maximum value of the loop\n",
    "        a = x.max()\n",
    "        # take only the bottom half\n",
    "        b = x[int(np.floor(len(x)/2)):].values\n",
    "        f_ab = y[int(np.floor(len(y)/2)):].values\n",
    "        tran_curves.append(np.stack((a*np.ones(b.size), b, f_ab), axis=1))\n",
    "    transition_curves.append(np.concatenate(tran_curves, axis=0))"
   ]
  },
  {
   "cell_type": "code",
   "execution_count": 339,
   "metadata": {},
   "outputs": [
    {
     "name": "stderr",
     "output_type": "stream",
     "text": [
      "C:\\Users\\3DStation4\\AppData\\Local\\Temp\\ipykernel_10716\\1099287776.py:10: UserWarning: ier=207\n",
      "  fit = interpolate.SmoothBivariateSpline(x, y, z, s=s, kx=kx, ky=ky)\n",
      "C:\\Users\\3DStation4\\AppData\\Local\\Temp\\ipykernel_10716\\1099287776.py:10: UserWarning: ier=309\n",
      "  fit = interpolate.SmoothBivariateSpline(x, y, z, s=s, kx=kx, ky=ky)\n",
      "C:\\Users\\3DStation4\\AppData\\Local\\Temp\\ipykernel_10716\\1099287776.py:10: UserWarning: ier=431\n",
      "  fit = interpolate.SmoothBivariateSpline(x, y, z, s=s, kx=kx, ky=ky)\n",
      "C:\\Users\\3DStation4\\AppData\\Local\\Temp\\ipykernel_10716\\1099287776.py:10: UserWarning: ier=467\n",
      "  fit = interpolate.SmoothBivariateSpline(x, y, z, s=s, kx=kx, ky=ky)\n",
      "C:\\Users\\3DStation4\\AppData\\Local\\Temp\\ipykernel_10716\\1099287776.py:10: UserWarning: ier=591\n",
      "  fit = interpolate.SmoothBivariateSpline(x, y, z, s=s, kx=kx, ky=ky)\n",
      "C:\\Users\\3DStation4\\AppData\\Local\\Temp\\ipykernel_10716\\1099287776.py:10: UserWarning: ier=683\n",
      "  fit = interpolate.SmoothBivariateSpline(x, y, z, s=s, kx=kx, ky=ky)\n",
      "C:\\Users\\3DStation4\\AppData\\Local\\Temp\\ipykernel_10716\\1099287776.py:10: UserWarning: ier=859\n",
      "  fit = interpolate.SmoothBivariateSpline(x, y, z, s=s, kx=kx, ky=ky)\n",
      "C:\\Users\\3DStation4\\AppData\\Local\\Temp\\ipykernel_10716\\1099287776.py:10: UserWarning: ier=816\n",
      "  fit = interpolate.SmoothBivariateSpline(x, y, z, s=s, kx=kx, ky=ky)\n",
      "C:\\Users\\3DStation4\\AppData\\Local\\Temp\\ipykernel_10716\\1099287776.py:10: UserWarning: ier=988\n",
      "  fit = interpolate.SmoothBivariateSpline(x, y, z, s=s, kx=kx, ky=ky)\n",
      "C:\\Users\\3DStation4\\AppData\\Local\\Temp\\ipykernel_10716\\1099287776.py:10: UserWarning: ier=573\n",
      "  fit = interpolate.SmoothBivariateSpline(x, y, z, s=s, kx=kx, ky=ky)\n"
     ]
    },
    {
     "name": "stdout",
     "output_type": "stream",
     "text": [
      "2.8459252730603115\n",
      "[3, 1, 1]\n",
      "1.4554653473654429\n",
      "[3, 1, 2]\n",
      "1.4190826514337462\n",
      "[3, 2, 4]\n",
      "0.027398367803442774\n",
      "[3, 3, 4]\n"
     ]
    },
    {
     "name": "stderr",
     "output_type": "stream",
     "text": [
      "C:\\Users\\3DStation4\\AppData\\Local\\Temp\\ipykernel_10716\\1099287776.py:10: UserWarning: ier=1077\n",
      "  fit = interpolate.SmoothBivariateSpline(x, y, z, s=s, kx=kx, ky=ky)\n",
      "C:\\Users\\3DStation4\\AppData\\Local\\Temp\\ipykernel_10716\\1099287776.py:10: UserWarning: ier=1349\n",
      "  fit = interpolate.SmoothBivariateSpline(x, y, z, s=s, kx=kx, ky=ky)\n"
     ]
    },
    {
     "name": "stdout",
     "output_type": "stream",
     "text": [
      "0.027385658430289277\n",
      "[3, 4, 4]\n"
     ]
    },
    {
     "name": "stderr",
     "output_type": "stream",
     "text": [
      "C:\\Users\\3DStation4\\AppData\\Local\\Temp\\ipykernel_10716\\1099287776.py:10: UserWarning: ier=-29\n",
      "  fit = interpolate.SmoothBivariateSpline(x, y, z, s=s, kx=kx, ky=ky)\n"
     ]
    },
    {
     "name": "stdout",
     "output_type": "stream",
     "text": [
      "Done!\n"
     ]
    }
   ],
   "source": [
    "pole = 0\n",
    "tran_pole = transition_curves[pole]\n",
    "x, y, z = tran_pole[:, 0], tran_pole[:, 1], tran_pole[:, 2]\n",
    "# try to optimize the metaparameters\n",
    "bestparams = [1, 1, 1]\n",
    "minerr = 1000\n",
    "for s in range(3, 40):\n",
    "    for kx in range(1, 5):\n",
    "        for ky in range(1, 5):\n",
    "            fit = interpolate.SmoothBivariateSpline(x, y, z, s=s, kx=kx, ky=ky)\n",
    "            z_eval = fit.ev(x, y)\n",
    "            # do the error analysis\n",
    "            err = np.abs((z - z_eval))\n",
    "            stderr = np.sqrt(np.mean(err**2))\n",
    "            if stderr < minerr:\n",
    "                bestparams = [s, kx, ky]\n",
    "                minerr = stderr\n",
    "                print(minerr)\n",
    "                print(bestparams)\n",
    "print('Done!')\n"
   ]
  },
  {
   "cell_type": "code",
   "execution_count": 340,
   "metadata": {},
   "outputs": [
    {
     "name": "stdout",
     "output_type": "stream",
     "text": [
      "\n",
      "Pole A\n",
      "Maximum error: 0.09V\n",
      "Std error: 0.027V\n",
      "\n",
      "Pole B\n",
      "Maximum error: 0.08V\n",
      "Std error: 0.027V\n",
      "\n",
      "Pole C\n",
      "Maximum error: 0.08V\n",
      "Std error: 0.027V\n"
     ]
    }
   ],
   "source": [
    "plt.close('all')\n",
    "fig = plt.figure(figsize=(18, 9))\n",
    "transition_fits = []\n",
    "poles = [0, 1, 2]\n",
    "for pole in poles:\n",
    "    print('\\nPole '+poles_dict[pole])\n",
    "    tran_pole = transition_curves[pole]\n",
    "    x, y, z = tran_pole[:, 0], tran_pole[:, 1], tran_pole[:, 2]\n",
    "    grid_x, grid_y = np.mgrid[-2:2:200j, -2:2:200j]\n",
    "#     fit = interpolate.interp2d(x, y, z, kind='cubic')\n",
    "                \n",
    "    fit = interpolate.SmoothBivariateSpline(x, y, z, s=bestparams[0], kx=bestparams[1], ky=bestparams[2])\n",
    "    transition_fits.append(fit)\n",
    "    grid_z = fit.__call__(grid_x[:, 0], grid_y[0, :])\n",
    "#     grid_z = np.reshape(fit(grid_x.flatten(), grid_y.flatten()), grid_x.shape)\n",
    "\n",
    "    # for illustration purposes, make the grid z be 0 outside of the relevant area\n",
    "    idx = grid_x<grid_y\n",
    "    grid_z[idx] = 0\n",
    "    \n",
    "    grid_z = np.reshape(grid_z, grid_x.shape)\n",
    "\n",
    "    ax = fig.add_subplot(1, len(poles), 1+pole, projection='3d')\n",
    "    ax.scatter(x, y, z)\n",
    "    ax.plot_surface(grid_x, grid_y, grid_z, alpha=0.5, color='red')\n",
    "    ax.set_zlim([-10, 10])\n",
    "    ax.set_xlabel(r'$\\alpha$ [V]')\n",
    "    ax.set_ylabel(r'$\\beta$ [V]')\n",
    "    ax.set_zlabel(r'$f_{\\alpha\\beta}$ [V]')\n",
    "    \n",
    "\n",
    "    ax.view_init(15, -140)\n",
    "    z_eval = fit.ev(x, y)\n",
    "    \n",
    "    \n",
    "    # do the error analysis\n",
    "    err = np.abs((z - z_eval))\n",
    "    idx = np.argmax(err)\n",
    "    maxerr = err[idx]\n",
    "    maxrelerr = np.abs(np.max(np.abs(err/z)))\n",
    "    stderr = np.sqrt(np.mean(err**2))\n",
    "    s = 'Maximum error: {:.2f}V\\nStd error: {:.3f}V'.format(maxerr, stderr)\n",
    "    print(s)\n",
    "#     print('Value at max rel: {}'.format(z[np.argmax(np.abs(err/z))]))\n",
    "    plt.title('Pole {}\\n'.format(poles_dict[pole])+s)\n",
    "\n",
    "plt.tight_layout()\n",
    "plt.savefig(os.path.join(out_folder, 'Fitting transition curves all poles.png'))"
   ]
  },
  {
   "cell_type": "markdown",
   "metadata": {},
   "source": [
    "### Define the triangle function F(a, b)"
   ]
  },
  {
   "cell_type": "code",
   "execution_count": 341,
   "metadata": {},
   "outputs": [
    {
     "name": "stdout",
     "output_type": "stream",
     "text": [
      "6.414353472849128\n",
      "11.780371902548552\n",
      "-8.093372029174763\n"
     ]
    }
   ],
   "source": [
    "# define the triangle functions:\n",
    "F_functions = [lambda a, b, f_a=f_a, f_ab=f_ab: (f_a.__call__(a) - f_ab.ev(a, b))/2 for f_a, f_ab in zip(main_branch_fits, transition_fits)]\n",
    "# check that it gives sensible results\n",
    "print(F_functions[0](1.8, 1.8))\n",
    "print(main_branch_fits[1].__call__(1.8))\n",
    "print(transition_fits[1].ev(1.8, -1.8))"
   ]
  },
  {
   "cell_type": "markdown",
   "metadata": {},
   "source": [
    "### Create functions for updating the line points of the Prezbiach model"
   ]
  },
  {
   "cell_type": "code",
   "execution_count": 342,
   "metadata": {},
   "outputs": [],
   "source": [
    "from numba import jit\n",
    "\n",
    "@jit(nopython=True)\n",
    "def update_line(L, x):\n",
    "    # first find out if we went up or down\n",
    "    if L[-1, 0] < x:\n",
    "        # we went up, get rid of the history of all elements that have alpha smaller than x\n",
    "        L[L[:, 0] < x, 0] = x\n",
    "        # add the newest element\n",
    "        L = np.vstack((L, np.array([[x, x]])))\n",
    "        # every other element needs to have a different alpha, otherwise need to get rid of it\n",
    "        keep = np.zeros(L.shape[0]).astype(np.bool_)\n",
    "        keep[0] = True\n",
    "        keep[-1] = True\n",
    "        for i in range(L.shape[0]-2):\n",
    "            if L[i, 0] != L[i+1, 0]:\n",
    "                keep[i] = True\n",
    "                keep[i+1] = True\n",
    "        L = L[keep, :]\n",
    "        return L\n",
    "    if L[-1, 0] > x:\n",
    "        # we went up, get rid of the history of all elements that have alpha smaller than x\n",
    "        L[L[:, 1] > x, 1] = x\n",
    "        # add the newest element\n",
    "        L = np.vstack((L, np.array([[x, x]])))\n",
    "        # every other element needs to have a different alpha, otherwise need to get rid of it\n",
    "        keep = np.zeros(L.shape[0]).astype(np.bool_)\n",
    "        keep[0] = True\n",
    "        keep[-1] = True\n",
    "        for i in range(L.shape[0]-2):\n",
    "            if L[i, 1] != L[i+1, 1]:\n",
    "                keep[i] = True\n",
    "                keep[i+1] = True\n",
    "        L = L[keep, :]\n",
    "        return L\n",
    "    return L    \n",
    "\n",
    "def get_signal_value(L, F_fun):\n",
    "    \"\"\"Gets the value of the signal having the points of the Prezbiach line and the integral functions\"\"\"\n",
    "    # get alphas and betas\n",
    "    alpha, beta = L[:, 0], L[:, 1]\n",
    "    # get all the horisontal lines\n",
    "    indx_hor = (beta[1:] - beta[:-1]) != 0\n",
    "#     lenh = np.sum(indx_hor)\n",
    "#     print(lenh)\n",
    "    # calcluate the signal\n",
    "    signal = -F_fun(alpha[0], beta[0])\n",
    "    F_kk = F_fun(alpha[:-1][indx_hor], beta[:-1][indx_hor])\n",
    "    F_kk1 = F_fun(alpha[1:][indx_hor], beta[1:][indx_hor])\n",
    "    signal += 2*np.sum(F_kk - F_kk1)    \n",
    "    return signal\n",
    "\n",
    "def reconstruct_signal(signal, L_start, F_fun):\n",
    "    # define the starting line\n",
    "    L = L_start\n",
    "    signal_out = np.zeros(len(signal))\n",
    "    for i, x in enumerate(signal):\n",
    "        L = update_line(L, x)\n",
    "        signal_out[i] = get_signal_value(L, F_fun)\n",
    "    return signal_out\n"
   ]
  },
  {
   "cell_type": "markdown",
   "metadata": {},
   "source": [
    "### Generating the degauss L"
   ]
  },
  {
   "cell_type": "code",
   "execution_count": 343,
   "metadata": {},
   "outputs": [
    {
     "name": "stderr",
     "output_type": "stream",
     "text": [
      "C:\\Users\\3DStation4\\AppData\\Local\\Temp\\ipykernel_10716\\907630758.py:8: FutureWarning: The default of observed=False is deprecated and will be changed to True in a future version of pandas. Pass observed=False to retain current behavior or observed=True to adopt the future default and silence this warning.\n",
      "  degauss_signal = degauss_signal.groupby('bins').mean().reset_index().drop(labels=[0,'bins'], axis=1)\n"
     ]
    },
    {
     "name": "stdout",
     "output_type": "stream",
     "text": [
      "[0.019701008897639483, 0.04245014767235311, 0.060044467480675934]\n"
     ]
    }
   ],
   "source": [
    "#degauss_file = r'C:\\Users\\lukas\\OneDrive - University of Cambridge\\PhD\\3DMOKE\\Data\\MagnetCalibration\\degauss_signal.h5'\n",
    "degauss_file = r\"C:\\Users\\3DStation4\\PycharmProjects\\pythonProject_3DMOKE_new\\degauss_signal.h5\"\n",
    "\n",
    "with h5py.File(degauss_file, 'r') as f:\n",
    "    degauss_signal =  pd.DataFrame(f['degaussing/hallprobe/data'][:])\n",
    "    bins = np.arange(degauss_signal[0].iloc[0], degauss_signal[0].iloc[-1], 1/100)\n",
    "    degauss_signal['bins'] = pd.cut(degauss_signal[0], bins, right=False)\n",
    "    degauss_signal = degauss_signal.groupby('bins').mean().reset_index().drop(labels=[0,'bins'], axis=1)\n",
    "    degauss_signal.columns = ['hpA', 'hpB', 'hpC']\n",
    "\n",
    "degauss_l = []\n",
    "#start_l1 = []\n",
    "start_l = [np.array([[hp_minmax[pole][1], hp_minmax[pole][0]], [hp_minmax[pole][0], hp_minmax[pole][0]]]) for pole in poles]\n",
    "#start_l = start_l_best.copy()\n",
    "for pole in poles:\n",
    "#     x = hyst_all[pole][-1]['hp'+poles_dict[pole]].values\n",
    "#     y = hyst_all[pole][-1]['hx'+poles_dict[pole]].values\n",
    "#     mx, mn = np.max(x), np.min(x)\n",
    "#     L = (np.array([[mx, mn], [mn, mn]])).astype(np.float)\n",
    "#     start_l1.append(L)\n",
    "    dg_onepole = degauss_signal['hp{}'.format(poles_dict[pole])].values\n",
    "\n",
    "    L = start_l[pole].copy()\n",
    "    for x in dg_onepole:\n",
    "        L = update_line(L, x)\n",
    "    degauss_l.append(L.copy())\n",
    "\n",
    "# use the error in the degaussing as a displacement in the fit. \n",
    "#I believe that this is needed because of the wrong starting point choice\n",
    "fitting_displacements = []\n",
    "for pole in poles:\n",
    "     fitting_displacements.append(-get_signal_value(degauss_l[pole], F_functions[pole]))\n",
    "print(fitting_displacements)"
   ]
  },
  {
   "cell_type": "markdown",
   "metadata": {},
   "source": [
    "### Try to reconstruct the signal"
   ]
  },
  {
   "cell_type": "code",
   "execution_count": 344,
   "metadata": {},
   "outputs": [
    {
     "name": "stdout",
     "output_type": "stream",
     "text": [
      "0.019701008897639483\n",
      "0.007071182389827513\n",
      "0.008998664426048464\n"
     ]
    }
   ],
   "source": [
    "# optimise the start_l\n",
    "start_l = [np.array([[hp_minmax[pole][1], hp_minmax[pole][0]], [hp_minmax[pole][0], hp_minmax[pole][0]]]) \n",
    "          for pole in poles]\n",
    "start_l_best = start_l.copy()\n",
    "for pole in poles:\n",
    "    x = hyst_all[pole][-1]['hp'+poles_dict[pole]].values\n",
    "    y = hyst_all[pole][-1]['hx'+poles_dict[pole]].values\n",
    "#     stderr_min = 1000\n",
    "    dg_signal_min = 1000\n",
    "    for mx in np.linspace(-0.2, 0, 40):\n",
    "        for mn in np.linspace(-0.2, 0, 40):\n",
    "            start_l_pole =  start_l[pole].copy()\n",
    "            start_l_pole[0, 0] += mx\n",
    "            start_l_pole[0, 1] += mn\n",
    "            start_l_pole[-1, :] += mn\n",
    "#             y_pred = reconstruct_signal(x,start_l_pole.copy(), F_functions[pole])\n",
    "#             err = y - y_pred\n",
    "#             stderr = np.sqrt(np.mean(err**2))\n",
    "            degauss_l[pole][0, :] = start_l_pole[0, :]\n",
    "            degauss_l[pole][1, 1] = start_l_pole[1, 1]\n",
    "            dg_signal = np.abs(get_signal_value(degauss_l[pole], F_functions[pole]))\n",
    "            if dg_signal < dg_signal_min:\n",
    "                dg_signal_min = dg_signal\n",
    "                start_l_best[pole] = start_l_pole\n",
    "    print(dg_signal_min)"
   ]
  },
  {
   "cell_type": "code",
   "execution_count": 345,
   "metadata": {},
   "outputs": [
    {
     "data": {
      "text/plain": [
       "[array([[ 1.40903672e+00, -1.41653971e+00],\n",
       "        [ 1.03260273e+00, -1.41653971e+00],\n",
       "        [ 1.03260273e+00, -1.01523272e+00],\n",
       "        [ 1.00666327e+00, -1.01523272e+00],\n",
       "        [ 1.00666327e+00, -9.65415044e-01],\n",
       "        [ 8.89860037e-01, -9.65415044e-01],\n",
       "        [ 8.89860037e-01, -8.10471677e-01],\n",
       "        [ 7.50773184e-01, -8.10471677e-01],\n",
       "        [ 7.50773184e-01, -6.88145044e-01],\n",
       "        [ 6.46222970e-01, -6.88145044e-01],\n",
       "        [ 6.46222970e-01, -5.95693237e-01],\n",
       "        [ 5.58160261e-01, -5.95693237e-01],\n",
       "        [ 5.58160261e-01, -5.12318620e-01],\n",
       "        [ 4.84648640e-01, -5.12318620e-01],\n",
       "        [ 4.84648640e-01, -4.47558641e-01],\n",
       "        [ 4.05765012e-01, -4.47558641e-01],\n",
       "        [ 4.05765012e-01, -3.88979433e-01],\n",
       "        [ 3.66905109e-01, -3.88979433e-01],\n",
       "        [ 3.66905109e-01, -3.35509224e-01],\n",
       "        [ 2.99958895e-01, -3.35509224e-01],\n",
       "        [ 2.99958895e-01, -2.92559471e-01],\n",
       "        [ 2.65987710e-01, -2.92559471e-01],\n",
       "        [ 2.65987710e-01, -2.36446003e-01],\n",
       "        [ 2.22827569e-01, -2.36446003e-01],\n",
       "        [ 2.22827569e-01, -1.99344969e-01],\n",
       "        [ 1.92660181e-01, -1.99344969e-01],\n",
       "        [ 1.92660181e-01, -1.81864579e-01],\n",
       "        [ 1.60996917e-01, -1.81864579e-01],\n",
       "        [ 1.60996917e-01, -1.50128977e-01],\n",
       "        [ 1.29248173e-01, -1.50128977e-01],\n",
       "        [ 1.29248173e-01, -1.24475512e-01],\n",
       "        [ 1.12846134e-01, -1.24475512e-01],\n",
       "        [ 1.12846134e-01, -9.45349636e-02],\n",
       "        [ 8.19423122e-02, -9.45349636e-02],\n",
       "        [ 8.19423122e-02, -6.89702663e-02],\n",
       "        [ 6.18942793e-02, -6.89702663e-02],\n",
       "        [ 6.18942793e-02, -5.34361623e-02],\n",
       "        [ 4.98582267e-02, -5.34361623e-02],\n",
       "        [ 4.98582267e-02, -4.11666860e-02],\n",
       "        [ 3.48764477e-02, -4.11666860e-02],\n",
       "        [ 3.48764477e-02, -2.23087774e-02],\n",
       "        [ 1.95954933e-02, -2.23087774e-02],\n",
       "        [ 1.95954933e-02, -1.17620253e-02],\n",
       "        [ 7.18793674e-03, -1.17620253e-02],\n",
       "        [ 7.18793674e-03, -9.65412619e-04],\n",
       "        [ 1.78963043e-03, -9.65412619e-04],\n",
       "        [ 1.78963043e-03, -2.84870961e-04],\n",
       "        [ 1.65154952e-03, -2.84870961e-04],\n",
       "        [ 1.65154952e-03,  4.35122395e-04],\n",
       "        [ 8.13201093e-04,  4.35122395e-04],\n",
       "        [ 8.13201093e-04,  7.07996588e-04],\n",
       "        [ 7.44160638e-04,  7.07996588e-04],\n",
       "        [ 7.44160638e-04,  7.11284228e-04],\n",
       "        [ 7.11284228e-04,  7.11284228e-04]]),\n",
       " array([[ 1.64406071e+00, -1.64431384e+00],\n",
       "        [ 1.03318465e+00, -1.64431384e+00],\n",
       "        [ 1.03318465e+00, -1.01233301e+00],\n",
       "        [ 1.00343152e+00, -1.01233301e+00],\n",
       "        [ 1.00343152e+00, -9.60151525e-01],\n",
       "        [ 8.86496783e-01, -9.60151525e-01],\n",
       "        [ 8.86496783e-01, -8.04859669e-01],\n",
       "        [ 7.48458686e-01, -8.04859669e-01],\n",
       "        [ 7.48458686e-01, -6.82641530e-01],\n",
       "        [ 6.45854754e-01, -6.82641530e-01],\n",
       "        [ 6.45854754e-01, -5.93990238e-01],\n",
       "        [ 5.60165721e-01, -5.93990238e-01],\n",
       "        [ 5.60165721e-01, -5.10020558e-01],\n",
       "        [ 4.86499581e-01, -5.10020558e-01],\n",
       "        [ 4.86499581e-01, -4.49080819e-01],\n",
       "        [ 4.12876177e-01, -4.49080819e-01],\n",
       "        [ 4.12876177e-01, -3.90034766e-01],\n",
       "        [ 3.68147837e-01, -3.90034766e-01],\n",
       "        [ 3.68147837e-01, -3.38862619e-01],\n",
       "        [ 3.09430586e-01, -3.38862619e-01],\n",
       "        [ 3.09430586e-01, -2.97477783e-01],\n",
       "        [ 2.73421064e-01, -2.97477783e-01],\n",
       "        [ 2.73421064e-01, -2.43445392e-01],\n",
       "        [ 2.21795250e-01, -2.43445392e-01],\n",
       "        [ 2.21795250e-01, -2.07833659e-01],\n",
       "        [ 1.99067792e-01, -2.07833659e-01],\n",
       "        [ 1.99067792e-01, -1.87341790e-01],\n",
       "        [ 1.59566793e-01, -1.87341790e-01],\n",
       "        [ 1.59566793e-01, -1.57033024e-01],\n",
       "        [ 1.28064622e-01, -1.57033024e-01],\n",
       "        [ 1.28064622e-01, -1.27677675e-01],\n",
       "        [ 1.16291581e-01, -1.27677675e-01],\n",
       "        [ 1.16291581e-01, -1.01961745e-01],\n",
       "        [ 8.56146068e-02, -1.01961745e-01],\n",
       "        [ 8.56146068e-02, -7.46644607e-02],\n",
       "        [ 6.45079537e-02, -7.46644607e-02],\n",
       "        [ 6.45079537e-02, -5.82854328e-02],\n",
       "        [ 5.04763031e-02, -5.82854328e-02],\n",
       "        [ 5.04763031e-02, -4.47370642e-02],\n",
       "        [ 3.32030386e-02, -4.47370642e-02],\n",
       "        [ 3.32030386e-02, -2.43241013e-02],\n",
       "        [ 1.98782304e-02, -2.43241013e-02],\n",
       "        [ 1.98782304e-02, -1.24754434e-02],\n",
       "        [ 5.82356579e-03, -1.24754434e-02],\n",
       "        [ 5.82356579e-03, -2.31992066e-03],\n",
       "        [ 1.45810003e-04, -2.31992066e-03],\n",
       "        [ 1.45810003e-04, -1.05417892e-03],\n",
       "        [-3.80212538e-04, -1.05417892e-03],\n",
       "        [-3.80212538e-04, -1.04102836e-03],\n",
       "        [-4.42677714e-04, -1.04102836e-03],\n",
       "        [-4.42677714e-04, -9.16098001e-04],\n",
       "        [-4.49252997e-04, -9.16098001e-04],\n",
       "        [-4.49252997e-04, -4.75554124e-04],\n",
       "        [-4.75554124e-04, -4.75554124e-04]]),\n",
       " array([[ 1.55749390e+00, -1.54465213e+00],\n",
       "        [ 1.18769598e+00, -1.54465213e+00],\n",
       "        [ 1.18769598e+00, -1.19408825e+00],\n",
       "        [ 1.16620793e+00, -1.19408825e+00],\n",
       "        [ 1.16620793e+00, -1.14911664e+00],\n",
       "        [ 1.04380563e+00, -1.14911664e+00],\n",
       "        [ 1.04380563e+00, -9.73694826e-01],\n",
       "        [ 8.89158141e-01, -9.73694826e-01],\n",
       "        [ 8.89158141e-01, -8.32592656e-01],\n",
       "        [ 7.66963003e-01, -8.32592656e-01],\n",
       "        [ 7.66963003e-01, -7.29347639e-01],\n",
       "        [ 6.67469057e-01, -7.29347639e-01],\n",
       "        [ 6.67469057e-01, -6.28624236e-01],\n",
       "        [ 5.80744326e-01, -6.28624236e-01],\n",
       "        [ 5.80744326e-01, -5.56500003e-01],\n",
       "        [ 4.92589478e-01, -5.56500003e-01],\n",
       "        [ 4.92589478e-01, -4.85223977e-01],\n",
       "        [ 4.40565826e-01, -4.85223977e-01],\n",
       "        [ 4.40565826e-01, -4.21292535e-01],\n",
       "        [ 3.68237700e-01, -4.21292535e-01],\n",
       "        [ 3.68237700e-01, -3.73523128e-01],\n",
       "        [ 3.24528500e-01, -3.73523128e-01],\n",
       "        [ 3.24528500e-01, -3.03098591e-01],\n",
       "        [ 2.66031490e-01, -3.03098591e-01],\n",
       "        [ 2.66031490e-01, -2.60056807e-01],\n",
       "        [ 2.34036162e-01, -2.60056807e-01],\n",
       "        [ 2.34036162e-01, -2.37911263e-01],\n",
       "        [ 1.89436017e-01, -2.37911263e-01],\n",
       "        [ 1.89436017e-01, -1.99948880e-01],\n",
       "        [ 1.51292802e-01, -1.99948880e-01],\n",
       "        [ 1.51292802e-01, -1.66467550e-01],\n",
       "        [ 1.33697346e-01, -1.66467550e-01],\n",
       "        [ 1.33697346e-01, -1.31871710e-01],\n",
       "        [ 9.56461864e-02, -1.31871710e-01],\n",
       "        [ 9.56461864e-02, -9.67629961e-02],\n",
       "        [ 6.95784800e-02, -9.67629961e-02],\n",
       "        [ 6.95784800e-02, -7.84541255e-02],\n",
       "        [ 5.35545174e-02, -7.84541255e-02],\n",
       "        [ 5.35545174e-02, -6.23118097e-02],\n",
       "        [ 3.42363388e-02, -6.23118097e-02],\n",
       "        [ 3.42363388e-02, -3.73849176e-02],\n",
       "        [ 1.57893855e-02, -3.73849176e-02],\n",
       "        [ 1.57893855e-02, -2.40502466e-02],\n",
       "        [ 4.55828281e-04, -2.40502466e-02],\n",
       "        [ 4.55828281e-04, -1.10574900e-02],\n",
       "        [-7.70409636e-03, -1.10574900e-02],\n",
       "        [-7.70409636e-03, -9.20654823e-03],\n",
       "        [-7.81916379e-03, -9.20654823e-03],\n",
       "        [-7.81916379e-03, -8.37148745e-03],\n",
       "        [-8.37148745e-03, -8.37148745e-03]])]"
      ]
     },
     "execution_count": 345,
     "metadata": {},
     "output_type": "execute_result"
    }
   ],
   "source": [
    "degauss_l"
   ]
  },
  {
   "cell_type": "code",
   "execution_count": 346,
   "metadata": {},
   "outputs": [
    {
     "data": {
      "text/plain": [
       "[array([[ 1.40903672, -1.61653971],\n",
       "        [-1.61653971, -1.61653971]]),\n",
       " array([[ 1.6389325 , -1.84431384],\n",
       "        [-1.84431384, -1.84431384]]),\n",
       " array([[ 1.5523657 , -1.74465213],\n",
       "        [-1.74465213, -1.74465213]])]"
      ]
     },
     "execution_count": 346,
     "metadata": {},
     "output_type": "execute_result"
    }
   ],
   "source": [
    "start_l_best"
   ]
  },
  {
   "cell_type": "code",
   "execution_count": 347,
   "metadata": {},
   "outputs": [
    {
     "name": "stdout",
     "output_type": "stream",
     "text": [
      "-0.038618422587421285\n",
      "Maximum error: 0.16V\n",
      "Std error: 0.075V\n",
      "-0.07480038368101026\n",
      "Maximum error: 0.18V\n",
      "Std error: 0.089V\n",
      "-0.09820091357374015\n",
      "Maximum error: 0.22V\n",
      "Std error: 0.108V\n"
     ]
    }
   ],
   "source": [
    "import time\n",
    "pole = 0\n",
    "# fitting_displacements = []\n",
    "\n",
    "plt.close('all')\n",
    "fig = plt.figure(figsize=(18, 7))\n",
    "errcolor = 'tab:green'\n",
    "\n",
    "# start_l = [np.array([[hp_minmax[pole][1] - 0.02, hp_minmax[pole][0]], [hp_minmax[pole][0], hp_minmax[pole][0]]]) \n",
    "#           for pole in poles]\n",
    "for pole in poles:\n",
    "    x = hyst_all[pole][-1]['hp'+poles_dict[pole]].values\n",
    "    y = hyst_all[pole][-1]['hx'+poles_dict[pole]].values\n",
    "    y_pred = reconstruct_signal(x, start_l_best[pole].copy(), F_functions[pole]) + fitting_displacements[pole]\n",
    "\n",
    "    displacement = np.mean(y-y_pred)\n",
    "    print(displacement)\n",
    "\n",
    "    idx = np.ones(x.size).astype(bool)\n",
    "    \n",
    "    ax = fig.add_subplot(1, len(poles), 1+pole)\n",
    "    ax.plot(x[idx], y[idx], label='Data')\n",
    "    ax.plot(x[idx], y_pred[idx], label='Fit')\n",
    "    ax.set_ylabel('Applied signal [V]')\n",
    "    ax.set_xlabel('Measured field [V]')\n",
    "    ax.set_ylim([-15,15])\n",
    "    \n",
    "    # add the error plot on the other axes\n",
    "    ax2 = ax.twinx()\n",
    "    ax2.plot(x, y_pred - y, color=errcolor, alpha=0.8,  label='Error')\n",
    "    ax2.set_ylabel('Error [V]', color=errcolor)\n",
    "    ax2.set_ylim([-0.5, 0.5])\n",
    "    ax2.tick_params(axis='y', labelcolor=errcolor)\n",
    "    \n",
    "    # do the error analysis\n",
    "    err = np.abs((y_pred - y))\n",
    "    idx = np.argmax(err)\n",
    "    maxerr = err[idx]\n",
    "    maxrelerr = np.abs(np.max(np.abs(err/y)))\n",
    "    stderr = np.sqrt(np.mean(err**2))\n",
    "    s = 'Maximum error: {:.2f}V\\nStd error: {:.3f}V'.format(maxerr, stderr)\n",
    "    print(s)\n",
    "    plt.title('Pole {}\\n'.format(poles_dict[pole])+s)\n",
    "    \n",
    "    ax.legend()\n",
    "\n",
    "plt.tight_layout()\n",
    "plt.savefig(os.path.join(out_folder, 'Fitting hysteresis_optimizedstartl.png'.format(pole)))"
   ]
  },
  {
   "cell_type": "code",
   "execution_count": 348,
   "metadata": {},
   "outputs": [
    {
     "data": {
      "text/plain": [
       "[array([[ 1.40903672, -1.41653971],\n",
       "        [-1.41653971, -1.41653971]]),\n",
       " array([[ 1.64406071, -1.64431384],\n",
       "        [-1.64431384, -1.64431384]]),\n",
       " array([[ 1.5574939 , -1.54465213],\n",
       "        [-1.54465213, -1.54465213]])]"
      ]
     },
     "execution_count": 348,
     "metadata": {},
     "output_type": "execute_result"
    }
   ],
   "source": [
    "start_l"
   ]
  },
  {
   "cell_type": "markdown",
   "metadata": {},
   "source": [
    "### Compare to fitting without hysteresis"
   ]
  },
  {
   "cell_type": "code",
   "execution_count": 349,
   "metadata": {},
   "outputs": [],
   "source": [
    "# # import the hysteresis fits\n",
    "# with open('fields2current_coeff.p', 'rb') as f:\n",
    "#     h2i_coeff = pickle.load(f)\n",
    "# # define functions for going from fields to required current\n",
    "# i2h_functions = [np.poly1d(c) for c in h2i_coeff]\n",
    "# y_prednohyst = -i2h_functions[pole](x)\n",
    "# plt.close('all')\n",
    "# fig = plt.figure(figsize=(10, 10))\n",
    "# plt.plot(x, y, label='Data')\n",
    "# plt.plot(x, y_pred, label='Fit hysteresis')\n",
    "# plt.plot(x, y_prednohyst, label='Fit no hysteresis')\n",
    "# plt.plot(x, y-y_pred, label='Hysteresis fit error')\n",
    "# plt.plot(x, y-y_prednohyst, label='No hysteresis fit error')\n",
    "# plt.xlabel('Applied signal [V]')\n",
    "# plt.ylabel('Measured field [V]')\n",
    "# plt.legend()\n",
    "# plt.tight_layout()\n",
    "# # plt.savefig(os.path.join(out_folder, 'Fitting hysteresis.png'))"
   ]
  },
  {
   "cell_type": "markdown",
   "metadata": {},
   "source": [
    "## Save all the results"
   ]
  },
  {
   "cell_type": "code",
   "execution_count": 350,
   "metadata": {},
   "outputs": [
    {
     "name": "stdout",
     "output_type": "stream",
     "text": [
      "0.0\n",
      "0.0\n",
      "0.0\n"
     ]
    }
   ],
   "source": [
    "# check if everything makes sense\n",
    "for pole in poles:\n",
    "    print(get_signal_value(degauss_l[pole], F_functions[pole])+fitting_displacements[pole])"
   ]
  },
  {
   "cell_type": "code",
   "execution_count": 317,
   "metadata": {},
   "outputs": [
    {
     "name": "stdout",
     "output_type": "stream",
     "text": [
      "Saved\n"
     ]
    }
   ],
   "source": [
    "start_l = start_l_best\n",
    "\n",
    "hysteresis_fits = {'main_branch':main_branch_fits, \n",
    "                   'transition_branches':transition_fits,\n",
    "                  'start_l':start_l,\n",
    "                  'fitting_displacements':fitting_displacements,\n",
    "                  'degauss_l':degauss_l}\n",
    "with open('hysteresis_fits.p', 'wb') as f:\n",
    "    pickle.dump(hysteresis_fits, f)\n",
    "print('Saved')"
   ]
  },
  {
   "cell_type": "markdown",
   "metadata": {},
   "source": [
    "### Combine with RL parameters to have only one pickle file"
   ]
  },
  {
   "cell_type": "code",
   "execution_count": 318,
   "metadata": {},
   "outputs": [
    {
     "name": "stdout",
     "output_type": "stream",
     "text": [
      "[{'R': 2.2187304880211283, 'L': 0.15845467489203932}, {'R': 2.2100518797834403, 'L': 0.18295699563985293}, {'R': 2.3327243244900413, 'L': 0.1759026185972536}]\n",
      "saved\n"
     ]
    }
   ],
   "source": [
    "\n",
    "with open('rl_coeff.p', 'rb') as f:\n",
    "    rl_coeff = pickle.load(f)\n",
    "print(rl_coeff)\n",
    "magnet_calib = hysteresis_fits.copy()\n",
    "magnet_calib['R'] = [rl_coeff[pole]['R'] for pole in poles]\n",
    "magnet_calib['L'] = [rl_coeff[pole]['L'] for pole in poles]\n",
    "with open('magnet_calib.p', 'wb') as f:\n",
    "    pickle.dump(magnet_calib, f)\n",
    "print('saved')"
   ]
  },
  {
   "cell_type": "code",
   "execution_count": 319,
   "metadata": {},
   "outputs": [],
   "source": [
    "with open('magnet_calib.p', 'rb') as f:\n",
    "    hysteresis_fits = pickle.load(f)\n",
    "main_branch_fits = hysteresis_fits['main_branch']\n",
    "transition_fits = hysteresis_fits['transition_branches']\n",
    "start_l = hysteresis_fits['start_l']\n",
    "fitting_displacements = hysteresis_fits['fitting_displacements']\n",
    "degauss_l = hysteresis_fits['degauss_l']"
   ]
  },
  {
   "cell_type": "code",
   "execution_count": 320,
   "metadata": {},
   "outputs": [],
   "source": [
    "from numba import njit, jit\n",
    "@jit(forceobj=True)\n",
    "def jitted_mb(x):\n",
    "    return main_branch_fits[0](x)"
   ]
  },
  {
   "cell_type": "code",
   "execution_count": 321,
   "metadata": {},
   "outputs": [
    {
     "data": {
      "text/plain": [
       "array(3.6296876)"
      ]
     },
     "execution_count": 321,
     "metadata": {},
     "output_type": "execute_result"
    }
   ],
   "source": [
    "jitted_mb(1)"
   ]
  },
  {
   "cell_type": "code",
   "execution_count": 322,
   "metadata": {},
   "outputs": [
    {
     "name": "stdout",
     "output_type": "stream",
     "text": [
      "6.414353472849128\n",
      "6.414353472849128\n",
      "11.780371902548552\n",
      "-8.093372029174763\n"
     ]
    }
   ],
   "source": [
    "# define the triangle functions\n",
    "F_functions = [lambda a, b, f_a=f_a, f_ab=f_ab: (f_a.__call__(a) - f_ab.ev(a, b))/2 for f_a, f_ab in zip(main_branch_fits, transition_fits)]\n",
    "\n",
    "@jit(forceobj=True, fastmath=True)\n",
    "def jit_F_functions(a, b, pole):\n",
    "    return F_functions[pole](a, b)\n",
    "# check that it gives sensible results\n",
    "print(F_functions[0](1.8, 1.8))\n",
    "print(jit_F_functions(1.8, 1.8, 0))\n",
    "print(main_branch_fits[1].__call__(1.8))\n",
    "print(transition_fits[1].ev(1.8, -1.8))"
   ]
  },
  {
   "cell_type": "code",
   "execution_count": 323,
   "metadata": {},
   "outputs": [
    {
     "name": "stdout",
     "output_type": "stream",
     "text": [
      "0.28429579734802246\n",
      "0.3415796756744385\n"
     ]
    }
   ],
   "source": [
    "import time\n",
    "t0 = time.time()\n",
    "for i in range(50000):\n",
    "    F_functions[0](1.2, 0)\n",
    "print(time.time() - t0)\n",
    "t0 = time.time()\n",
    "for i in range(50000):\n",
    "    jit_F_functions(1.2, 0, 0)\n",
    "print(time.time() - t0)"
   ]
  },
  {
   "cell_type": "code",
   "execution_count": 324,
   "metadata": {},
   "outputs": [
    {
     "data": {
      "text/plain": [
       "92.22723746967593"
      ]
     },
     "execution_count": 324,
     "metadata": {},
     "output_type": "execute_result"
    }
   ],
   "source": [
    "pole = 0\n",
    "F_functions[pole](3, -3)"
   ]
  },
  {
   "cell_type": "code",
   "execution_count": 325,
   "metadata": {},
   "outputs": [],
   "source": [
    "with h5py.File('test.h5', 'w') as f:\n",
    "    f.create_dataset(\"name\", (100,), dtype=h5py.string_dtype())"
   ]
  },
  {
   "cell_type": "code",
   "execution_count": null,
   "metadata": {},
   "outputs": [],
   "source": []
  },
  {
   "cell_type": "code",
   "execution_count": null,
   "metadata": {},
   "outputs": [],
   "source": []
  }
 ],
 "metadata": {
  "kernelspec": {
   "display_name": "Python 3 (ipykernel)",
   "language": "python",
   "name": "python3"
  },
  "language_info": {
   "codemirror_mode": {
    "name": "ipython",
    "version": 3
   },
   "file_extension": ".py",
   "mimetype": "text/x-python",
   "name": "python",
   "nbconvert_exporter": "python",
   "pygments_lexer": "ipython3",
   "version": "3.10.11"
  }
 },
 "nbformat": 4,
 "nbformat_minor": 4
}
