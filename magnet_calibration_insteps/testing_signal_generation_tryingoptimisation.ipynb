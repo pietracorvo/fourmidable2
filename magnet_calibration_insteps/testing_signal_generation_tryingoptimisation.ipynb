{
 "cells": [
  {
   "cell_type": "code",
   "execution_count": 1,
   "metadata": {},
   "outputs": [],
   "source": [
    "import numpy as np\n",
    "import pandas as pd\n",
    "import matplotlib.pyplot as plt\n",
    "import h5py\n",
    "import os\n",
    "from scipy.stats import binned_statistic\n",
    "import concurrent\n",
    "import pickle\n",
    "\n",
    "from scipy.interpolate import splev\n",
    "from scipy.interpolate.dfitpack import bispeu\n",
    "from numba import jit\n",
    "\n",
    "import matplotlib\n",
    "font = {'size'   : 16}\n",
    "matplotlib.rc('font', **font)\n",
    "\n",
    "out_folder = 'results_forward'\n",
    "# import the parameters\n",
    "with open('rl_coeff.p', 'rb') as f:\n",
    "    rl_coeff = pickle.load(f)\n",
    "# import the hysteresis fits\n",
    "with open('hysteresis_fits.p', 'rb') as f:\n",
    "    hyst_fits = pickle.load(f)"
   ]
  },
  {
   "cell_type": "code",
   "execution_count": 153,
   "metadata": {},
   "outputs": [],
   "source": [
    "from numba import jit\n",
    "\n",
    "@jit(nopython=True)\n",
    "def update_hyst_line(L, x):\n",
    "    # first find out if we went up or down\n",
    "    if L[-1, 0] < x:\n",
    "        # we went up, get rid of the history of all elements that have alpha smaller than x\n",
    "        L[L[:, 0] < x, 0] = x\n",
    "        # add the newest element\n",
    "        L = np.vstack((L, np.array([[x, x]])))\n",
    "        # every other element needs to have a different alpha, otherwise need to get rid of it\n",
    "        keep = np.zeros(L.shape[0]).astype(np.bool_)\n",
    "        keep[0] = True\n",
    "        keep[-1] = True\n",
    "        for i in range(L.shape[0]-2):\n",
    "            if L[i, 0] != L[i+1, 0]:\n",
    "                keep[i] = True\n",
    "                keep[i+1] = True\n",
    "        L = L[keep, :]\n",
    "        return L\n",
    "    if L[-1, 0] > x:\n",
    "        # we went up, get rid of the history of all elements that have alpha smaller than x\n",
    "        L[L[:, 1] > x, 1] = x\n",
    "        # add the newest element\n",
    "        L = np.vstack((L, np.array([[x, x]])))\n",
    "        # every other element needs to have a different alpha, otherwise need to get rid of it\n",
    "        keep = np.zeros(L.shape[0]).astype(np.bool_)\n",
    "        keep[0] = True\n",
    "        keep[-1] = True\n",
    "        for i in range(L.shape[0]-2):\n",
    "            if L[i, 1] != L[i+1, 1]:\n",
    "                keep[i] = True\n",
    "                keep[i+1] = True\n",
    "        L = L[keep, :]\n",
    "        return L\n",
    "    return L    \n",
    "\n",
    "# @jit(nopython=False, forceobj=True)\n",
    "def F_fun(a, b, transition_coeff, main_coeff):\n",
    "    if a.size == 0:\n",
    "        return np.array([])\n",
    "    fa = splev(a, main_coeff)\n",
    "    tx, ty, c, kx, ky = transition_coeff[:]\n",
    "    fab = bispeu(tx,ty,c,kx,ky, a, b)[0]\n",
    "    return ((fa-fab)/2)[0]\n",
    "\n",
    "# @jit(nopython=False, forceobj=True)\n",
    "def get_hystline_signal(L,  transition_coeff, main_coeff):\n",
    "    \"\"\"Gets the value of the signal having the points of the Prezbiach line and the integral functions\"\"\"\n",
    "    # get alphas and betas\n",
    "    alpha, beta = L[:, 0], L[:, 1]\n",
    "    # get all the horisontal lines\n",
    "    indx_hor = (beta[1:] - beta[:-1]) != 0\n",
    "#     lenh = np.sum(indx_hor)\n",
    "#     print(lenh)\n",
    "    # calcluate the signal\n",
    "    signal = -F_fun(alpha[0], beta[0], transition_coeff, main_coeff)\n",
    "    F_kk = F_fun(alpha[:-1][indx_hor], beta[:-1][indx_hor], transition_coeff, main_coeff)\n",
    "    F_kk1 = F_fun(alpha[1:][indx_hor], beta[1:][indx_hor], transition_coeff, main_coeff)\n",
    "    signal += 2*np.sum(F_kk - F_kk1)    \n",
    "    return signal\n",
    "\n",
    "# @jit(nopython=False, forceobj=True)\n",
    "def reconstruct_hyst_signal(signal, L_start, transition_coeff, main_coeff):\n",
    "    # define the starting line\n",
    "    L = L_start\n",
    "    signal_out = np.zeros(len(signal))\n",
    "    for i, x in enumerate(signal):\n",
    "        L = update_hyst_line(L, x)\n",
    "        signal_out[i] = get_hystline_signal(L,  transition_coeff, main_coeff)\n",
    "    return signal_out, L"
   ]
  },
  {
   "cell_type": "code",
   "execution_count": 130,
   "metadata": {},
   "outputs": [],
   "source": [
    "start_l = hyst_fits['start_l'][0]"
   ]
  },
  {
   "cell_type": "code",
   "execution_count": 134,
   "metadata": {},
   "outputs": [
    {
     "data": {
      "text/plain": [
       "array(2.22222033)"
      ]
     },
     "execution_count": 134,
     "metadata": {},
     "output_type": "execute_result"
    }
   ],
   "source": [
    "splev(1, main_coeff)"
   ]
  },
  {
   "cell_type": "code",
   "execution_count": 132,
   "metadata": {},
   "outputs": [
    {
     "data": {
      "text/plain": [
       "(array([-1.83191151, -1.83191151, -1.83191151, -1.83191151, -1.75013625,\n",
       "        -1.55658608, -0.92511017,  0.74521151,  1.31441726,  1.52154396,\n",
       "         1.71850304,  1.82372269,  1.82372269,  1.82372269,  1.82372269]),\n",
       " array([-8.97987132, -8.22894316, -6.15894042, -2.58505552, -0.55807512,\n",
       "         0.94982595,  2.55514348,  4.36929163,  6.27038438,  8.18131403,\n",
       "         9.03270873,  0.        ,  0.        ,  0.        ,  0.        ]),\n",
       " 3)"
      ]
     },
     "execution_count": 132,
     "metadata": {},
     "output_type": "execute_result"
    }
   ],
   "source": [
    "main_coeff"
   ]
  },
  {
   "cell_type": "code",
   "execution_count": 156,
   "metadata": {},
   "outputs": [
    {
     "name": "stdout",
     "output_type": "stream",
     "text": [
      "0.10374021530151367\n"
     ]
    }
   ],
   "source": [
    "import time\n",
    "signal = hp_signal[:, 1]\n",
    "signal_short = signal[::10]\n",
    "t0 = time.time()\n",
    "reconstruct_hyst_signal(signal_short, start_l, transition_coeff, main_coeff)\n",
    "print(time.time() - t0)"
   ]
  },
  {
   "cell_type": "code",
   "execution_count": 113,
   "metadata": {},
   "outputs": [
    {
     "data": {
      "text/plain": [
       "-136.86927540623222"
      ]
     },
     "execution_count": 113,
     "metadata": {},
     "output_type": "execute_result"
    }
   ],
   "source": [
    "F_fun(-1, 1, transition_coeff, main_coeff)"
   ]
  },
  {
   "cell_type": "code",
   "execution_count": 104,
   "metadata": {},
   "outputs": [
    {
     "data": {
      "text/plain": [
       "-136.86927540623222"
      ]
     },
     "execution_count": 104,
     "metadata": {},
     "output_type": "execute_result"
    }
   ],
   "source": [
    "F_functions[0](-1, 1)"
   ]
  },
  {
   "cell_type": "code",
   "execution_count": 100,
   "metadata": {},
   "outputs": [],
   "source": [
    "\n",
    "tx,ty,c = transition_fits[0].tck[:3]\n",
    "kx,ky = transition_fits[0].degrees\n",
    "transition_coeff = [tx, ty, c, kx, ky]\n",
    "main_coeff =  main_branch_fits[0]._eval_args\n",
    "# bispeu(tx,ty,c,kx,ky,-1, 1)[0]"
   ]
  },
  {
   "cell_type": "code",
   "execution_count": 95,
   "metadata": {},
   "outputs": [
    {
     "data": {
      "text/plain": [
       "array([[272.11753959]])"
      ]
     },
     "execution_count": 95,
     "metadata": {},
     "output_type": "execute_result"
    }
   ],
   "source": [
    "transition_fits[0](-1, 1)"
   ]
  },
  {
   "cell_type": "code",
   "execution_count": 91,
   "metadata": {},
   "outputs": [
    {
     "data": {
      "text/plain": [
       "array(2.22222033)"
      ]
     },
     "execution_count": 91,
     "metadata": {},
     "output_type": "execute_result"
    }
   ],
   "source": [
    "args = main_branch_fits[0]._eval_args\n",
    "\n",
    "\n",
    "splev(1, args)\n"
   ]
  },
  {
   "cell_type": "code",
   "execution_count": 73,
   "metadata": {},
   "outputs": [],
   "source": [
    "def filter_signal(t, signal, bin_step=100):\n",
    "    # to speed up, filter the high frequency stuff\n",
    "    signal_bin = binned_statistic(t, [t, signal], bins=int(len(t)/bin_step), statistic='mean').statistic\n",
    "    return signal_bin[0, :], signal_bin[1, :]\n",
    "\n",
    "class SignalReconstructor:\n",
    "    def __init__(self, rl_coeff, hyst_fits, cutoff_freq=100):\n",
    "        self.main_branch_fits = hyst_fits['main_branch']\n",
    "        self.transition_fits = hyst_fits['transition_branches']\n",
    "        # create F_functions\n",
    "        self.F_functions = [lambda a, b, f_a=f_a, f_ab=f_ab: (f_a.__call__(a) - f_ab.ev(a, b))/2 \n",
    "                            for f_a, f_ab in zip(main_branch_fits, transition_fits)]\n",
    "        \n",
    "        self.poles = [0, 1, 2]\n",
    "        self.R = [rl_coeff[pole]['R'] for pole in self.poles]\n",
    "        self.L = [rl_coeff[pole]['L'] for pole in self.poles]\n",
    "        self.degauss_l = hyst_fits['degauss_l']\n",
    "        self.start_l = hyst_fits['start_l']\n",
    "        self.cutoff_freq = cutoff_freq\n",
    "        self.fitting_displacements = hyst_fits['fitting_displacements']\n",
    "        self.pole_mxmn = [self.start_l[pole][0, :] for pole in self.poles]\n",
    "\n",
    "    def get_required_input_pole(self, pole_signal, pole):\n",
    "        \"\"\"Gets the required hex signal given the measured/desired hp signal for a given pole. \n",
    "        hp_signal is expected to be nx2 array with first column being time.\n",
    "        Returns the hx_signal\"\"\"\n",
    "        assert pole_signal.shape[1] == 2\n",
    "        \n",
    "        # get the pole parameters\n",
    "        R = self.R[pole]\n",
    "        L = self.L[pole]\n",
    "        F_fun = self.F_functions[pole]\n",
    "        start_l = self.degauss_l[pole].copy()\n",
    "        ds = self.fitting_displacements[pole]\n",
    "\n",
    "        t0 = pole_signal[:, 0] \n",
    "        # need to add minus because of how the calibration was done\n",
    "        signal0 = -pole_signal[:, 1]\n",
    "        # to speed up, filter the high frequency stuff\n",
    "        t, signal = filter_signal(t0, signal0)\n",
    "        timestep = t[1] - t[0]\n",
    "\n",
    "        # first invert the hysteresis. Do it twice because we are having a repetative signal\n",
    "        signal_nohyst, hyst_line = reconstruct_hyst_signal(signal, start_l, F_fun)\n",
    "        signal_nohyst, hyst_line = reconstruct_hyst_signal(signal, hyst_line, F_fun)\n",
    "        # TODO: need to fix this, but there is a 0.1 offset with respect to the hysteresis. \n",
    "        #It probably has to do with the magnet saturation\n",
    "        signal_nohyst += ds\n",
    "\n",
    "        ## now adjust for the RL response\n",
    "        # do fft on the signal and extract the frequencies\n",
    "        n = signal_nohyst.shape[0]\n",
    "        fft = np.fft.rfft(signal_nohyst, norm='ortho')\n",
    "        freq = np.fft.rfftfreq(n, d=timestep)\n",
    "        # get the impedence\n",
    "        Z = R + 1j*2*np.pi*freq*L\n",
    "\n",
    "        # kill all of the ampilitudes of signals higher than 200Hz\n",
    "        fft[freq>100] = 0\n",
    "        # get fft of voltage\n",
    "        fft_v = fft*Z\n",
    "        # invert fft, need to divide by 2 because when ni is applying 1V, the output is actually 2V\n",
    "        v_pred = np.fft.irfft(fft_v, n=n, norm='ortho')\n",
    "        v_pred /= 2\n",
    "\n",
    "        # interpolate back to the original shape\n",
    "        v_out = np.interp(t0, t, v_pred)\n",
    "        return v_out\n",
    "\n",
    "    def get_required_input(self, fields):\n",
    "        \"\"\"Gets the required hex signal given the measured/desired fields signal for a given pole. \n",
    "        fields is expected to be nx4 array with first column being time, and the other 3 being\n",
    "        the desired signal for the given time\n",
    "        Returns the hx_signal in the same shape.\"\"\"\n",
    "\n",
    "        out_signal = fields.copy()\n",
    "        for pole in self.poles:\n",
    "            out_signal[:, pole+1] = self.get_required_input_pole(hp_signal[:, [0, pole+1]], pole)\n",
    "        return out_signal\n",
    "    \n",
    "    \n",
    "    \n",
    "signal_reconstructor = SignalReconstructor(rl_coeff, hyst_fits)"
   ]
  },
  {
   "cell_type": "markdown",
   "metadata": {},
   "source": [
    "### Import and plot the test signal"
   ]
  },
  {
   "cell_type": "code",
   "execution_count": 72,
   "metadata": {},
   "outputs": [
    {
     "name": "stdout",
     "output_type": "stream",
     "text": [
      "-0.006091915421177933\n",
      "0.0016998966226488405\n",
      "-0.0020058028442331076\n"
     ]
    },
    {
     "data": {
      "image/png": "[encoded data removed]",
      "text/plain": [
       "<Figure size 432x288 with 1 Axes>"
      ]
     },
     "metadata": {
      "needs_background": "light"
     },
     "output_type": "display_data"
    }
   ],
   "source": [
    "# get the test signal\n",
    "pole = 2\n",
    "poles = [0, 1, 2]\n",
    "poles_dict = {0:'A', 1:'B', 2:'C'}\n",
    "test_file_path = r\"C:\\Users\\lukas\\OneDrive - University of Cambridge\\PhD\\3DMOKE\\Data\\MagnetCalibration\\magnet_response_complete.h5\"\n",
    "test_num=100\n",
    "for pole in poles:\n",
    "    with h5py.File(test_file_path, 'r') as f:\n",
    "    #     print([f['test_response'].keys()])\n",
    "        hp_signal = f['frequency_response/pole{}/loops{}/data3/hallprobe/data'.format(pole, test_num)][:]\n",
    "    #     hp_signal = f['test_response/test{}/hallprobe/data'.format(test_num)][:]\n",
    "        hp_signal[:, 0] -= hp_signal[0, 0]\n",
    "        hx_signal = f['frequency_response/pole{}/loops{}/data3/hexapole/data'.format(pole, test_num)][:]\n",
    "    #     hx_signal = f['test_response/test{}/hexapole/data'.format(test_num)][:]\n",
    "        hx_signal[:, 0] -= hx_signal[0, 0]\n",
    "\n",
    "    # fig = plt.figure(figsize=(12, 12))\n",
    "    # for pl in poles:\n",
    "    #     plt.subplot(3, 2, 2*pl+1)\n",
    "    #     plt.plot(hx_signal[:, 0], hx_signal[:, pl+1])\n",
    "    #     plt.xlabel('t [s]')\n",
    "    #     plt.ylabel('Measurement [V]')\n",
    "    #     plt.title('Hexapole signal pole {}'.format(poles_dict[pl]))\n",
    "\n",
    "    #     plt.subplot(3, 2, 2*pl+2)\n",
    "    #     plt.title('Hallprobe response pole {}'.format(poles_dict[pl]))\n",
    "    #     plt.plot(hp_signal[:, 0], hp_signal[:, pl+1])\n",
    "    #     plt.xlabel('t [s]')\n",
    "    #     plt.ylabel('Measurement [V]')\n",
    "\n",
    "    # plt.tight_layout()\n",
    "\n",
    "    ### \n",
    "\n",
    "    hx_pred = signal_reconstructor.get_required_input(hp_signal)\n",
    "\n",
    "    plt.close('all')\n",
    "    plt.plot(hx_signal[:, 0], hx_signal[:, pole+1], label='Data')\n",
    "    plt.plot(hx_pred[:,0], hx_pred[:, pole+1], label='Prediction')\n",
    "    plt.legend(loc='lower left')\n",
    "    plt.xlabel('t [s]')\n",
    "    plt.ylabel('Applied voltage [V]')\n",
    "\n",
    "    plt.title('Sin signal calibration. Pole {}'.format(pole))\n",
    "    plt.tight_layout()\n",
    "    plt.savefig(os.path.join(out_folder, 'Fitting sin signal pole{}_{}.png'.format(pole, test_num)))\n",
    "\n",
    "    print(np.mean((hx_pred - hx_signal)[:, pole+1]))"
   ]
  },
  {
   "cell_type": "code",
   "execution_count": 66,
   "metadata": {},
   "outputs": [
    {
     "data": {
      "text/plain": [
       "[0.2021, 0.2047, 0.1966]"
      ]
     },
     "execution_count": 66,
     "metadata": {},
     "output_type": "execute_result"
    }
   ],
   "source": [
    "signal_reconstructor.L"
   ]
  },
  {
   "cell_type": "code",
   "execution_count": 63,
   "metadata": {},
   "outputs": [
    {
     "data": {
      "text/plain": [
       "-0.07176354657800665"
      ]
     },
     "execution_count": 63,
     "metadata": {},
     "output_type": "execute_result"
    }
   ],
   "source": [
    "get_hystline_signal(signal_reconstructor.degauss_l[0], signal_reconstructor.F_functions[0])"
   ]
  },
  {
   "cell_type": "markdown",
   "metadata": {},
   "source": [
    "### Try a random signal"
   ]
  },
  {
   "cell_type": "code",
   "execution_count": null,
   "metadata": {},
   "outputs": [],
   "source": [
    "# get the test signal\n",
    "poles = [0, 1, 2]\n",
    "poles_dict = {0:'A', 1:'B', 2:'C'}\n",
    "test_file_path = r\"C:\\Users\\lukas\\OneDrive - University of Cambridge\\PhD\\3DMOKE\\Data\\MagnetCalibration\\magnet_response_complete.h5\"\n",
    "test_num=1\n",
    "with h5py.File(test_file_path, 'r') as f:\n",
    "#     print([f.keys()])\n",
    "    hp_signal = f['test_response/test{}/hallprobe/data'.format(test_num)][:]\n",
    "    hx_signal = f['test_response/test{}/hexapole/data'.format(test_num)][:]\n",
    "    hp_signal[:, 0] -= hp_signal[0, 0]\n",
    "    hx_signal[:, 0] -= hx_signal[0, 0]\n",
    "    \n",
    "\n",
    "fig = plt.figure(figsize=(12, 12))\n",
    "for pole in poles:\n",
    "    plt.subplot(3, 2, 2*pole+1)\n",
    "    plt.plot(hx_signal[:, 0], hx_signal[:, pole+1])\n",
    "    plt.xlabel('t [s]')\n",
    "    plt.ylabel('Measurement [V]')\n",
    "    plt.title('Hexapole signal pole {}'.format(poles_dict[pole]))\n",
    "\n",
    "    plt.subplot(3, 2, 2*pole+2)\n",
    "    plt.title('Hallprobe response pole {}'.format(poles_dict[pole]))\n",
    "    plt.plot(hp_signal[:, 0], hp_signal[:, pole+1])\n",
    "    plt.xlabel('t [s]')\n",
    "    plt.ylabel('Measurement [V]')\n",
    "\n",
    "plt.tight_layout()"
   ]
  },
  {
   "cell_type": "code",
   "execution_count": null,
   "metadata": {},
   "outputs": [],
   "source": [
    "# hx_pred = get_required_input(hp_signal, rl_coeff, F_functions, dgL)\n",
    "t_fltr, hx_fltr = filter_signal(hx_signal[:,0], hx_signal[:,1])\n",
    "plt.plot(t_fltr, hx_fltr, label='Data')\n",
    "plt.plot(hx_pred[:,0], hx_pred[:, 1], label='Prediction')\n",
    "plt.xlim([5, 6])\n",
    "plt.legend(loc='lower left')\n",
    "plt.xlabel('t [s]')\n",
    "plt.ylabel('Applied voltage [V]')\n",
    "\n",
    "plt.title('Random signal calibration')\n",
    "# plt.savefig(os.path.join(out_folder, 'Fitting random signal.png'))"
   ]
  },
  {
   "cell_type": "code",
   "execution_count": null,
   "metadata": {},
   "outputs": [],
   "source": []
  }
 ],
 "metadata": {
  "kernelspec": {
   "display_name": "Python 3",
   "language": "python",
   "name": "python3"
  },
  "language_info": {
   "codemirror_mode": {
    "name": "ipython",
    "version": 3
   },
   "file_extension": ".py",
   "mimetype": "text/x-python",
   "name": "python",
   "nbconvert_exporter": "python",
   "pygments_lexer": "ipython3",
   "version": "3.8.0"
  }
 },
 "nbformat": 4,
 "nbformat_minor": 4
}
