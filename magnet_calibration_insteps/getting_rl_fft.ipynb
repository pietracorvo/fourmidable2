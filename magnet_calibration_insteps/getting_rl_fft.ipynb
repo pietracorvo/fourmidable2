{
 "cells": [
  {
   "cell_type": "code",
   "execution_count": 1,
   "metadata": {},
   "outputs": [],
   "source": [
    "%matplotlib qt\n",
    "import numpy as np\n",
    "import pandas as pd\n",
    "import matplotlib.pyplot as plt\n",
    "import h5py\n",
    "import os\n",
    "from scipy.stats import binned_statistic\n",
    "from scipy.optimize import curve_fit\n",
    "import concurrent\n",
    "import pickle\n",
    "\n",
    "import matplotlib\n",
    "font = {'size'   : 16}\n",
    "matplotlib.rc('font', **font)"
   ]
  },
  {
   "cell_type": "markdown",
   "metadata": {},
   "source": [
    "### Get the file path"
   ]
  },
  {
   "cell_type": "code",
   "execution_count": 2,
   "metadata": {},
   "outputs": [
    {
     "name": "stdout",
     "output_type": "stream",
     "text": [
      "True\n"
     ]
    }
   ],
   "source": [
    "pole = 2\n",
    "file_path = r\"C:\\Users\\lukas\\OneDrive - University of Cambridge\\PhD\\3DMOKE\\Data\\MagnetCalibration\\rl_response_data_pole{}.h5\".format(pole)\n",
    "print(os.path.isfile(file_path))\n",
    "out_folder = 'results'\n",
    "try:\n",
    "    os.stat(out_folder)\n",
    "except:\n",
    "    os.mkdir(out_folder) \n",
    "poles = [0, 1, 2]\n",
    "poles_dict = {0:'A', 1:'B', 2:'C'}"
   ]
  },
  {
   "cell_type": "markdown",
   "metadata": {},
   "source": [
    "### Get the real resistance"
   ]
  },
  {
   "cell_type": "code",
   "execution_count": 3,
   "metadata": {},
   "outputs": [
    {
     "name": "stdout",
     "output_type": "stream",
     "text": [
      "Resistance R:2.1185\n",
      "Error Rerr:0.001202298743240538\n",
      "Resistance R:2.1088\n",
      "Error Rerr:0.0013526488811633503\n",
      "Resistance R:2.0759\n",
      "Error Rerr:0.001395405336721251\n"
     ]
    }
   ],
   "source": [
    "from scipy.optimize import curve_fit\n",
    "\n",
    "plt.close('all')\n",
    "fig = plt.figure(figsize=(20, 5))\n",
    "R_poles = np.zeros(3)\n",
    "for pole in poles:\n",
    "    file_path = r\"C:\\Users\\lukas\\OneDrive - University of Cambridge\\PhD\\3DMOKE\\Data\\MagnetCalibration\\rl_response_data_pole{}.h5\".format(pole)\n",
    "    with h5py.File(file_path, 'r') as f:\n",
    "        const_keys = list(f['dc_response'].keys())\n",
    "        I = np.zeros(len(const_keys))\n",
    "        V = np.zeros(len(const_keys))\n",
    "        for i, c in enumerate(const_keys):\n",
    "            hx = f['dc_response/'+c+'/hexapole/data'][:]\n",
    "            v = f['dc_response/'+c+'/v_measurement/data'][:]\n",
    "            I[i] = np.mean(hx[:, pole+1])\n",
    "            V[i] = -np.mean(v[:, 1])\n",
    "            \n",
    "    plt.subplot(1, len(poles), pole+1)\n",
    "    plt.scatter(V, I, label='Data')   \n",
    "    plt.xlabel('Voltage [V]')\n",
    "    plt.ylabel('Current [A]')\n",
    "    \n",
    "    \n",
    "    f = lambda x, a: a*x\n",
    "    R, Rerr = curve_fit(f, I, V)\n",
    "    R = R[0]\n",
    "    Rerr = np.sqrt(np.diag(Rerr))[0]\n",
    "    print('Resistance R:{:.4f}'.format(R))\n",
    "    R_poles[pole] = R\n",
    "    \n",
    "    print('Error Rerr:{:}'.format(Rerr))\n",
    "    x = np.linspace(0, np.max(V), 100)\n",
    "    plt.plot(x, x/R, color='r', label='Ohms law fit')\n",
    "    \n",
    "    plt.legend()\n",
    "    plt.title('Resistance {}: {:.3f} \\u00B1 {:.3f} \\u03A9'.format(poles_dict[pole], R, Rerr))\n",
    "\n",
    "plt.tight_layout()\n",
    "plt.savefig(os.path.join(out_folder, 'RL response pole.png'))\n"
   ]
  },
  {
   "cell_type": "markdown",
   "metadata": {},
   "source": [
    "### Getting the frequency response"
   ]
  },
  {
   "cell_type": "code",
   "execution_count": 133,
   "metadata": {},
   "outputs": [],
   "source": [
    "def extract_max_amp(data, timestep=1/10000, cutoff_freq=50):\n",
    "    \"\"\"Extracts the frequency from the loops experiment given the instrument group.\n",
    "        Returns an array frequency, max amp, phase\n",
    "    \"\"\"\n",
    "    \n",
    "    # extract fft\n",
    "    n = data.shape[0]\n",
    "    fft = np.fft.rfft(data, axis=0)\n",
    "    freq = np.fft.rfftfreq(n, d=timestep)\n",
    "    fft_amp = np.absolute(fft)\n",
    "    \n",
    "    fft[freq>cutoff_freq] = 0\n",
    "    data_clean = np.fft.irfft(fft, axis=0, n=n)\n",
    "    \n",
    "    # get the maximum amplitude\n",
    "    indx = np.unravel_index(np.argmax(fft_amp, axis=None), fft_amp.shape)\n",
    "    return freq[indx[0]], (np.max(data_clean) - np.min(data_clean))/2\n",
    "\n",
    "def extract_loop_data(grp, instrument):\n",
    "    data = np.vstack([grp[key][instrument]['data'][:] for key in grp.keys()])\n",
    "    return data\n",
    "\n",
    "\n",
    "def get_frequency_data(file_path, pole='0'):\n",
    "    \"\"\"Gets the fourier data from the frequency response experiment for the given pole of the magnet given the file path\"\"\"\n",
    "    instruments=['v_measurement', 'hexapole']\n",
    "    data = {key:[] for key in instruments}\n",
    "    with h5py.File(file_path, 'r') as f:\n",
    "        grp_loops = f['frequency_response/pole'+pole]\n",
    "        n_loops = len(grp_loops.keys())\n",
    "        for i, loops in enumerate(grp_loops.keys()):\n",
    "            for inst in instruments:\n",
    "                # get the data for the instrument\n",
    "                loop_data = extract_loop_data(grp_loops[loops], inst)\n",
    "                freq, max_amp = extract_max_amp(loop_data[:, 1:])\n",
    "                period = grp_loops[loops].attrs['period']\n",
    "#                 freq = 1/period\n",
    "                data[inst].append(np.array([freq, max_amp]))\n",
    "    for inst in data:\n",
    "        data[inst] = np.vstack(data[inst])\n",
    "    \n",
    "    return data\n",
    "\n",
    "def format_freq_data(freq_data):\n",
    "    \"\"\"Formats the data and gets rid of the non matching data\"\"\"\n",
    "    data_out = pd.DataFrame(np.hstack((freq_data['hexapole'], freq_data['v_measurement'])), \n",
    "                            columns=['i_freq', 'i_amp', 'v_freq', 'v_amp'])\n",
    "    # make sure that all of the data matches (i.e. hallprobe and hexapole frequencies corresponse)\n",
    "    freq_delta = np.abs(data_out['i_freq'] - data_out['v_freq'])\n",
    "    print('There are {} data points where frequencies do not match.'.format(np.sum(freq_delta>=1/100)))\n",
    "    data_out = data_out.loc[freq_delta<1/100, :]\n",
    "    # drop one of the frequencies and calculate the phase delta\n",
    "    data_out.drop(columns='v_freq', inplace=True)\n",
    "    data_out.rename(columns={'i_freq':'freq'}, inplace=True)\n",
    "    return data_out\n",
    "\n",
    "def get_formatted_data(file_path, pole):\n",
    "    data = get_frequency_data(file_path, pole=str(pole))\n",
    "    return format_freq_data(data)"
   ]
  },
  {
   "cell_type": "markdown",
   "metadata": {},
   "source": [
    "### Check the data extraction"
   ]
  },
  {
   "cell_type": "code",
   "execution_count": 134,
   "metadata": {},
   "outputs": [],
   "source": [
    "pole = 0\n",
    "loops = 10\n",
    "file_path = r\"C:\\Users\\lukas\\OneDrive - University of Cambridge\\PhD\\3DMOKE\\Data\\MagnetCalibration\\rl_response_data_pole{}.h5\".format(pole)\n",
    "\n",
    "with h5py.File(file_path, 'r') as f:\n",
    "    instruments=['v_measurement', 'hexapole']\n",
    "    data = {key:[] for key in instruments}\n",
    "    loop_data = {key:[] for key in instruments}\n",
    "    grp_loops = f['frequency_response/pole'+str(pole)]\n",
    "    n_loops = len(grp_loops.keys())\n",
    "    grp_loops = list(grp_loops.values())\n",
    "#     for i, loops in enumerate(grp_loops.keys()):\n",
    "    for inst in instruments:\n",
    "        # get the data for the instrument\n",
    "        loop_data[inst] = extract_loop_data(grp_loops[loops], inst)\n",
    "        freq, max_amp = extract_max_amp(loop_data[inst][:, 1:])\n",
    "        period = grp_loops[loops].attrs['period']\n",
    "#                 freq = 1/period\n",
    "        data[inst].append(np.array([freq, max_amp]))\n",
    "    for inst in data:\n",
    "        data[inst] = np.vstack(data[inst])\n",
    "    "
   ]
  },
  {
   "cell_type": "code",
   "execution_count": 135,
   "metadata": {},
   "outputs": [
    {
     "data": {
      "text/plain": [
       "{'v_measurement': array([[0.43333189, 5.80528193]]),\n",
       " 'hexapole': array([[0.43333189, 2.67777785]])}"
      ]
     },
     "execution_count": 135,
     "metadata": {},
     "output_type": "execute_result"
    }
   ],
   "source": [
    "data"
   ]
  },
  {
   "cell_type": "code",
   "execution_count": 94,
   "metadata": {},
   "outputs": [],
   "source": [
    "plt.close('all')\n",
    "plt.figure()\n",
    "for inst in instruments:\n",
    "    t = loop_data[inst][:, 0]\n",
    "    t -= t[0]\n",
    "    plt.plot(t, loop_data[inst][:, pole+1], label=inst)\n",
    "    plt.scatter(np.hstack([t, t]), data[inst][0, 1]*np.hstack([1+0*t, -1+0*t]), label=inst+'_amplitude')\n",
    "    \n",
    "plt.legend(loc='upper left')\n",
    "plt.xlabel('t [s]')\n",
    "plt.ylabel('signal [V]')\n",
    "plt.tight_layout()"
   ]
  },
  {
   "cell_type": "code",
   "execution_count": 24,
   "metadata": {},
   "outputs": [
    {
     "data": {
      "text/plain": [
       "{'v_measurement': array([[0.43333189, 5.97553272, 1.77789166]]),\n",
       " 'hexapole': array([[ 0.43333189,  2.67777331, -1.57078586]])}"
      ]
     },
     "execution_count": 24,
     "metadata": {},
     "output_type": "execute_result"
    }
   ],
   "source": [
    "data"
   ]
  },
  {
   "cell_type": "code",
   "execution_count": 123,
   "metadata": {},
   "outputs": [
    {
     "name": "stdout",
     "output_type": "stream",
     "text": [
      "0.4333318890024789\n",
      "[ 0.43333189  2.67777331 -1.57078586]\n"
     ]
    }
   ],
   "source": [
    "vdata = loop_data['hexapole'][:, 1:]\n",
    "timestep = t[1] - t[0]\n",
    "# extract fft\n",
    "n = vdata.shape[0]\n",
    "fft = np.fft.rfft(vdata, axis=0) / (n / 2)\n",
    "fft_phase = np.angle(fft)\n",
    "fft_amp = np.absolute(fft)\n",
    "freq = np.fft.rfftfreq(n, d=timestep)\n",
    "\n",
    "# get the maximum amplitude\n",
    "indx = np.unravel_index(np.argmax(fft_amp, axis=None), fft_amp.shape)\n",
    "print(freq[indx[0]])\n",
    "\n",
    "fft[freq>10, :] = 0\n",
    "vdata_clean = np.fft.irfft(fft, n=n, axis=0) * (n / 2)\n",
    "\n",
    "# get the maximum amplitude\n",
    "indx = np.unravel_index(np.argmax(fft_amp, axis=None), fft_amp.shape)\n",
    "print(np.array([freq[indx[0]], fft_amp[indx], fft_phase[indx]]))"
   ]
  },
  {
   "cell_type": "code",
   "execution_count": 51,
   "metadata": {},
   "outputs": [
    {
     "data": {
      "text/plain": [
       "[<matplotlib.lines.Line2D at 0x1dbb7490>]"
      ]
     },
     "execution_count": 51,
     "metadata": {},
     "output_type": "execute_result"
    }
   ],
   "source": [
    "plt.plot(t, vdata)\n",
    "plt.plot(t, vdata_clean[:])"
   ]
  },
  {
   "cell_type": "markdown",
   "metadata": {},
   "source": [
    "### Run the extraction using the fft"
   ]
  },
  {
   "cell_type": "code",
   "execution_count": 141,
   "metadata": {},
   "outputs": [
    {
     "data": {
      "text/plain": [
       "array([0.1  , 0.475, 0.85 , 1.225, 1.6  , 1.975, 2.35 , 2.725, 3.1  ])"
      ]
     },
     "execution_count": 141,
     "metadata": {},
     "output_type": "execute_result"
    }
   ],
   "source": [
    "frequency = 0.1 + 3 * np.linspace(0, 1, 9)\n",
    "frequency"
   ]
  },
  {
   "cell_type": "code",
   "execution_count": 136,
   "metadata": {},
   "outputs": [
    {
     "name": "stdout",
     "output_type": "stream",
     "text": [
      "There are 0 data points where frequencies do not match.\n",
      "There are 0 data points where frequencies do not match.\n",
      "There are 0 data points where frequencies do not match.\n",
      "Done!\n"
     ]
    }
   ],
   "source": [
    "freq_data = [None]*3\n",
    "def get_file_path(pole):\n",
    "    return r\"C:\\Users\\lukas\\OneDrive - University of Cambridge\\PhD\\3DMOKE\\Data\\MagnetCalibration\\rl_response_data_pole{}.h5\".format(pole)\n",
    "\n",
    "with concurrent.futures.ThreadPoolExecutor() as executor:\n",
    "    get_data_proxy = lambda p: get_formatted_data(get_file_path(p), p)\n",
    "    for pole, result in zip(poles, executor.map(get_data_proxy, poles)):\n",
    "        freq_data[pole] = result\n",
    "\n",
    "print('Done!')\n",
    "# freq_data = get_formatted_data(file_path, pole)"
   ]
  },
  {
   "cell_type": "markdown",
   "metadata": {},
   "source": [
    "### Save the result"
   ]
  },
  {
   "cell_type": "code",
   "execution_count": 142,
   "metadata": {},
   "outputs": [
    {
     "name": "stdout",
     "output_type": "stream",
     "text": [
      "Saved\n"
     ]
    }
   ],
   "source": [
    "# for pole in poles:\n",
    "#     freq_data[pole]['phase_delta']-=2*np.pi\n",
    "with open(os.path.join(out_folder,'frequency_data3.p'.format(pole)), 'wb') as fp:\n",
    "    pickle.dump(freq_data, fp, protocol=4)\n",
    "print('Saved')"
   ]
  },
  {
   "cell_type": "markdown",
   "metadata": {},
   "source": [
    "### Load the result if have saved"
   ]
  },
  {
   "cell_type": "code",
   "execution_count": 23,
   "metadata": {},
   "outputs": [],
   "source": [
    "with open(os.path.join(out_folder,'frequency_data3.p'.format(pole)), 'rb') as fp:\n",
    "    freq_data = pickle.load(fp)"
   ]
  },
  {
   "cell_type": "markdown",
   "metadata": {},
   "source": [
    "### Plot the response"
   ]
  },
  {
   "cell_type": "code",
   "execution_count": 63,
   "metadata": {},
   "outputs": [],
   "source": [
    "for pole in poles:\n",
    "    plt.scatter(freq_data[pole]['v_amp'], freq_data[pole]['i_amp'], c=freq_data[pole]['freq'])\n",
    "    plt.xlabel('Voltage [V]')\n",
    "    plt.ylabel('Current [A]')\n",
    "    plt.title('Pole {} Amplitude Response'.format(poles_dict[pole]))\n",
    "    plt.tight_layout()\n",
    "    plt.savefig(os.path.join(out_folder, 'Amplitude_response_pole{}.png'.format(poles_dict[pole])))"
   ]
  },
  {
   "cell_type": "markdown",
   "metadata": {},
   "source": [
    "### Fit the amplitudes"
   ]
  },
  {
   "cell_type": "code",
   "execution_count": 68,
   "metadata": {},
   "outputs": [
    {
     "data": {
      "text/plain": [
       "array([2.11845714, 2.10878223, 2.07589811])"
      ]
     },
     "execution_count": 68,
     "metadata": {},
     "output_type": "execute_result"
    }
   ],
   "source": [
    "R_poles"
   ]
  },
  {
   "cell_type": "code",
   "execution_count": 149,
   "metadata": {},
   "outputs": [
    {
     "name": "stdout",
     "output_type": "stream",
     "text": [
      "Pole A\n",
      "R:2.118457140120971\n",
      "L:0.20069968460466536\n",
      "L error:2.7809943311296536e-06\n",
      "Fit std:  0.05701162007460253\n",
      "Pole B\n",
      "R:2.108782231622595\n",
      "L:0.20365503550736846\n",
      "L error:3.0657020630275765e-06\n",
      "Fit std:  0.06019367752275405\n",
      "Pole C\n",
      "R:2.07589810652447\n",
      "L:0.19539368897169337\n",
      "L error:2.886601769829263e-06\n",
      "Fit std:  0.05796771085510125\n"
     ]
    }
   ],
   "source": [
    "plt.close('all')\n",
    "fig = plt.figure(figsize=(20, 5))\n",
    "L_poles = np.zeros(3)\n",
    "for pole in poles:\n",
    "    with open(os.path.join(out_folder,'frequency_data3.p'.format(pole)), 'rb') as fp:\n",
    "        freq_data = pickle.load(fp)\n",
    "    \n",
    "    R = R_poles[pole]\n",
    "\n",
    "    print('Pole {}'.format(poles_dict[pole]))\n",
    "    V = freq_data[pole]['v_amp'].values\n",
    "    f = freq_data[pole]['freq'].values\n",
    "    I = freq_data[pole]['i_amp'].values\n",
    "\n",
    "    # filter out the data where the load is too big. Here assuming a large inductance of 1H\n",
    "    indx = np.logical_and(I*np.sqrt(R**2+(np.pi*2*f)**2) < 15, V > 0)\n",
    "    f = f[indx]\n",
    "    V = V[indx]\n",
    "    I = I[indx]\n",
    "\n",
    "    x =np.hstack((f[:, np.newaxis], I[:, np.newaxis]))\n",
    "\n",
    "    amp_fitting = lambda x, L: x[:, 1]*np.sqrt(R**2+(np.pi*2*L*x[:, 0])**2)\n",
    "    popt, perr = curve_fit(amp_fitting, x, V)#, p0 = [0.01, 0.01], bounds=[[0, 0], [100, 100]])#, max_nfev=10000, diff_step=0.001)\n",
    "    amp_fun = lambda x: amp_fitting(x, *popt)\n",
    "    L = popt[0]\n",
    "    Lerr = np.sqrt(np.diag(perr))[0]\n",
    "    print('R:{}'.format(R))\n",
    "    print('L:{}'.format(L))\n",
    "    print('L error:{}'.format(perr[0][0]))\n",
    "    L_poles[pole] = L\n",
    "    \n",
    "    error = amp_fun(x) - V\n",
    "    rel_error = np.abs(error)/V\n",
    "    print('Fit std: ', np.std(error))\n",
    "\n",
    "    plt.subplot(1, len(poles), pole+1)\n",
    "    plt.scatter(f, amp_fun(x), c='red', alpha=0.7, label='Fit, L={:.4f} H'.format(L))\n",
    "    plt.scatter(f, V, c=I, marker='+', s=100, label='Data')\n",
    "\n",
    "    plt.xlabel('Frequency [Hz]')\n",
    "    plt.ylabel('Voltage amplitude [V]')\n",
    "    plt.title('Pole {} Amplitude Response Fit.\\nInductance: {:.3f} \\u00B1 {:.3f} H'.format(poles_dict[pole], L, Lerr))\n",
    "    plt.legend(loc='upper right')\n",
    "plt.tight_layout()\n",
    "plt.savefig(os.path.join(out_folder, 'Amplitude_response_freq_fit_improved.png'))\n",
    "    # plt.savefig(os.path.join(out_folder, 'Small-amplitude_response_pole{}_fit.png'.format(poles_dict[pole])))"
   ]
  },
  {
   "cell_type": "code",
   "execution_count": null,
   "metadata": {},
   "outputs": [],
   "source": [
    "err_tbl = pd.DataFrame({'error':error, 'rel_error':rel_error, 'V':V, 'I':I, 'freq':f})\n",
    "err_tbl.sort_values('rel_error', ascending=False)"
   ]
  },
  {
   "cell_type": "markdown",
   "metadata": {},
   "source": [
    "### Save the final RL coefficients"
   ]
  },
  {
   "cell_type": "code",
   "execution_count": 146,
   "metadata": {},
   "outputs": [],
   "source": [
    "# rl_coeff = [\n",
    "#     {'R':2.124, 'L':0.2021},  \n",
    "#     {'R':2.115, 'L':0.2047},\n",
    "#     {'R':2.082, 'L':0.1966}\n",
    "# ]\n",
    "rl_coeff = [{'R': R, 'L': L} for R, L in zip(R_poles, L_poles)]\n",
    "with open('rl_coeff.p', 'wb') as f:\n",
    "    pickle.dump(rl_coeff, f)"
   ]
  },
  {
   "cell_type": "code",
   "execution_count": 147,
   "metadata": {},
   "outputs": [
    {
     "data": {
      "text/plain": [
       "[{'R': 2.118457140120971, 'L': 0.20069968460466536},\n",
       " {'R': 2.108782231622595, 'L': 0.20365503550736846},\n",
       " {'R': 2.07589810652447, 'L': 0.19539368897169337}]"
      ]
     },
     "execution_count": 147,
     "metadata": {},
     "output_type": "execute_result"
    }
   ],
   "source": [
    "rl_coeff"
   ]
  },
  {
   "cell_type": "code",
   "execution_count": null,
   "metadata": {},
   "outputs": [],
   "source": []
  }
 ],
 "metadata": {
  "kernelspec": {
   "display_name": "Python 3",
   "language": "python",
   "name": "python3"
  },
  "language_info": {
   "codemirror_mode": {
    "name": "ipython",
    "version": 3
   },
   "file_extension": ".py",
   "mimetype": "text/x-python",
   "name": "python",
   "nbconvert_exporter": "python",
   "pygments_lexer": "ipython3",
   "version": "3.8.0"
  }
 },
 "nbformat": 4,
 "nbformat_minor": 4
}
