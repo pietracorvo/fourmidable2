{
 "cells": [
  {
   "cell_type": "markdown",
   "metadata": {},
   "source": [
    "### Output on one channel, read input"
   ]
  },
  {
   "cell_type": "code",
   "execution_count": 1,
   "metadata": {},
   "outputs": [
    {
     "ename": "ModuleNotFoundError",
     "evalue": "No module named 'nidaqmx'",
     "output_type": "error",
     "traceback": [
      "\u001b[1;31m---------------------------------------------------------------------------\u001b[0m",
      "\u001b[1;31mModuleNotFoundError\u001b[0m                       Traceback (most recent call last)",
      "\u001b[1;32m<ipython-input-1-151bc6ab951e>\u001b[0m in \u001b[0;36m<module>\u001b[1;34m\u001b[0m\n\u001b[1;32m----> 1\u001b[1;33m \u001b[1;32mimport\u001b[0m \u001b[0mnidaqmx\u001b[0m\u001b[1;33m.\u001b[0m\u001b[0msystem\u001b[0m \u001b[1;32mas\u001b[0m \u001b[0mni\u001b[0m\u001b[1;33m\u001b[0m\u001b[0m\n\u001b[0m\u001b[0;32m      2\u001b[0m \u001b[1;33m\u001b[0m\u001b[0m\n\u001b[0;32m      3\u001b[0m \u001b[0msystem\u001b[0m \u001b[1;33m=\u001b[0m \u001b[0mni\u001b[0m\u001b[1;33m.\u001b[0m\u001b[0mSystem\u001b[0m\u001b[1;33m.\u001b[0m\u001b[0mlocal\u001b[0m\u001b[1;33m(\u001b[0m\u001b[1;33m)\u001b[0m\u001b[1;33m\u001b[0m\u001b[0m\n\u001b[0;32m      4\u001b[0m \u001b[1;32mfor\u001b[0m \u001b[0mdevice\u001b[0m \u001b[1;32min\u001b[0m \u001b[0msystem\u001b[0m\u001b[1;33m.\u001b[0m\u001b[0mdevices\u001b[0m\u001b[1;33m:\u001b[0m\u001b[1;33m\u001b[0m\u001b[0m\n\u001b[0;32m      5\u001b[0m     \u001b[0mprint\u001b[0m\u001b[1;33m(\u001b[0m\u001b[0mdevice\u001b[0m\u001b[1;33m)\u001b[0m\u001b[1;33m\u001b[0m\u001b[0m\n",
      "\u001b[1;31mModuleNotFoundError\u001b[0m: No module named 'nidaqmx'"
     ]
    }
   ],
   "source": [
    "import nidaqmx.system as ni\n",
    "\n",
    "system = ni.System.local()\n",
    "for device in system.devices:\n",
    "    print(device)\n",
    "\n",
    "# device = system.devices['Dev1']\n",
    "# device == nidaqmx.system.Device('Dev1')\n",
    "    \n",
    "# phys_chan = device.ai_physical_chans['ai0']\n",
    "\n",
    "nidaqmx.constants.AOIdleOutputBehavior = 12526\n",
    "\n",
    "with nidaqmx.Task() as task:\n",
    "    task.ao_channels.add_ao_voltage_chan(\"Dev1/ao0\")\n",
    "    task.write([4], auto_start=True)\n",
    "\n",
    "with nidaqmx.Task() as task:\n",
    "    task.ai_channels.add_ai_voltage_chan(\"Dev1/ai7\")\n",
    "    print(task.read())\n",
    "    \n",
    "# with nidaqmx.Task() as task:\n",
    "#     task.ai_channels.add_ai_voltage_chan(\"Dev1/ai0\")\n",
    "#     rd = task.read() \n",
    "\n",
    "# print(rd)"
   ]
  },
  {
   "cell_type": "markdown",
   "metadata": {},
   "source": [
    "### Put output on one channel and read several channels, print everything"
   ]
  },
  {
   "cell_type": "code",
   "execution_count": null,
   "metadata": {},
   "outputs": [],
   "source": [
    "import pprint\n",
    "import nidaqmx\n",
    "\n",
    "pp = pprint.PrettyPrinter(indent=4)\n",
    "\n",
    "with nidaqmx.Task() as task:\n",
    "    task.ao_channels.add_ao_voltage_chan(\"Dev1/ao0\")\n",
    "    task.write([4], auto_start=True)\n",
    "\n",
    "with nidaqmx.Task() as task:\n",
    "#     task.ai_channels.add_ai_voltage_chan(\"Dev1/ai0\")\n",
    "\n",
    "#     print('1 Channel 1 Sample Read Raw: ')\n",
    "#     data = task.read()\n",
    "#     pp.pprint(data)\n",
    "\n",
    "#     print('1 Channel N Samples Read Raw: ')\n",
    "#     data = task.read(number_of_samples_per_channel=8)\n",
    "#     pp.pprint(data)\n",
    "\n",
    "    task.ai_channels.add_ai_voltage_chan(\"Dev1/ai5:7\")\n",
    "\n",
    "    print('N Channel 1 Sample Read: ')\n",
    "    data = task.read()\n",
    "    pp.pprint(data)\n",
    "\n",
    "    print('N Channel N Samples Read: ')\n",
    "    data = task.read(number_of_samples_per_channel=8)\n",
    "pp.pprint(data)"
   ]
  },
  {
   "cell_type": "markdown",
   "metadata": {},
   "source": [
    "###  An example of how to use PyDAQmx to acquire 1000 points"
   ]
  },
  {
   "cell_type": "code",
   "execution_count": null,
   "metadata": {},
   "outputs": [],
   "source": [
    "from PyDAQmx import *\n",
    "import numpy\n",
    "\n",
    "analog_input = Task()\n",
    "read = int32()\n",
    "data = numpy.zeros((1000,), dtype=numpy.float64)\n",
    "\n",
    "# DAQmx Configure Code\n",
    "analog_input.CreateAIVoltageChan(b\"Dev1/ai0\",b\"\",DAQmx_Val_Cfg_Default,\n",
    "                                 -10.0,10.0,DAQmx_Val_Volts,None)\n",
    "analog_input.CfgSampClkTiming(b\"\",10000.0,DAQmx_Val_Rising,DAQmx_Val_FiniteSamps,1000)\n",
    "\n",
    "# DAQmx Start Code\n",
    "analog_input.StartTask()\n",
    "\n",
    "# DAQmx Read Code\n",
    "analog_input.ReadAnalogF64(1000,10.0,DAQmx_Val_GroupByChannel,data,1000,byref(read),None)\n",
    "\n",
    "print(\"Acquired %d points\"%read.value)\n",
    "print(len(data))"
   ]
  },
  {
   "cell_type": "markdown",
   "metadata": {},
   "source": [
    "## This example is a PyDAQmx version of the ContAcq_IntClk.c example"
   ]
  },
  {
   "cell_type": "markdown",
   "metadata": {},
   "source": [
    "It illustrates the use of callback functions\n",
    "\n",
    "This example demonstrates how to acquire a continuous amount of\n",
    "data using the DAQ device's internal clock. It incrementally stores the data\n",
    "in a Python list."
   ]
  },
  {
   "cell_type": "code",
   "execution_count": null,
   "metadata": {},
   "outputs": [],
   "source": [
    "from PyDAQmx import *\n",
    "import numpy\n",
    "from ctypes import *\n",
    "\n",
    "from PyDAQmx import Task\n",
    "from numpy import zeros\n",
    "\n",
    "class CallbackTask(Task):\n",
    "    def __init__(self):\n",
    "        Task.__init__(self)\n",
    "        self.data = zeros(1000)\n",
    "        self.a = []\n",
    "        self.CreateAIVoltageChan(b\"Dev1/ai0\",b\"\",DAQmx_Val_RSE,\n",
    "                                 -10.0,10.0,DAQmx_Val_Volts,None)\n",
    "        self.CfgSampClkTiming(b\"\",10000.0,DAQmx_Val_Rising,DAQmx_Val_ContSamps,1000)\n",
    "        self.AutoRegisterEveryNSamplesEvent(DAQmx_Val_Acquired_Into_Buffer,1000,0)\n",
    "        self.AutoRegisterDoneEvent(0)\n",
    "    def EveryNCallback(self):\n",
    "        read = int32()\n",
    "        self.ReadAnalogF64(1000,10.0,DAQmx_Val_GroupByScanNumber,self.data,\n",
    "                           1000,byref(read),None)\n",
    "        self.a.extend(self.data.tolist())\n",
    "        print(self.data[0])\n",
    "        return 0 # The function should return an integer\n",
    "    def DoneCallback(self, status):\n",
    "        print(\"Status\",status.value)\n",
    "        return 0 # The function should return an integer\n",
    "\n",
    "\n",
    "task=CallbackTask()\n",
    "task.StartTask()\n",
    "\n",
    "input('Acquiring samples continuously. Press Enter to interrupt\\n')\n",
    "\n",
    "task.StopTask()\n",
    "task.ClearTask()"
   ]
  },
  {
   "cell_type": "code",
   "execution_count": null,
   "metadata": {},
   "outputs": [],
   "source": [
    "print(len(task.a))"
   ]
  },
  {
   "cell_type": "code",
   "execution_count": 2,
   "metadata": {},
   "outputs": [
    {
     "name": "stdout",
     "output_type": "stream",
     "text": [
      "N Channel 1 Sample Read: \n",
      "[2.454756264109159, 1.5471475915227697, 4.000121790712001]\n",
      "N Channel N Samples Read: \n",
      "[   [   2.5034603692745483,\n",
      "        2.7083137229024854,\n",
      "        2.884536891266446,\n",
      "        3.0364079688721795,\n",
      "        3.167382335168061,\n",
      "        3.2802571990549128,\n",
      "        3.377829763755347,\n",
      "        3.461909984904626],\n",
      "    [   1.6759833989781971,\n",
      "        1.818805161441118,\n",
      "        1.967056726581752,\n",
      "        2.1161309400815878,\n",
      "        2.2629015235338414,\n",
      "        2.405393989524154,\n",
      "        2.5416338531355636,\n",
      "        2.671127498964194],\n",
      "    [   3.999957250348825,\n",
      "        3.999957250348825,\n",
      "        3.999628169622322,\n",
      "        3.999792709985599,\n",
      "        3.999957250348825,\n",
      "        4.000121790712001,\n",
      "        3.999628169622322,\n",
      "        3.999792709985599]]\n"
     ]
    }
   ],
   "source": []
  },
  {
   "cell_type": "code",
   "execution_count": null,
   "metadata": {},
   "outputs": [],
   "source": []
  }
 ],
 "metadata": {
  "kernelspec": {
   "display_name": "Python 3",
   "language": "python",
   "name": "python3"
  },
  "language_info": {
   "codemirror_mode": {
    "name": "ipython",
    "version": 3
   },
   "file_extension": ".py",
   "mimetype": "text/x-python",
   "name": "python",
   "nbconvert_exporter": "python",
   "pygments_lexer": "ipython3",
   "version": "3.6.5"
  }
 },
 "nbformat": 4,
 "nbformat_minor": 2
}
