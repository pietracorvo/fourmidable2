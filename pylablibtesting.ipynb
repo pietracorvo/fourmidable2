{
 "cells": [
  {
   "cell_type": "code",
   "execution_count": 12,
   "id": "6deb98c0-3e4b-405e-9e45-af9c8a4ebc46",
   "metadata": {},
   "outputs": [],
   "source": [
    "import pylablib as pll\n",
    "from pylablib.devices import DCAM\n",
    "import numpy as np\n",
    "import matplotlib.pyplot as plt"
   ]
  },
  {
   "cell_type": "code",
   "execution_count": 16,
   "id": "fb229e8d-cfec-46d3-8edf-b59c666307bc",
   "metadata": {},
   "outputs": [],
   "source": [
    "cam = DCAM.DCAMCamera()"
   ]
  },
  {
   "cell_type": "code",
   "execution_count": 20,
   "id": "140d16a8-ffba-4f60-8ed8-b92c403bb37c",
   "metadata": {},
   "outputs": [
    {
     "data": {
      "text/plain": [
       "Dictionary('binning': DCAMAttribute(name='BINNING', kind=enum, id=4198672, min=1, max=4, unit=0)\n",
       "'bit_per_channel': DCAMAttribute(name='BIT PER CHANNEL', kind=int, id=4325680, min=16, max=16, unit=0)\n",
       "'buffer_framebytes': DCAMAttribute(name='BUFFER FRAMEBYTES', kind=int, id=4326208, min=2, max=8388608, unit=0)\n",
       "'buffer_pixel_type': DCAMAttribute(name='BUFFER PIXEL TYPE', kind=enum, id=4326240, min=2, max=2, unit=0)\n",
       "'buffer_rowbytes': DCAMAttribute(name='BUFFER ROWBYTES', kind=int, id=4326192, min=2, max=4096, unit=0)\n",
       "'buffer_top_offset_bytes': DCAMAttribute(name='BUFFER TOP OFFSET BYTES', kind=int, id=4326224, min=0, max=0, unit=0)\n",
       "'colortype': DCAMAttribute(name='COLORTYPE', kind=enum, id=4325664, min=1, max=1, unit=0)\n",
       "'conversion_factor_coeff': DCAMAttribute(name='CONVERSION FACTOR COEFF', kind=float, id=16769040, min=0.0, max=40.95, unit=0)\n",
       "'conversion_factor_offset': DCAMAttribute(name='CONVERSION FACTOR OFFSET', kind=float, id=16769056, min=0.0, max=65535.0, unit=0)\n",
       "'defect_correct_mode': DCAMAttribute(name='DEFECT CORRECT MODE', kind=enum, id=4653072, min=1, max=2, unit=0)\n",
       "'exposure_time': DCAMAttribute(name='EXPOSURE TIME', kind=float, id=2031888, min=0.0030207518796992482, max=10.0, unit=1)\n",
       "'exposure_time_control': DCAMAttribute(name='EXPOSURE TIME CONTROL', kind=enum, id=2031920, min=1, max=2, unit=0)\n",
       "'frame_stamp_producer': DCAMAttribute(name='FRAME STAMP PRODUCER', kind=enum, id=4262432, min=5, max=5, unit=0)\n",
       "'framebundle_frame_step_bytes': DCAMAttribute(name='FRAMEBUNDLE FRAME STEP BYTES', kind=int, id=4329536, min=8388608, max=8388608, unit=0)\n",
       "'framebundle_mode': DCAMAttribute(name='FRAMEBUNDLE MODE', kind=enum, id=4329488, min=1, max=1, unit=0)\n",
       "'framebundle_number': DCAMAttribute(name='FRAMEBUNDLE NUMBER', kind=int, id=4329504, min=2, max=2, unit=0)\n",
       "'framebundle_rowbytes': DCAMAttribute(name='FRAMEBUNDLE ROWBYTES', kind=int, id=4329520, min=4096, max=4096, unit=0)\n",
       "'image_camera_stamp': DCAMAttribute(name='IMAGE CAMERA STAMP', kind=int, id=4326144, min=0, max=65535, unit=0)\n",
       "'image_detector_pixel_height': DCAMAttribute(name='IMAGE DETECTOR PIXEL HEIGHT', kind=float, id=4327456, min=6.5, max=6.5, unit=7)\n",
       "'image_detector_pixel_width': DCAMAttribute(name='IMAGE DETECTOR PIXEL WIDTH', kind=float, id=4327440, min=6.5, max=6.5, unit=7)\n",
       "'image_framebytes': DCAMAttribute(name='IMAGE FRAMEBYTES', kind=int, id=4325952, min=2, max=8388608, unit=0)\n",
       "'image_height': DCAMAttribute(name='IMAGE HEIGHT', kind=int, id=4325920, min=4, max=2048, unit=0)\n",
       "'image_pixel_type': DCAMAttribute(name='IMAGE PIXEL TYPE', kind=enum, id=4326000, min=2, max=2, unit=0)\n",
       "'image_rowbytes': DCAMAttribute(name='IMAGE ROWBYTES', kind=int, id=4325936, min=2, max=4096, unit=0)\n",
       "'image_top_offset_bytes': DCAMAttribute(name='IMAGE TOP OFFSET BYTES', kind=int, id=4325968, min=0, max=0, unit=0)\n",
       "'image_width': DCAMAttribute(name='IMAGE WIDTH', kind=int, id=4325904, min=4, max=2048, unit=0)\n",
       "'internal_frame_interval': DCAMAttribute(name='INTERNAL FRAME INTERVAL', kind=float, id=4208672, min=0.0333257, max=10.0, unit=1)\n",
       "'internal_frame_rate': DCAMAttribute(name='INTERNAL FRAME RATE', kind=float, id=4208656, min=0.0, max=0.0, unit=5)\n",
       "'internal_trigger_handling': DCAMAttribute(name='INTERNAL TRIGGER HANDLING', kind=enum, id=1049200, min=1, max=1, unit=0)\n",
       "'number_of_output_trigger_connector': DCAMAttribute(name='NUMBER OF OUTPUT TRIGGER CONNECTOR', kind=int, id=1835024, min=3, max=3, unit=0)\n",
       "'number_of_view': DCAMAttribute(name='NUMBER OF VIEW', kind=int, id=4325824, min=1, max=2, unit=0)\n",
       "'output_trigger_active[0]': DCAMAttribute(name='OUTPUT TRIGGER ACTIVE[0]', kind=enum, id=1835312, min=1, max=1, unit=0)\n",
       "'output_trigger_channel_sync': DCAMAttribute(name='OUTPUT TRIGGER CHANNEL SYNC', kind=enum, id=1835056, min=1, max=3, unit=0)\n",
       "'output_trigger_delay[0]': DCAMAttribute(name='OUTPUT TRIGGER DELAY[0]', kind=float, id=1835328, min=0.0, max=10.0, unit=1)\n",
       "'output_trigger_kind[0]': DCAMAttribute(name='OUTPUT TRIGGER KIND[0]', kind=enum, id=1835360, min=1, max=5, unit=0)\n",
       "'output_trigger_period[0]': DCAMAttribute(name='OUTPUT TRIGGER PERIOD[0]', kind=float, id=1835344, min=9.999999974752427e-07, max=10.0, unit=1)\n",
       "'output_trigger_polarity[0]': DCAMAttribute(name='OUTPUT TRIGGER POLARITY[0]', kind=enum, id=1835296, min=1, max=2, unit=0)\n",
       "'output_trigger_programable_start': DCAMAttribute(name='OUTPUT TRIGGER PROGRAMABLE START', kind=enum, id=1835088, min=1, max=2, unit=0)\n",
       "'output_trigger_source[0]': DCAMAttribute(name='OUTPUT TRIGGER SOURCE[0]', kind=enum, id=1835280, min=2, max=3, unit=0)\n",
       "'readout_direction': DCAMAttribute(name='READOUT DIRECTION', kind=enum, id=4194608, min=5, max=5, unit=0)\n",
       "'readout_speed': DCAMAttribute(name='READOUT SPEED', kind=int, id=4194576, min=1, max=2, unit=0)\n",
       "'record_fixed_bytes_per_file': DCAMAttribute(name='RECORD FIXED BYTES PER FILE', kind=int, id=4326416, min=256, max=256, unit=0)\n",
       "'record_fixed_bytes_per_frame': DCAMAttribute(name='RECORD FIXED BYTES PER FRAME', kind=int, id=4326448, min=0, max=8388688, unit=0)\n",
       "'record_fixed_bytes_per_session': DCAMAttribute(name='RECORD FIXED BYTES PER SESSION', kind=int, id=4326432, min=0, max=1104, unit=0)\n",
       "'sensor_mode': DCAMAttribute(name='SENSOR MODE', kind=enum, id=4194832, min=1, max=14, unit=0)\n",
       "'subarray_hpos': DCAMAttribute(name='SUBARRAY HPOS', kind=int, id=4202768, min=0, max=2044, unit=0)\n",
       "'subarray_hsize': DCAMAttribute(name='SUBARRAY HSIZE', kind=int, id=4202784, min=4, max=2048, unit=0)\n",
       "'subarray_mode': DCAMAttribute(name='SUBARRAY MODE', kind=enum, id=4202832, min=1, max=2, unit=0)\n",
       "'subarray_vpos': DCAMAttribute(name='SUBARRAY VPOS', kind=int, id=4202800, min=0, max=2044, unit=0)\n",
       "'subarray_vsize': DCAMAttribute(name='SUBARRAY VSIZE', kind=int, id=4202816, min=4, max=2048, unit=0)\n",
       "'system_alive': DCAMAttribute(name='SYSTEM ALIVE', kind=enum, id=16711696, min=1, max=2, unit=0)\n",
       "'time_stamp_producer': DCAMAttribute(name='TIME STAMP PRODUCER', kind=enum, id=4262416, min=5, max=5, unit=0)\n",
       "'timing_cyclic_trigger_period': DCAMAttribute(name='TIMING CYCLIC TRIGGER PERIOD', kind=float, id=4206624, min=0.0, max=0.0, unit=1)\n",
       "'timing_exposure': DCAMAttribute(name='TIMING EXPOSURE', kind=enum, id=4206688, min=3, max=3, unit=0)\n",
       "'timing_global_exposure_delay': DCAMAttribute(name='TIMING GLOBAL EXPOSURE DELAY', kind=float, id=4206736, min=0.0, max=0.13381293233082708, unit=1)\n",
       "'timing_invalid_exposure_period': DCAMAttribute(name='TIMING INVALID EXPOSURE PERIOD', kind=float, id=4206704, min=0.0, max=0.10055218045112782, unit=1)\n",
       "'timing_min_trigger_blanking': DCAMAttribute(name='TIMING MIN TRIGGER BLANKING', kind=float, id=4206640, min=0.0, max=0.0, unit=1)\n",
       "'timing_min_trigger_interval': DCAMAttribute(name='TIMING MIN TRIGGER INTERVAL', kind=float, id=4206672, min=0.0, max=0.0, unit=1)\n",
       "'timing_readout_time': DCAMAttribute(name='TIMING READOUT TIME', kind=float, id=4206608, min=0.0, max=0.0, unit=1)\n",
       "'trigger_active': DCAMAttribute(name='TRIGGER ACTIVE', kind=enum, id=1048864, min=1, max=3, unit=0)\n",
       "'trigger_delay': DCAMAttribute(name='TRIGGER DELAY', kind=float, id=1049184, min=0.0, max=10.0, unit=1)\n",
       "'trigger_global_exposure': DCAMAttribute(name='TRIGGER GLOBAL EXPOSURE', kind=enum, id=2032384, min=3, max=5, unit=0)\n",
       "'trigger_mode': DCAMAttribute(name='TRIGGER MODE', kind=enum, id=1049104, min=1, max=6, unit=0)\n",
       "'trigger_polarity': DCAMAttribute(name='TRIGGER POLARITY', kind=enum, id=1049120, min=1, max=2, unit=0)\n",
       "'trigger_source': DCAMAttribute(name='TRIGGER SOURCE', kind=enum, id=1048848, min=1, max=3, unit=0)\n",
       "'trigger_times': DCAMAttribute(name='TRIGGER TIMES', kind=int, id=1049152, min=1, max=4095, unit=0))"
      ]
     },
     "execution_count": 20,
     "metadata": {},
     "output_type": "execute_result"
    }
   ],
   "source": [
    "cam.get_all_attributes()"
   ]
  },
  {
   "cell_type": "code",
   "execution_count": null,
   "id": "b498ea6b-54b0-48e6-aa40-1777353a299c",
   "metadata": {},
   "outputs": [],
   "source": [
    "cam.get"
   ]
  },
  {
   "cell_type": "code",
   "execution_count": 8,
   "id": "fdd19397-ed40-4481-a7f2-4e9271eea465",
   "metadata": {},
   "outputs": [],
   "source": [
    "cam.set_attribute_value(\"EXPOSURE TIME\", 1)"
   ]
  },
  {
   "cell_type": "code",
   "execution_count": 19,
   "id": "3f2082e5-5dad-4c92-91d6-2bbca88151e4",
   "metadata": {
    "scrolled": true
   },
   "outputs": [
    {
     "data": {
      "text/plain": [
       "2048"
      ]
     },
     "execution_count": 19,
     "metadata": {},
     "output_type": "execute_result"
    }
   ],
   "source": [
    "cam.get_attribute_value(\"image_width\")"
   ]
  },
  {
   "cell_type": "code",
   "execution_count": 10,
   "id": "17f2bd8d-d73d-400b-b998-3385ac9c1c0a",
   "metadata": {},
   "outputs": [
    {
     "data": {
      "text/plain": [
       "[array([[1379, 1437, 1303, ..., 1821, 2067, 1898],\n",
       "        [1392, 1302, 1432, ..., 1999, 1963, 1990],\n",
       "        [1359, 1379, 1432, ..., 2042, 1974, 1980],\n",
       "        ...,\n",
       "        [1141, 1076, 1113, ..., 1570, 1642, 1648],\n",
       "        [1187, 1046, 1111, ..., 1675, 1685, 1649],\n",
       "        [1131, 1051, 1067, ..., 1539, 1739, 1546]], dtype=uint16)]"
      ]
     },
     "execution_count": 10,
     "metadata": {},
     "output_type": "execute_result"
    }
   ],
   "source": [
    "cam.grab(1)"
   ]
  },
  {
   "cell_type": "code",
   "execution_count": null,
   "id": "09ef3d80-6abf-4acd-847f-e6d2630185f9",
   "metadata": {},
   "outputs": [],
   "source": [
    "cam.set_exposure(0.1)\n",
    "imgs = np.array(cam.grab(4))\n",
    "\n",
    "for i in imgs:\n",
    "    fig = plt.figure()\n",
    "    plt.imshow(i, cmap=\"gray\")\n",
    "    plt.colorbar()"
   ]
  },
  {
   "cell_type": "code",
   "execution_count": 22,
   "id": "8db989be-4bf5-44c3-ab7f-d870c106c590",
   "metadata": {},
   "outputs": [],
   "source": [
    "cam.close()"
   ]
  }
 ],
 "metadata": {
  "kernelspec": {
   "display_name": "Python 3 (ipykernel)",
   "language": "python",
   "name": "python3"
  },
  "language_info": {
   "codemirror_mode": {
    "name": "ipython",
    "version": 3
   },
   "file_extension": ".py",
   "mimetype": "text/x-python",
   "name": "python",
   "nbconvert_exporter": "python",
   "pygments_lexer": "ipython3",
   "version": "3.10.11"
  }
 },
 "nbformat": 4,
 "nbformat_minor": 5
}
