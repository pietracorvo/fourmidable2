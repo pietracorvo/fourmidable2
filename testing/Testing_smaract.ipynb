{
 "cells": [
  {
   "cell_type": "code",
   "execution_count": 3,
   "metadata": {},
   "outputs": [],
   "source": [
    "import smaract.ctl as ctl\n",
    "import numpy as np\n",
    "import time"
   ]
  },
  {
   "cell_type": "code",
   "execution_count": 4,
   "metadata": {},
   "outputs": [],
   "source": [
    "locator = ctl.FindDevices()\n",
    "d_handle = ctl.Open(locator)"
   ]
  },
  {
   "cell_type": "code",
   "execution_count": 5,
   "metadata": {},
   "outputs": [
    {
     "data": {
      "text/plain": [
       "'usb:sn:MCS2-00003775'"
      ]
     },
     "execution_count": 5,
     "metadata": {},
     "output_type": "execute_result"
    }
   ],
   "source": [
    "locator"
   ]
  },
  {
   "cell_type": "markdown",
   "metadata": {},
   "source": [
    "### Get properties"
   ]
  },
  {
   "cell_type": "code",
   "execution_count": 6,
   "metadata": {},
   "outputs": [
    {
     "name": "stdout",
     "output_type": "stream",
     "text": [
      "Property.NUMBER_OF_CHANNELS\n",
      "Property.NUMBER_OF_BUS_MODULES\n",
      "Property.INTERFACE_TYPE\n",
      "Property.DEVICE_STATE\n",
      "Property.DEVICE_SERIAL_NUMBER\n",
      "Property.DEVICE_NAME\n",
      "Property.EMERGENCY_STOP_MODE\n",
      "Property.DEFAULT_EMERGENCY_STOP_MODE\n",
      "Property.NETWORK_DISCOVER_MODE\n",
      "Property.NETWORK_DHCP_TIMEOUT\n",
      "Property.POWER_SUPPLY_ENABLED\n",
      "Property.NUMBER_OF_BUS_MODULE_CHANNELS\n",
      "Property.MODULE_TYPE\n",
      "Property.MODULE_STATE\n",
      "Property.STARTUP_OPTIONS\n",
      "Property.AMPLIFIER_ENABLED\n",
      "Property.AMPLIFIER_MODE\n",
      "Property.POSITIONER_CONTROL_OPTIONS\n",
      "Property.ACTUATOR_MODE\n",
      "Property.CONTROL_LOOP_INPUT\n",
      "Property.SENSOR_INPUT_SELECT\n",
      "Property.POSITIONER_TYPE\n",
      "Property.POSITIONER_TYPE_NAME\n",
      "Property.MOVE_MODE\n",
      "Property.CHANNEL_TYPE\n",
      "Property.CHANNEL_STATE\n",
      "Property.POSITION\n",
      "Property.TARGET_POSITION\n",
      "Property.SCAN_POSITION\n",
      "Property.SCAN_VELOCITY\n",
      "Property.HOLD_TIME\n",
      "Property.MOVE_VELOCITY\n",
      "Property.MOVE_ACCELERATION\n",
      "Property.MAX_CL_FREQUENCY\n",
      "Property.DEFAULT_MAX_CL_FREQUENCY\n",
      "Property.STEP_FREQUENCY\n",
      "Property.STEP_AMPLITUDE\n",
      "Property.FOLLOWING_ERROR_LIMIT\n",
      "Property.FOLLOWING_ERROR\n",
      "Property.FOLLOWING_ERROR_MAX\n",
      "Property.BROADCAST_STOP_OPTIONS\n",
      "Property.SENSOR_POWER_MODE\n",
      "Property.SENSOR_POWER_SAVE_DELAY\n",
      "Property.POSITION_MEAN_SHIFT\n",
      "Property.SAFE_DIRECTION\n",
      "Property.CL_INPUT_SENSOR_VALUE\n",
      "Property.CL_INPUT_AUX_VALUE\n",
      "Property.TARGET_TO_ZERO_VOLTAGE_HOLD_TH\n",
      "Property.CH_EMERGENCY_STOP_MODE\n",
      "Property.LOGICAL_SCALE_OFFSET\n",
      "Property.LOGICAL_SCALE_INVERSION\n",
      "Property.RANGE_LIMIT_MIN\n",
      "Property.RANGE_LIMIT_MAX\n",
      "Property.DEFAULT_RANGE_LIMIT_MIN\n",
      "Property.DEFAULT_RANGE_LIMIT_MAX\n",
      "Property.CALIBRATION_OPTIONS\n",
      "Property.SIGNAL_CORRECTION_OPTIONS\n",
      "Property.REFERENCING_OPTIONS\n",
      "Property.DIST_CODE_INVERTED\n",
      "Property.DISTANCE_TO_REF_MARK\n",
      "Property.POS_MOVEMENT_TYPE\n",
      "Property.POS_IS_CUSTOM_TYPE\n",
      "Property.POS_BASE_UNIT\n",
      "Property.POS_BASE_RESOLUTION\n",
      "Property.POS_HEAD_TYPE\n",
      "Property.POS_REF_TYPE\n",
      "Property.POS_P_GAIN\n",
      "Property.POS_I_GAIN\n",
      "Property.POS_D_GAIN\n",
      "Property.POS_PID_SHIFT\n",
      "Property.POS_ANTI_WINDUP\n",
      "Property.POS_ESD_DIST_TH\n",
      "Property.POS_ESD_COUNTER_TH\n",
      "Property.POS_TARGET_REACHED_TH\n",
      "Property.POS_TARGET_HOLD_TH\n",
      "Property.POS_SAVE\n",
      "Property.POS_WRITE_PROTECTION\n",
      "Property.STREAM_BASE_RATE\n",
      "Property.STREAM_EXT_SYNC_RATE\n",
      "Property.STREAM_OPTIONS\n",
      "Property.STREAM_LOAD_MAX\n",
      "Property.CHANNEL_ERROR\n",
      "Property.CHANNEL_TEMPERATURE\n",
      "Property.BUS_MODULE_TEMPERATURE\n",
      "Property.POSITIONER_FAULT_REASON\n",
      "Property.MOTOR_LOAD\n",
      "Property.DIAG_CLOSED_LOOP_FREQUENCY_AVG\n",
      "Property.DIAG_CLOSED_LOOP_FREQUENCY_MAX\n",
      "Property.DIAG_CLF_MEASURE_TIME_BASE\n",
      "Property.IO_MODULE_OPTIONS\n",
      "Property.IO_MODULE_VOLTAGE\n",
      "Property.IO_MODULE_ANALOG_INPUT_RANGE\n",
      "Property.AUX_POSITIONER_TYPE\n",
      "Property.AUX_POSITIONER_TYPE_NAME\n",
      "Property.AUX_INPUT_SELECT\n",
      "Property.AUX_IO_MODULE_INPUT_INDEX\n",
      "Property.AUX_SENSOR_MODULE_INPUT_INDEX\n",
      "Property.AUX_IO_MODULE_INPUT0_VALUE\n",
      "Property.AUX_IO_MODULE_INPUT1_VALUE\n",
      "Property.AUX_SENSOR_MODULE_INPUT0_VALUE\n",
      "Property.AUX_SENSOR_MODULE_INPUT1_VALUE\n",
      "Property.AUX_DIRECTION_INVERSION\n",
      "Property.AUX_DIGITAL_INPUT_VALUE\n",
      "Property.AUX_DIGITAL_OUTPUT_VALUE\n",
      "Property.AUX_DIGITAL_OUTPUT_SET\n",
      "Property.AUX_DIGITAL_OUTPUT_CLEAR\n",
      "Property.AUX_ANALOG_OUTPUT_VALUE0\n",
      "Property.AUX_ANALOG_OUTPUT_VALUE1\n",
      "Property.THD_INPUT_SELECT\n",
      "Property.THD_IO_MODULE_INPUT_INDEX\n",
      "Property.THD_SENSOR_MODULE_INPUT_INDEX\n",
      "Property.THD_THRESHOLD_HIGH\n",
      "Property.THD_THRESHOLD_LOW\n",
      "Property.THD_INVERSION\n",
      "Property.DEV_INPUT_TRIG_SELECT\n",
      "Property.DEV_INPUT_TRIG_MODE\n",
      "Property.DEV_INPUT_TRIG_CONDITION\n",
      "Property.CH_INPUT_TRIG_MODE\n",
      "Property.CH_INPUT_TRIG_CONDITION\n",
      "Property.CH_OUTPUT_TRIG_MODE\n",
      "Property.CH_OUTPUT_TRIG_POLARITY\n",
      "Property.CH_OUTPUT_TRIG_PULSE_WIDTH\n",
      "Property.CH_POS_COMP_START_THRESHOLD\n",
      "Property.CH_POS_COMP_INCREMENT\n",
      "Property.CH_POS_COMP_DIRECTION\n",
      "Property.CH_POS_COMP_LIMIT_MIN\n",
      "Property.CH_POS_COMP_LIMIT_MAX\n",
      "Property.HM_STATE\n",
      "Property.HM_LOCK_OPTIONS\n",
      "Property.HM_DEFAULT_LOCK_OPTIONS\n",
      "Property.API_EVENT_NOTIFICATION_OPTIONS\n",
      "Property.API_AUTO_RECONNECT\n"
     ]
    }
   ],
   "source": [
    "for p in ctl.Property:\n",
    "    print(p)"
   ]
  },
  {
   "cell_type": "code",
   "execution_count": 7,
   "metadata": {},
   "outputs": [
    {
     "name": "stdout",
     "output_type": "stream",
     "text": [
      "N channels:  4\n",
      "Base units:  ['pm', 'pm', 'pm', 'deg']\n",
      "Current position:  [-538671.753, 317874.721, 2937138.619, -14998813.971]\n"
     ]
    }
   ],
   "source": [
    "n_channels_tot = ctl.GetProperty_i32(\n",
    "            d_handle, 0, ctl.Property.NUMBER_OF_CHANNELS)\n",
    "n_channels = np.sum([ctl.GetProperty_i32(d_handle, channel, ctl.Property.CHANNEL_STATE) & ctl.ChannelState.SENSOR_PRESENT != 0 for channel in range(n_channels_tot)])\n",
    "print('N channels: ', n_channels)\n",
    "base_units = [ctl.GetProperty_i32(\n",
    "            d_handle, channel, ctl.Property.POS_BASE_UNIT) for channel in range(n_channels)]\n",
    "print('Base units: ', ['pm' if bu==ctl.BaseUnit.METER else 'deg' for bu in base_units])#\n",
    "positions = [ctl.GetProperty_i64(d_handle, channel, ctl.Property.POSITION)/1000 for channel in range(4)]\n",
    "print('Current position: ', positions)"
   ]
  },
  {
   "cell_type": "code",
   "execution_count": 17,
   "metadata": {},
   "outputs": [
    {
     "name": "stdout",
     "output_type": "stream",
     "text": [
      "Channel types:  ['SL...D1SS', 'SL...D1SS', 'SL...D1SS', 'SR...S1S6S']\n",
      "Frequency [kHz]:  [7.0, 7.0, 7.0, 14.0]\n"
     ]
    }
   ],
   "source": [
    "ch_type = [ctl.GetProperty_s(\n",
    "    d_handle, i, ctl.Property.POSITIONER_TYPE_NAME) for i in range(n_channels)]\n",
    "print('Channel types: ', ch_type)\n",
    "cl_freq = [ctl.GetProperty_i32(\n",
    "    d_handle, i, ctl.Property.MAX_CL_FREQUENCY) / 1000 for i in range(n_channels)]\n",
    "print('Frequency [kHz]: ', cl_freq)"
   ]
  },
  {
   "cell_type": "code",
   "execution_count": 18,
   "metadata": {},
   "outputs": [
    {
     "name": "stdout",
     "output_type": "stream",
     "text": [
      "Velocity: 0.0um/s\n",
      "Velocity: 0.0um/s\n",
      "Velocity: 0.0um/s\n",
      "Velocity: 0.0deg/s\n"
     ]
    }
   ],
   "source": [
    "for i in range(n_channels):\n",
    "    v = ctl.GetProperty_i64(d_handle, i, ctl.Property.MOVE_VELOCITY)\n",
    "    if base_units[i] == ctl.BaseUnit.METER:\n",
    "        print('Velocity: {}um/s'.format(v/10**6))\n",
    "    else:\n",
    "        print('Velocity: {}deg/s'.format(v/10**9))"
   ]
  },
  {
   "cell_type": "markdown",
   "metadata": {},
   "source": [
    "### Set the Max CL frequency and speed"
   ]
  },
  {
   "cell_type": "code",
   "execution_count": 19,
   "metadata": {},
   "outputs": [],
   "source": [
    "import smaract.ctl as ctl\n",
    "locator = ctl.FindDevices()\n",
    "# d_handle = ctl.Open(locator)\n",
    "for channel in range(4):\n",
    "    if channel < 3:\n",
    "        # linear positioners\n",
    "        ctl.SetProperty_i32(\n",
    "                    d_handle, channel, ctl.Property.DEFAULT_MAX_CL_FREQUENCY, 7000)\n",
    "    elif channel == 3:\n",
    "        # rotational positioner    \n",
    "        ctl.SetProperty_i32(\n",
    "                    d_handle, channel, ctl.Property.MAX_CL_FREQUENCY, 14000)\n",
    "    # set velocity to be max allowed by the cl freq\n",
    "    ctl.SetProperty_i64(d_handle, channel,\n",
    "                            ctl.Property.MOVE_VELOCITY, 0)\n",
    "\n"
   ]
  },
  {
   "cell_type": "markdown",
   "metadata": {},
   "source": [
    "### Calibration"
   ]
  },
  {
   "cell_type": "code",
   "execution_count": null,
   "metadata": {},
   "outputs": [],
   "source": [
    "for channel in range(n_channels):\n",
    "    # Set calibration options (start direction: forward)\n",
    "    ctl.SetProperty_i32(d_handle, channel, ctl.Property.CALIBRATION_OPTIONS, 0)\n",
    "    # Start calibration sequence\n",
    "    ctl.Calibrate(d_handle, channel)"
   ]
  },
  {
   "cell_type": "markdown",
   "metadata": {},
   "source": [
    "### Checking state"
   ]
  },
  {
   "cell_type": "code",
   "execution_count": null,
   "metadata": {},
   "outputs": [],
   "source": [
    "state = ctl.GetProperty_i32(d_handle, 0, ctl.Property.CHANNEL_STATE)\n",
    "\n",
    "is_moving = (state & ctl.ChannelState.ACTIVELY_MOVING) != 0"
   ]
  },
  {
   "cell_type": "markdown",
   "metadata": {},
   "source": [
    "### Movement"
   ]
  },
  {
   "cell_type": "code",
   "execution_count": null,
   "metadata": {},
   "outputs": [],
   "source": [
    "#set all channels to absolute move mode\n",
    "for channel in range(n_channels):\n",
    "    ctl.SetProperty_i32(d_handle, channel, ctl.Property.MOVE_MODE, ctl.MoveMode.CL_ABSOLUTE)\n",
    "    ctl.SetProperty_i32(d_handle, channel, ctl.Property.HOLD_TIME, ctl.HOLD_TIME_INFINITE)\n",
    "    ctl.SetProperty_i64(d_handle, channel,ctl.Property.MOVE_VELOCITY, 5*10**8)\n",
    "    "
   ]
  },
  {
   "cell_type": "code",
   "execution_count": null,
   "metadata": {},
   "outputs": [],
   "source": [
    "ctl.Move(d_handle, 0, 0, 0)"
   ]
  },
  {
   "cell_type": "code",
   "execution_count": null,
   "metadata": {},
   "outputs": [],
   "source": [
    "ctl.Move(d_handle, 0, -200000000, 0)\n",
    "time.sleep(0.5)\n",
    "ctl.Move(d_handle, 0, 200000000, 0)\n",
    "state = ctl.GetProperty_i32(d_handle, 0, ctl.Property.CHANNEL_STATE)\n",
    "is_moving = (state & ctl.ChannelState.ACTIVELY_MOVING) != 0\n",
    "print(is_moving)\n",
    "time.sleep(2)\n",
    "state = ctl.GetProperty_i32(d_handle, 0, ctl.Property.CHANNEL_STATE)\n",
    "is_moving = (state & ctl.ChannelState.ACTIVELY_MOVING) != 0\n",
    "print(is_moving)\n"
   ]
  },
  {
   "cell_type": "markdown",
   "metadata": {},
   "source": [
    "### Setting the logical position"
   ]
  },
  {
   "cell_type": "code",
   "execution_count": null,
   "metadata": {},
   "outputs": [],
   "source": [
    "for channel in range(3):\n",
    "    ctl.SetProperty_i64(d_handle, channel, ctl.Property.POSITION, 0)"
   ]
  },
  {
   "cell_type": "code",
   "execution_count": null,
   "metadata": {},
   "outputs": [],
   "source": [
    "ctl.Property.REFERENCING_OPTIONS.flags"
   ]
  },
  {
   "cell_type": "code",
   "execution_count": null,
   "metadata": {},
   "outputs": [],
   "source": [
    "ctl.GetProperty_i64(d_handle, channel,ctl.Property.MOVE_VELOCITY)"
   ]
  },
  {
   "cell_type": "code",
   "execution_count": null,
   "metadata": {},
   "outputs": [],
   "source": [
    "channel=3"
   ]
  },
  {
   "cell_type": "code",
   "execution_count": null,
   "metadata": {},
   "outputs": [],
   "source": [
    "channel=0\n",
    "ctl.SetProperty_i64(d_handle, channel,ctl.Property.MOVE_VELOCITY, 5*10**8)\n",
    "ref_options = ctl.ReferencingOption.START_DIR | ctl.ReferencingOption.STOP_ON_REF_FOUND\n",
    "ctl.SetProperty_i32(d_handle, channel, ctl.Property.REFERENCING_OPTIONS, ref_options)\n",
    "ctl.Reference(d_handle, channel)"
   ]
  },
  {
   "cell_type": "code",
   "execution_count": 84,
   "metadata": {},
   "outputs": [
    {
     "data": {
      "text/plain": [
       "0"
      ]
     },
     "execution_count": 84,
     "metadata": {},
     "output_type": "execute_result"
    }
   ],
   "source": [
    "ctl.GetProperty_i64(d_handle, 1, ctl.Property.MOVE_ACCELERATION)"
   ]
  },
  {
   "cell_type": "code",
   "execution_count": 119,
   "metadata": {},
   "outputs": [
    {
     "data": {
      "text/plain": [
       "18500"
      ]
     },
     "execution_count": 119,
     "metadata": {},
     "output_type": "execute_result"
    }
   ],
   "source": [
    "ctl.GetProperty_i32(d_handle, 0, ctl.Property.MAX_CL_FREQUENCY)"
   ]
  },
  {
   "cell_type": "code",
   "execution_count": null,
   "metadata": {},
   "outputs": [],
   "source": [
    "state = ctl.GetProperty_i32(\n",
    "            d_handle, channel, ctl.Property.CHANNEL_STATE)\n",
    "is_referenced = (state & ctl.ChannelState.IS_REFERENCED) != 0\n",
    "print(is_referenced)"
   ]
  },
  {
   "cell_type": "code",
   "execution_count": null,
   "metadata": {},
   "outputs": [],
   "source": [
    "ctl.Move(d_handle, 0, 110*10**6, 0)"
   ]
  },
  {
   "cell_type": "code",
   "execution_count": null,
   "metadata": {},
   "outputs": [],
   "source": [
    "ctl.SetProperty_i64(d_handle, 0, ctl.Property.POSITION, 0)"
   ]
  },
  {
   "cell_type": "code",
   "execution_count": null,
   "metadata": {},
   "outputs": [],
   "source": [
    "control.stop()"
   ]
  },
  {
   "cell_type": "code",
   "execution_count": null,
   "metadata": {},
   "outputs": [],
   "source": [
    "ctl.Stop(d_handle, channel)"
   ]
  },
  {
   "cell_type": "code",
   "execution_count": 120,
   "metadata": {},
   "outputs": [],
   "source": [
    "ctl.Close(d_handle)"
   ]
  },
  {
   "cell_type": "markdown",
   "metadata": {},
   "source": [
    "### Using group commands"
   ]
  },
  {
   "cell_type": "code",
   "execution_count": 99,
   "metadata": {},
   "outputs": [],
   "source": [
    "#set all channels to absolute move mode\n",
    "for channel in range(n_channels):\n",
    "    ctl.SetProperty_i32(d_handle, channel, ctl.Property.MOVE_MODE, ctl.MoveMode.CL_RELATIVE)\n",
    "    ctl.SetProperty_i32(d_handle, channel, ctl.Property.HOLD_TIME, ctl.HOLD_TIME_INFINITE)\n",
    "    ctl.SetProperty_i64(d_handle, channel,ctl.Property.MOVE_VELOCITY, 1*10**9)\n",
    "    "
   ]
  },
  {
   "cell_type": "code",
   "execution_count": 106,
   "metadata": {},
   "outputs": [],
   "source": [
    "def move_command():\n",
    "    t_handle = ctl.OpenCommandGroup(d_handle, ctl.CmdGroupTriggerMode.DIRECT)\n",
    "\n",
    "    ctl.Move(d_handle, 0, 0, t_handle)\n",
    "    ctl.Move(d_handle, 1, 0, t_handle)\n",
    "\n",
    "    ctl.CloseCommandGroup(d_handle, t_handle)\n",
    "    t0 = time.time()\n",
    "    count_movement_finished = 0\n",
    "    while True:\n",
    "        event = ctl.WaitForEvent(d_handle, 10000)\n",
    "        print(ctl.GetEventInfo(event))\n",
    "        if event.type == ctl.EventType.MOVEMENT_FINISHED:\n",
    "            count_movement_finished += 1\n",
    "            if count_movement_finished == 2:\n",
    "                print('Group finished')\n",
    "                break"
   ]
  },
  {
   "cell_type": "code",
   "execution_count": 12,
   "metadata": {},
   "outputs": [],
   "source": [
    "r_id = [0]*6\n",
    "t_handle = ctl.OpenCommandGroup(d_handle, ctl.CmdGroupTriggerMode.DIRECT)\n",
    "\n",
    "ctl.Move(d_handle, 0, 10**6, t_handle)\n",
    "ctl.Move(d_handle, 1, -10**6, t_handle)\n",
    "\n",
    "ctl.CloseCommandGroup(d_handle, t_handle)"
   ]
  },
  {
   "cell_type": "code",
   "execution_count": 7,
   "metadata": {},
   "outputs": [
    {
     "data": {
      "text/plain": [
       "<EventType.CMD_GROUP_TRIGGERED: 32784>"
      ]
     },
     "execution_count": 7,
     "metadata": {},
     "output_type": "execute_result"
    }
   ],
   "source": [
    "ctl.EventType.CMD_GROUP_TRIGGERED"
   ]
  },
  {
   "cell_type": "code",
   "execution_count": 11,
   "metadata": {},
   "outputs": [
    {
     "data": {
      "text/plain": [
       "<EventType.MOVEMENT_FINISHED: 1>"
      ]
     },
     "execution_count": 11,
     "metadata": {},
     "output_type": "execute_result"
    }
   ],
   "source": [
    "ctl.EventType.MOVEMENT_FINISHED"
   ]
  },
  {
   "cell_type": "code",
   "execution_count": 107,
   "metadata": {},
   "outputs": [
    {
     "name": "stdout",
     "output_type": "stream",
     "text": [
      "command group triggered, handle: 13 (no error)\n",
      "movement finished, channel: 0 (no error)\n",
      "movement finished, channel: 1 (no error)\n",
      "Group finished\n",
      "0.0029680728912353516\n"
     ]
    }
   ],
   "source": [
    "t0 = time.time()\n",
    "# for i in range(1):\n",
    "move_command()\n",
    "print(time.time() - t0)"
   ]
  },
  {
   "cell_type": "code",
   "execution_count": 39,
   "metadata": {},
   "outputs": [
    {
     "data": {
      "text/plain": [
       "<EventType.MOVEMENT_FINISHED: 1>"
      ]
     },
     "execution_count": 39,
     "metadata": {},
     "output_type": "execute_result"
    }
   ],
   "source": [
    "ctl.EventType.MOVEMENT_FINISHED"
   ]
  },
  {
   "cell_type": "code",
   "execution_count": 26,
   "metadata": {},
   "outputs": [
    {
     "data": {
      "text/plain": [
       "47.9328125"
      ]
     },
     "execution_count": 26,
     "metadata": {},
     "output_type": "execute_result"
    }
   ],
   "source": [
    "0.0438838005065918*256**2/60"
   ]
  },
  {
   "cell_type": "code",
   "execution_count": 112,
   "metadata": {},
   "outputs": [
    {
     "data": {
      "text/plain": [
       "65536"
      ]
     },
     "execution_count": 112,
     "metadata": {},
     "output_type": "execute_result"
    }
   ],
   "source": [
    "256*256"
   ]
  },
  {
   "cell_type": "code",
   "execution_count": 118,
   "metadata": {},
   "outputs": [
    {
     "data": {
      "text/plain": [
       "3.2768"
      ]
     },
     "execution_count": 118,
     "metadata": {},
     "output_type": "execute_result"
    }
   ],
   "source": [
    "300/100000*256*256/60"
   ]
  },
  {
   "cell_type": "code",
   "execution_count": null,
   "metadata": {},
   "outputs": [],
   "source": [
    "ctl.Get"
   ]
  },
  {
   "cell_type": "code",
   "execution_count": 114,
   "metadata": {},
   "outputs": [
    {
     "data": {
      "text/plain": [
       "25.6"
      ]
     },
     "execution_count": 114,
     "metadata": {},
     "output_type": "execute_result"
    }
   ],
   "source": [
    "0.1*256"
   ]
  },
  {
   "cell_type": "code",
   "execution_count": 111,
   "metadata": {},
   "outputs": [
    {
     "data": {
      "text/plain": [
       "1.0922666666666667"
      ]
     },
     "execution_count": 111,
     "metadata": {},
     "output_type": "execute_result"
    }
   ],
   "source": [
    "0.001*256**2 /60"
   ]
  },
  {
   "cell_type": "code",
   "execution_count": null,
   "metadata": {},
   "outputs": [],
   "source": [
    "define_stream()\n",
    "\n",
    "stage.start_stream()\n",
    "start_time = woll.get_time()\n",
    "wait_for_finish()\n",
    "stop_time = woll.get_time()\n",
    "woll.get_data(start_time=start_time, end_time=end_time)\n"
   ]
  },
  {
   "cell_type": "markdown",
   "metadata": {},
   "source": [
    "### to test:\n",
    "- move across one of my structures\n",
    "- move back across the structure\n",
    "- see what is the difference"
   ]
  },
  {
   "cell_type": "markdown",
   "metadata": {},
   "source": [
    "# Using the custom smaract controller "
   ]
  },
  {
   "cell_type": "code",
   "execution_count": 1,
   "metadata": {},
   "outputs": [],
   "source": [
    "import os, sys\n",
    "import smaract.ctl as ctl\n",
    "import numpy as np\n",
    "sys.path.append('..')\n",
    "from control.controllers.smaract_control import SmaractControl\n",
    "import control"
   ]
  },
  {
   "cell_type": "code",
   "execution_count": 2,
   "metadata": {},
   "outputs": [],
   "source": [
    "\n",
    "locator = ctl.FindDevices()\n",
    "sc = SmaractControl(locator)"
   ]
  },
  {
   "cell_type": "code",
   "execution_count": 3,
   "metadata": {},
   "outputs": [
    {
     "data": {
      "text/plain": [
       "True"
      ]
     },
     "execution_count": 3,
     "metadata": {},
     "output_type": "execute_result"
    }
   ],
   "source": [
    "sc.is_referenced(3)"
   ]
  },
  {
   "cell_type": "code",
   "execution_count": null,
   "metadata": {},
   "outputs": [],
   "source": [
    "sc.reference(2, direction=0)"
   ]
  },
  {
   "cell_type": "code",
   "execution_count": null,
   "metadata": {},
   "outputs": [],
   "source": [
    "for channel in range(3):\n",
    "    sc.set_position(channel, 0)"
   ]
  },
  {
   "cell_type": "code",
   "execution_count": null,
   "metadata": {},
   "outputs": [],
   "source": [
    "sc.stop()"
   ]
  },
  {
   "cell_type": "code",
   "execution_count": null,
   "metadata": {},
   "outputs": [],
   "source": [
    "sc.is_moving()"
   ]
  },
  {
   "cell_type": "code",
   "execution_count": 4,
   "metadata": {},
   "outputs": [
    {
     "data": {
      "text/plain": [
       "-584784764"
      ]
     },
     "execution_count": 4,
     "metadata": {},
     "output_type": "execute_result"
    }
   ],
   "source": [
    "sc.get_position(0)"
   ]
  },
  {
   "cell_type": "code",
   "execution_count": null,
   "metadata": {},
   "outputs": [],
   "source": [
    "sc.ref"
   ]
  },
  {
   "cell_type": "code",
   "execution_count": null,
   "metadata": {},
   "outputs": [],
   "source": [
    "sc.set_position(2, 0)"
   ]
  },
  {
   "cell_type": "code",
   "execution_count": null,
   "metadata": {},
   "outputs": [],
   "source": [
    "sc.stop()"
   ]
  },
  {
   "cell_type": "code",
   "execution_count": null,
   "metadata": {},
   "outputs": [],
   "source": [
    "for channel in range(sc.n_channels):\n",
    "    sc.set_position(10000, channel)"
   ]
  },
  {
   "cell_type": "code",
   "execution_count": null,
   "metadata": {},
   "outputs": [],
   "source": [
    "for channel in range(3):\n",
    "    sc.set_velocity(channel, 10**6)"
   ]
  },
  {
   "cell_type": "code",
   "execution_count": null,
   "metadata": {},
   "outputs": [],
   "source": [
    "sc.stop()"
   ]
  },
  {
   "cell_type": "code",
   "execution_count": null,
   "metadata": {},
   "outputs": [],
   "source": [
    "sc.set_position(200000000, 0, wait=True)"
   ]
  },
  {
   "cell_type": "code",
   "execution_count": null,
   "metadata": {},
   "outputs": [],
   "source": [
    "ctl.Close(sc.d_handle)"
   ]
  },
  {
   "cell_type": "markdown",
   "metadata": {},
   "source": [
    "# Using the smaract instrument"
   ]
  },
  {
   "cell_type": "code",
   "execution_count": null,
   "metadata": {},
   "outputs": [],
   "source": [
    "import os, sys\n",
    "import smaract.ctl as ctl\n",
    "import numpy as np\n",
    "sys.path.append('..')\n",
    "from control.controllers.smaract_control import SmaractControl\n",
    "from control.instruments.basic.smaract import Smaract\n",
    "\n",
    "locator = ctl.FindDevices()\n",
    "control = SmaractControl(locator)\n",
    "sci = Smaract(control, axes={\"x\":0, \"y\":1, \"z\":2, \"phi\":3})\n",
    "\n",
    "sci.set_position({\"y\":0})"
   ]
  },
  {
   "cell_type": "code",
   "execution_count": null,
   "metadata": {},
   "outputs": [],
   "source": [
    "\n",
    "sci.set_velocity(1000000)"
   ]
  },
  {
   "cell_type": "code",
   "execution_count": null,
   "metadata": {},
   "outputs": [],
   "source": [
    "\n",
    "sci.set_position({\"x\":10000000})"
   ]
  },
  {
   "cell_type": "code",
   "execution_count": null,
   "metadata": {},
   "outputs": [],
   "source": [
    "control.reference(0, direction=-1)"
   ]
  },
  {
   "cell_type": "code",
   "execution_count": null,
   "metadata": {},
   "outputs": [],
   "source": [
    "control."
   ]
  },
  {
   "cell_type": "code",
   "execution_count": null,
   "metadata": {},
   "outputs": [],
   "source": [
    "control.stop()"
   ]
  },
  {
   "cell_type": "code",
   "execution_count": null,
   "metadata": {},
   "outputs": [],
   "source": [
    "sci.define_position([0, 0, ])"
   ]
  },
  {
   "cell_type": "code",
   "execution_count": null,
   "metadata": {},
   "outputs": [],
   "source": [
    "sci.get_data()"
   ]
  },
  {
   "cell_type": "code",
   "execution_count": null,
   "metadata": {},
   "outputs": [],
   "source": [
    "isinstance(np.array([1, 2]), np.ndarray)"
   ]
  },
  {
   "cell_type": "code",
   "execution_count": null,
   "metadata": {},
   "outputs": [],
   "source": [
    "sci.define_position([10000, 20000, 30000, 0])"
   ]
  },
  {
   "cell_type": "code",
   "execution_count": null,
   "metadata": {},
   "outputs": [],
   "source": [
    "sci.is_moving()"
   ]
  },
  {
   "cell_type": "code",
   "execution_count": null,
   "metadata": {},
   "outputs": [],
   "source": [
    "sci.define_position(1)"
   ]
  },
  {
   "cell_type": "markdown",
   "metadata": {},
   "source": [
    "# Using MOKE"
   ]
  },
  {
   "cell_type": "code",
   "execution_count": null,
   "metadata": {},
   "outputs": [],
   "source": [
    "import os, sys\n",
    "sys.path.append('..')\n",
    "from control.instruments.moke import Moke"
   ]
  },
  {
   "cell_type": "code",
   "execution_count": null,
   "metadata": {},
   "outputs": [],
   "source": [
    "mk = Moke()"
   ]
  },
  {
   "cell_type": "code",
   "execution_count": null,
   "metadata": {},
   "outputs": [],
   "source": [
    "mk.instruments['stage'].set_position({'x':0})"
   ]
  },
  {
   "cell_type": "code",
   "execution_count": null,
   "metadata": {},
   "outputs": [],
   "source": [
    "import numpy as np\n",
    "movement_range=[-1000, 1000]\n",
    "step=100\n",
    "np.arange(movement_range[0], movement_range[1]+step, step)"
   ]
  },
  {
   "cell_type": "code",
   "execution_count": null,
   "metadata": {},
   "outputs": [],
   "source": [
    "import numpy as np\n",
    "position = np.array([100, 0, 0, -45])\n",
    "angle = -45\n",
    "\n",
    "\n",
    "c, s = np.cos(np.deg2rad(angle)), np.sin(np.deg2rad(angle))\n",
    "R = np.array([[c, 0, -s], [0, 1, 0], [s, 0, c]])\n",
    "position.dot(R.T)"
   ]
  },
  {
   "cell_type": "code",
   "execution_count": null,
   "metadata": {},
   "outputs": [],
   "source": [
    "R"
   ]
  },
  {
   "cell_type": "code",
   "execution_count": null,
   "metadata": {},
   "outputs": [],
   "source": []
  }
 ],
 "metadata": {
  "kernelspec": {
   "display_name": "Python 3",
   "language": "python",
   "name": "python3"
  },
  "language_info": {
   "codemirror_mode": {
    "name": "ipython",
    "version": 3
   },
   "file_extension": ".py",
   "mimetype": "text/x-python",
   "name": "python",
   "nbconvert_exporter": "python",
   "pygments_lexer": "ipython3",
   "version": "3.6.5"
  }
 },
 "nbformat": 4,
 "nbformat_minor": 4
}
