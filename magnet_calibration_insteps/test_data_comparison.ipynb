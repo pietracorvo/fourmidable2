{
 "cells": [
  {
   "cell_type": "code",
   "execution_count": 1,
   "metadata": {},
   "outputs": [],
   "source": [
    "%matplotlib qt\n",
    "import numpy as np\n",
    "import pandas as pd\n",
    "import matplotlib.pyplot as plt\n",
    "import h5py\n",
    "import os\n",
    "from scipy.stats import binned_statistic\n",
    "from scipy.optimize import curve_fit\n",
    "import concurrent\n",
    "import pickle\n",
    "\n",
    "import matplotlib\n",
    "from mpl_toolkits import mplot3d\n",
    "font = {'size'   : 16}\n",
    "matplotlib.rc('font', **font)"
   ]
  },
  {
   "cell_type": "code",
   "execution_count": 2,
   "metadata": {},
   "outputs": [
    {
     "name": "stdout",
     "output_type": "stream",
     "text": [
      "True\n"
     ]
    }
   ],
   "source": [
    "file_path = r\"C:\\Users\\lukas\\OneDrive - University of Cambridge\\PhD\\3DMOKE\\Data\\MagnetCalibration\\magnet_calibration_test_current_hpcalib.h5\"\n",
    "print(os.path.isfile(file_path))\n",
    "out_folder = 'test_results1'\n",
    "try:\n",
    "    os.stat(out_folder)\n",
    "except:\n",
    "    os.mkdir(out_folder) \n",
    "poles = [0, 1, 2]\n",
    "poles_dict = {0:'A', 1:'B', 2:'C'}"
   ]
  },
  {
   "cell_type": "code",
   "execution_count": 53,
   "metadata": {},
   "outputs": [],
   "source": [
    "def filter_data(data, bin_step=100):\n",
    "    # to speed up, filter the high frequency stuff\n",
    "    t = data[:, 0].copy()\n",
    "    n = int(len(t)/bin_step)\n",
    "    data_bin = np.zeros((n, data.shape[1]))\n",
    "    for i in range(data.shape[1]):\n",
    "        data_bin[:, i] = binned_statistic(t, data[:, i], bins=int(len(t)/bin_step), statistic='mean').statistic\n",
    "    return data_bin\n",
    "# import rl coefficients\n",
    "with open('rl_coeff.p', 'rb') as f:\n",
    "    rl_coeff = pickle.load(f)"
   ]
  },
  {
   "cell_type": "markdown",
   "metadata": {},
   "source": [
    "### Test the sin signal generation"
   ]
  },
  {
   "cell_type": "code",
   "execution_count": 63,
   "metadata": {},
   "outputs": [
    {
     "data": {
      "text/plain": [
       "[<matplotlib.lines.Line2D at 0x2563daa8>,\n",
       " <matplotlib.lines.Line2D at 0x2563d490>,\n",
       " <matplotlib.lines.Line2D at 0x2563d760>]"
      ]
     },
     "execution_count": 63,
     "metadata": {},
     "output_type": "execute_result"
    }
   ],
   "source": [
    "plt.plot(hx_data[:, 1:])"
   ]
  },
  {
   "cell_type": "code",
   "execution_count": null,
   "metadata": {},
   "outputs": [],
   "source": [
    "%matplotlib qt\n",
    "# import the data\n",
    "# pole = 0\n",
    "\n",
    "directions_dict = ['X', 'Y', 'Z']\n",
    "errcolor = 'tab:green'\n",
    "with h5py.File(file_path, 'r') as f:\n",
    "    for pole in poles:\n",
    "        print(pole)\n",
    "        pole_grp = f['frequency_response/pole{}'.format(pole)]\n",
    "        for i, loop_grp in enumerate(pole_grp.values()):\n",
    "#             if i != 15:\n",
    "#                 continue\n",
    "            # get the desired signal\n",
    "            damp = loop_grp.attrs['desired_amplitude']\n",
    "            dfreq = loop_grp.attrs['desired_frequency']\n",
    "            period = loop_grp.attrs['period']\n",
    "            bin_step = np.ceil(100*period).astype(int)\n",
    "            Z = np.sqrt(rl_coeff[pole]['R']**2 + (np.pi*2*rl_coeff[pole]['L']/period)**2)\n",
    "            \n",
    "            # get the data\n",
    "            hp_data = filter_data(np.vstack([data_grp['hallprobe/data'][:]\n",
    "                                 for data_grp in loop_grp.values()]), bin_step = bin_step)\n",
    "            hp_data[:, 0] -= hp_data[0, 0]\n",
    "            hx_data = filter_data(np.vstack([data_grp['hexapole/data'][:]\n",
    "                                 for data_grp in loop_grp.values()]), bin_step = bin_step)\n",
    "            hx_data[:, 0] -= hx_data[0, 0]\n",
    "            \n",
    "            # check if compliance reached\n",
    "            voltage = np.max(np.abs(hx_data[:, pole+1])) * Z\n",
    "            if voltage > 20:\n",
    "                continue\n",
    "\n",
    "            # create the desired signal\n",
    "            t = hp_data[:, 0]\n",
    "            # create the desired signal\n",
    "            measured_signal = hp_data[:, pole+1].copy()\n",
    "            desired_signal = damp[pole]*np.sin(2*np.pi/period*(t - 0.015))\n",
    "\n",
    "            plt.close('all')\n",
    "            fig = plt.figure(figsize=(20, 6), dpi=100)\n",
    "            ax = fig.add_subplot()\n",
    "            ax.plot(t, measured_signal, label='Measured signal')\n",
    "            # make a note if compliance reached\n",
    "#             if compliance_reached:\n",
    "#                 ax.plot(t, desired_signal, label='Desired signal', color='red')\n",
    "#                 # Create empty plot with blank marker containing the extra label\n",
    "#                 ax.plot([], [], ' ', label=\"Compliance reached!\")\n",
    "#             else:\n",
    "            ax.plot(t, desired_signal, label='Desired signal')\n",
    "                \n",
    "                \n",
    "            # do the error analysis\n",
    "            err = np.abs((measured_signal - desired_signal))\n",
    "            idx = np.argmax(err)\n",
    "            maxerr = err[idx]\n",
    "            stderr = np.sqrt(np.mean(err**2))\n",
    "            s = 'Maximum error: {:.2f}mT\\nMSE error: {:.3f}mT'.format(maxerr, stderr)\n",
    "#             print(s)\n",
    "#             print(s)set_format(poles_dict[pole])+s)\n",
    "                \n",
    "            ax.set_xlabel('t [s]')\n",
    "            ax.set_ylabel('B [mT]')\n",
    "            plt.legend(loc='upper right')\n",
    "            plt.title('Sin signal direction {} \\nAmp: {:.2f}mT; Freq: {:.2f}Hz\\n'.format(directions_dict[pole], damp[pole], 1/period)\n",
    "                     +s)\n",
    "            \n",
    "            \n",
    "            # add the error plot on the other axes\n",
    "            ax2 = ax.twinx()\n",
    "            ax2.plot(t, measured_signal - desired_signal, color=errcolor, alpha=0.8,  label='Error')\n",
    "            ax2.set_ylabel('Error [V]', color=errcolor)\n",
    "#             ax2.set_ylim([-20, 20])\n",
    "            ax2.tick_params(axis='y', labelcolor=errcolor)\n",
    "\n",
    "            plt.tight_layout()\n",
    "            figname = 'sin_signal_pole{}_{}'.format(pole, i)\n",
    "            print(figname)\n",
    "            plt.savefig(os.path.join(out_folder, figname))\n",
    "#             if i==10:\n",
    "#                 break\n",
    "#             break\n",
    "#         break"
   ]
  },
  {
   "cell_type": "markdown",
   "metadata": {},
   "source": [
    "#### Test the lag"
   ]
  },
  {
   "cell_type": "code",
   "execution_count": 84,
   "metadata": {},
   "outputs": [
    {
     "name": "stdout",
     "output_type": "stream",
     "text": [
      "lag:  -0.017811787769132562\n"
     ]
    }
   ],
   "source": [
    "fft = np.fft.rfft(measured_signal)\n",
    "phase = np.angle(fft[np.argmax(np.absolute(fft))]) + np.pi/2\n",
    "print('lag: ', phase / (np.pi*2/period))"
   ]
  },
  {
   "cell_type": "markdown",
   "metadata": {},
   "source": [
    "### Test the random signal generation"
   ]
  },
  {
   "cell_type": "code",
   "execution_count": null,
   "metadata": {},
   "outputs": [],
   "source": [
    "desired_hp[:, pole+1] - hp_data[np.logical_and(t>5, t<10), pole+1]"
   ]
  },
  {
   "cell_type": "code",
   "execution_count": 50,
   "metadata": {},
   "outputs": [
    {
     "data": {
      "text/plain": [
       "array([[0.09426857, 0.1405991 ],\n",
       "       [0.19047218, 0.30158876],\n",
       "       [0.39420587, 0.44059002]])"
      ]
     },
     "execution_count": 50,
     "metadata": {},
     "output_type": "execute_result"
    }
   ],
   "source": [
    "np.random.rand(3, 2)"
   ]
  },
  {
   "cell_type": "code",
   "execution_count": 52,
   "metadata": {},
   "outputs": [
    {
     "data": {
      "text/plain": [
       "3.0"
      ]
     },
     "execution_count": 52,
     "metadata": {},
     "output_type": "execute_result"
    }
   ],
   "source": [
    "np.float(3)"
   ]
  },
  {
   "cell_type": "code",
   "execution_count": 51,
   "metadata": {},
   "outputs": [
    {
     "data": {
      "text/plain": [
       "array([[0.30281928, 0.84447672],\n",
       "       [0.46359257, 0.18444557],\n",
       "       [0.44519537, 0.30148051],\n",
       "       [0.07241305, 0.17995247]])"
      ]
     },
     "execution_count": 51,
     "metadata": {},
     "output_type": "execute_result"
    }
   ],
   "source": [
    "np.concatenate((np.random.rand(3, 2), np.random.rand(1, 2)), axis=0)"
   ]
  },
  {
   "cell_type": "code",
   "execution_count": 98,
   "metadata": {},
   "outputs": [
    {
     "data": {
      "text/plain": [
       "array([[ 0.        ,  4.19029792,  0.        ,  0.        ],\n",
       "       [ 0.01      ,  2.05736912,  0.        ,  0.        ],\n",
       "       [ 0.02      , -0.46886885,  0.        ,  0.        ],\n",
       "       ...,\n",
       "       [ 4.97      ,  4.51568967,  0.        ,  0.        ],\n",
       "       [ 4.98      ,  5.52800981,  0.        ,  0.        ],\n",
       "       [ 4.99      ,  5.43407599,  0.        ,  0.        ]])"
      ]
     },
     "execution_count": 98,
     "metadata": {},
     "output_type": "execute_result"
    }
   ],
   "source": [
    "desired_hp"
   ]
  },
  {
   "cell_type": "code",
   "execution_count": 97,
   "metadata": {},
   "outputs": [
    {
     "data": {
      "text/plain": [
       "array([[5.43407599, 0.        , 0.        ],\n",
       "       [4.19029792, 0.        , 0.        ],\n",
       "       [2.05736912, 0.        , 0.        ],\n",
       "       ...,\n",
       "       [2.71992326, 0.        , 0.        ],\n",
       "       [4.51568967, 0.        , 0.        ],\n",
       "       [5.52800981, 0.        , 0.        ]])"
      ]
     },
     "execution_count": 97,
     "metadata": {},
     "output_type": "execute_result"
    }
   ],
   "source": [
    "desired_hp1 = np.roll(desired_hp[:, 1:], 1, axis=0)\n",
    "desired_hp1"
   ]
  },
  {
   "cell_type": "code",
   "execution_count": 103,
   "metadata": {},
   "outputs": [
    {
     "name": "stdout",
     "output_type": "stream",
     "text": [
      "Maximum error: 3.76mT\n",
      "Std error: 1.002mT\n",
      "Maximum error: 0.48mT\n",
      "Std error: 0.338mT\n",
      "Maximum error: 0.80mT\n",
      "Std error: 0.113mT\n",
      "Maximum error: 2.44mT\n",
      "Std error: 0.769mT\n",
      "Maximum error: 3.90mT\n",
      "Std error: 1.138mT\n",
      "Maximum error: 4.19mT\n",
      "Std error: 1.415mT\n",
      "Maximum error: 3.92mT\n",
      "Std error: 1.063mT\n",
      "Maximum error: 3.05mT\n",
      "Std error: 0.923mT\n",
      "Maximum error: 2.21mT\n",
      "Std error: 0.749mT\n"
     ]
    }
   ],
   "source": [
    "# import the data\n",
    "# pole = 0\n",
    "# directions_dict = ['x', 'y', 'z']\n",
    "# file_path = r\"C:\\Users\\lukas\\OneDrive - University of Cambridge\\PhD\\3DMOKE\\Data\\MagnetCalibration\\magnet_calibration_test_hystcalib3.h5\"\n",
    "lag = 0.015\n",
    "with h5py.File(file_path, 'r') as f:\n",
    "    test_groups = f['test_response']\n",
    "    for i, test_group in enumerate(test_groups.values()):\n",
    "        # get the data\n",
    "        hp_data = filter_data(test_group['hallprobe/data'][:])\n",
    "        hp_data[:, 0] -= hp_data[0, 0]\n",
    "        hx_data = filter_data(test_group['hallprobe/data'][:])\n",
    "        hx_data[:, 0] -= hx_data[0, 0]\n",
    "        desired_hp = filter_data(test_group['desired_output'][:])\n",
    "        \n",
    "        desired_hp[:, 1:] = np.roll(desired_hp[:, 1:], 1, axis=0)\n",
    "\n",
    "        # show the signal\n",
    "        t = hp_data[:, 0]\n",
    "        td = desired_hp[:, 0]\n",
    "        td -= td[0]\n",
    "\n",
    "        plt.close('all')\n",
    "        plt.figure(figsize=(8, 12), dpi=100)\n",
    "        for pole in poles:\n",
    "            ax = plt.subplot(3, 1, pole+1)\n",
    "            ax.plot(td+5, desired_hp[:, pole+1], label='Desired signal')\n",
    "            ax.plot(t, hp_data[:, pole+1], label='Measured signal')\n",
    "            plt.xlabel('t [s]')\n",
    "            plt.ylabel('B [mT]')\n",
    "            plt.legend(loc='upper right')\n",
    "            plt.xlim(5, 10)\n",
    "            if np.max(np.abs(hp_data[:, pole+1]))<2:\n",
    "                plt.ylim([-2, 2])\n",
    "                \n",
    "             # do the error analysis\n",
    "            err = desired_hp[:, pole+1] - hp_data[t>=5, pole+1][:500]\n",
    "            idx = np.argmax(np.abs(err))\n",
    "            maxerr = np.abs(err[idx])\n",
    "            stderr = np.sqrt(np.mean(err**2))\n",
    "            s = 'Maximum error: {:.2f}mT\\nStd error: {:.3f}mT'.format(maxerr, stderr)\n",
    "            print(s)\n",
    "            \n",
    "            \n",
    "            # add the error plot on the other axes\n",
    "            ax2 = ax.twinx()\n",
    "            ax2.plot(t[t>=5][:500], err, color=errcolor, alpha=0.6,  label='Error')\n",
    "            ax2.set_ylabel('Error [mT]', color=errcolor)\n",
    "#             ax2.set_ylim([-20, 20])\n",
    "            ax2.tick_params(axis='y', labelcolor=errcolor)\n",
    "    \n",
    "            plt.title('Random signal direction {}, test {}\\n'.format(directions_dict[pole], i)\n",
    "                     +s)\n",
    "            \n",
    "#             break\n",
    "\n",
    "        plt.tight_layout()\n",
    "#         break\n",
    "        plt.savefig(os.path.join(out_folder, 'random_signal_{}'.format(i)))"
   ]
  },
  {
   "cell_type": "code",
   "execution_count": null,
   "metadata": {},
   "outputs": [],
   "source": []
  }
 ],
 "metadata": {
  "kernelspec": {
   "display_name": "Python 3",
   "language": "python",
   "name": "python3"
  },
  "language_info": {
   "codemirror_mode": {
    "name": "ipython",
    "version": 3
   },
   "file_extension": ".py",
   "mimetype": "text/x-python",
   "name": "python",
   "nbconvert_exporter": "python",
   "pygments_lexer": "ipython3",
   "version": "3.8.0"
  }
 },
 "nbformat": 4,
 "nbformat_minor": 4
}
